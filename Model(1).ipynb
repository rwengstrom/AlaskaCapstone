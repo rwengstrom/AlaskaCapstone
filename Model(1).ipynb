{
 "cells": [
  {
   "cell_type": "markdown",
   "metadata": {},
   "source": [
    "Import data from Data Cleaning output"
   ]
  },
  {
   "cell_type": "code",
   "execution_count": 202,
   "metadata": {},
   "outputs": [],
   "source": [
    "import pandas as pd\n",
    "import numpy as np\n",
    "from sklearn import preprocessing\n",
    "import matplotlib.pyplot as plt\n",
    "import seaborn as sns\n",
    "from sklearn.preprocessing import StandardScaler\n",
    "from sklearn.model_selection import train_test_split\n",
    "from sklearn.linear_model import LogisticRegression\n",
    "from sklearn.metrics import log_loss, roc_auc_score, recall_score, precision_score, average_precision_score, f1_score, classification_report, accuracy_score, plot_roc_curve, plot_precision_recall_curve, plot_confusion_matrix\n",
    "\n",
    "\n",
    "pd.set_option('display.float_format', lambda x: '%.5f' % x)"
   ]
  },
  {
   "cell_type": "code",
   "execution_count": 203,
   "metadata": {},
   "outputs": [
    {
     "data": {
      "text/plain": [
       "Index(['participant.code', 'question', 'choice_binary', 'rowA_', 'rowB_',\n",
       "       'rowdiff', 'price_diff', 'price_diff_rel', 'legroom_diff',\n",
       "       'bathroom_dist_diff', 'distance_', 'price_', 'colA_categorical_Aisle',\n",
       "       'colA_categorical_Middle', 'colA_categorical_Window',\n",
       "       'colB_categorical_Aisle', 'colB_categorical_Middle',\n",
       "       'colB_categorical_Window', 'seatA_class_Bathroom',\n",
       "       'seatA_class_Economy', 'seatA_class_ExitRow', 'seatA_class_First',\n",
       "       'seatA_class_Premium', 'seatB_class_Bathroom', 'seatB_class_Economy',\n",
       "       'seatB_class_ExitRow', 'seatB_class_First', 'seatB_class_Premium',\n",
       "       'plane_sideA_Left', 'plane_sideA_Right', 'plane_sideB_Left',\n",
       "       'plane_sideB_Right', 'time__Daytime', 'time__Red-eye',\n",
       "       'flyerfreq_nonflyer', 'flyerfreq_typical', 'flyerfreq_frequent',\n",
       "       'flyertype_leisure', 'flyertype_business', 'hours_short',\n",
       "       'hours_typical', 'hours_long'],\n",
       "      dtype='object')"
      ]
     },
     "execution_count": 203,
     "metadata": {},
     "output_type": "execute_result"
    }
   ],
   "source": [
    "df = pd.read_csv(\"C:/Users/Owner/Desktop/AlaskaProject/Data/modeldata.csv\")\n",
    "df.columns"
   ]
  },
  {
   "cell_type": "markdown",
   "metadata": {},
   "source": [
    "Column Cleanup"
   ]
  },
  {
   "cell_type": "code",
   "execution_count": 204,
   "metadata": {},
   "outputs": [],
   "source": [
    "df.drop(['participant.code','question'],inplace = True, axis = 1)\n",
    "df.rename(columns={'time__Red-eye':'time_redeye'}, inplace=True)"
   ]
  },
  {
   "cell_type": "markdown",
   "metadata": {},
   "source": [
    "Define variables and train/test split"
   ]
  },
  {
   "cell_type": "code",
   "execution_count": 205,
   "metadata": {},
   "outputs": [],
   "source": [
    "df_train = df.sample(frac = 0.8)\n",
    "df_test = df.drop(df_train.index)"
   ]
  },
  {
   "cell_type": "markdown",
   "metadata": {},
   "source": [
    "Scale continuous variables"
   ]
  },
  {
   "cell_type": "code",
   "execution_count": 206,
   "metadata": {},
   "outputs": [],
   "source": [
    "# Scaled Variables\n",
    "#Legroom\n",
    "#df_train[\"legroom_diff\"] = preprocessing.scale(pd.to_numeric(df_train[\"legroom_diff\"]))\n",
    "#df_test[\"legroom_diff\"] = preprocessing.scale(pd.to_numeric(df_test[\"legroom_diff\"]))\n",
    "#df[\"legroom_diff\"] = preprocessing.scale(pd.to_numeric(df[\"legroom_diff\"]))\n",
    "\n",
    "#Variable Price\n",
    "df_train[\"price_diff\"] = preprocessing.scale(pd.to_numeric(df_train[\"price_diff\"]))\n",
    "df_test[\"price_diff\"] = preprocessing.scale(pd.to_numeric(df_test[\"price_diff\"]))\n",
    "df[\"price_diff\"] = preprocessing.scale(pd.to_numeric(df[\"price_diff\"]))\n"
   ]
  },
  {
   "cell_type": "markdown",
   "metadata": {},
   "source": [
    "Define Y and Features"
   ]
  },
  {
   "cell_type": "code",
   "execution_count": 207,
   "metadata": {},
   "outputs": [],
   "source": [
    "# Define output variable\n",
    "y_dftrain = df_train.choice_binary\n",
    "# Drop output variable from dataset to form input vector\n",
    "X_dftrain = df_train.drop('choice_binary', axis=1)\n",
    "\n",
    "# Define output variable\n",
    "y_dftest = df_test.choice_binary\n",
    "# Drop output variable from dataset to form input vector\n",
    "X_dftest = df_test.drop('choice_binary', axis=1)\n",
    "\n"
   ]
  },
  {
   "cell_type": "markdown",
   "metadata": {},
   "source": [
    "Create Basic Logistic Regression with no interaction terms"
   ]
  },
  {
   "cell_type": "code",
   "execution_count": 208,
   "metadata": {},
   "outputs": [
    {
     "name": "stdout",
     "output_type": "stream",
     "text": [
      "Warning: Maximum number of iterations has been exceeded.\n",
      "         Current function value: 0.504556\n",
      "         Iterations: 35\n",
      "                                      Results: Logit\n",
      "==========================================================================================\n",
      "Model:                        Logit                    Pseudo R-squared:         0.269    \n",
      "Dependent Variable:           choice_binary            AIC:                      4887.6315\n",
      "Date:                         2021-05-27 15:50         BIC:                      5068.8998\n",
      "No. Observations:             4788                     Log-Likelihood:           -2415.8  \n",
      "Df Model:                     27                       LL-Null:                  -3305.5  \n",
      "Df Residuals:                 4760                     LLR p-value:              0.0000   \n",
      "Converged:                    0.0000                   Scale:                    1.0000   \n",
      "No. Iterations:               35.0000                                                     \n",
      "------------------------------------------------------------------------------------------\n",
      "                          Coef.     Std.Err.      z    P>|z|      [0.025         0.975]   \n",
      "------------------------------------------------------------------------------------------\n",
      "rowA_                    206.7431  241136.4356  0.0009 0.9993   -472411.9861   472825.4723\n",
      "rowB_                   -206.4252  260930.6394 -0.0008 0.9994   -511621.0808   511208.2304\n",
      "rowdiff                 -206.5290  396877.3475 -0.0005 0.9996   -778071.8365   777658.7784\n",
      "price_diff                -0.2185       0.1255 -1.7405 0.0818        -0.4645        0.0275\n",
      "price_diff_rel            -1.2222       0.2788 -4.3830 0.0000        -1.7687       -0.6757\n",
      "legroom_diff               0.1113       0.0711  1.5658 0.1174        -0.0280        0.2506\n",
      "bathroom_dist_diff        -0.0826          nan     nan    nan            nan           nan\n",
      "distance_                 -0.0867       0.0848 -1.0229 0.3063        -0.2529        0.0794\n",
      "price_                     0.0004       0.0009  0.4497 0.6529        -0.0014        0.0022\n",
      "colA_categorical_Aisle    -1.2320 5766727.0511 -0.0000 1.0000 -11302578.5607 11302576.0968\n",
      "colA_categorical_Middle   -1.6888 5528174.9423 -0.0000 1.0000 -10835025.4759 10835022.0983\n",
      "colA_categorical_Window   -0.2788 6002422.3734 -0.0000 1.0000 -11764531.9506 11764531.3930\n",
      "colB_categorical_Aisle    -1.8352          nan     nan    nan            nan           nan\n",
      "colB_categorical_Middle    0.7420          nan     nan    nan            nan           nan\n",
      "colB_categorical_Window   -2.1063          nan     nan    nan            nan           nan\n",
      "seatA_class_Bathroom      -4.1795 8622120.2932 -0.0000 1.0000 -16899049.4246 16899041.0657\n",
      "seatA_class_Economy        1.4556 8458684.6234  0.0000 1.0000 -16578715.7629 16578718.6741\n",
      "seatA_class_ExitRow        0.8989 8589807.8544  0.0000 1.0000 -16835713.1299 16835714.9277\n",
      "seatA_class_First          4.7429 8431468.5685  0.0000 1.0000 -16525369.9882 16525379.4740\n",
      "seatA_class_Premium        3.3019 8681848.3728  0.0000 1.0000 -17016106.8281 17016113.4320\n",
      "seatB_class_Bathroom       0.0458 9347370.7170  0.0000 1.0000 -18320509.9096 18320510.0012\n",
      "seatB_class_Economy       -0.2657 8984001.9210 -0.0000 1.0000 -17608320.4678 17608319.9365\n",
      "seatB_class_ExitRow       -1.7139 8995241.1201 -0.0000 1.0000 -17630350.3416 17630346.9137\n",
      "seatB_class_First          0.5576 8881477.4346  0.0000 1.0000 -17407375.3437 17407376.4589\n",
      "seatB_class_Premium       -0.5015 8839725.8645 -0.0000 1.0000 -17325544.8290 17325543.8261\n",
      "plane_sideA_Left          -0.3906          nan     nan    nan            nan           nan\n",
      "plane_sideA_Right         -0.5953          nan     nan    nan            nan           nan\n",
      "plane_sideB_Left          -0.3149          nan     nan    nan            nan           nan\n",
      "plane_sideB_Right         -0.8146 4321871.4072 -0.0000 1.0000  -8470713.1186  8470711.4894\n",
      "time__Daytime             -0.5062 6033329.7525 -0.0000 1.0000 -11825109.5280 11825108.5156\n",
      "time_redeye               -0.6234 6298953.7399 -0.0000 1.0000 -12345723.0938 12345721.8471\n",
      "flyerfreq_nonflyer        -0.5400          nan     nan    nan            nan           nan\n",
      "flyerfreq_typical         -0.3889          nan     nan    nan            nan           nan\n",
      "flyerfreq_frequent        -0.2006          nan     nan    nan            nan           nan\n",
      "flyertype_leisure         -0.5311 4545468.5409 -0.0000 1.0000  -8908955.1640  8908954.1019\n",
      "flyertype_business        -0.5985 4699820.8106 -0.0000 1.0000  -9211480.1210  9211478.9240\n",
      "hours_short               -0.4376 8256095.4331 -0.0000 1.0000 -16181650.1394 16181649.2641\n",
      "hours_typical             -0.3983 8256095.4331 -0.0000 1.0000 -16181650.1001 16181649.3034\n",
      "hours_long                -0.2936 8256095.4331 -0.0000 1.0000 -16181649.9953 16181649.4082\n",
      "==========================================================================================\n",
      "\n"
     ]
    },
    {
     "name": "stderr",
     "output_type": "stream",
     "text": [
      "C:\\ProgramData\\Anaconda3\\lib\\site-packages\\statsmodels\\base\\model.py:566: ConvergenceWarning: Maximum Likelihood optimization failed to converge. Check mle_retvals\n",
      "  warnings.warn(\"Maximum Likelihood optimization failed to \"\n"
     ]
    }
   ],
   "source": [
    "import statsmodels.api as sm\n",
    "logitmodel=sm.Logit(y_dftrain,X_dftrain)\n",
    "logresult=logitmodel.fit()\n",
    "print(logresult.summary2())"
   ]
  },
  {
   "cell_type": "markdown",
   "metadata": {},
   "source": [
    "Create a baseline model based on seat features, excluding flight and passenger characteristics"
   ]
  },
  {
   "cell_type": "code",
   "execution_count": 261,
   "metadata": {},
   "outputs": [
    {
     "name": "stdout",
     "output_type": "stream",
     "text": [
      "Optimization terminated successfully.\n",
      "         Current function value: 0.510108\n",
      "         Iterations 7\n",
      "                                         Results: Logit\n",
      "================================================================================================\n",
      "Model:                          Logit                      Pseudo R-squared:           0.261    \n",
      "Dependent Variable:             choice_binary              AIC:                        4922.7912\n",
      "Date:                           2021-05-27 16:09           BIC:                        5045.7947\n",
      "No. Observations:               4788                       Log-Likelihood:             -2442.4  \n",
      "Df Model:                       18                         LL-Null:                    -3305.5  \n",
      "Df Residuals:                   4769                       LLR p-value:                0.0000   \n",
      "Converged:                      1.0000                     Scale:                      1.0000   \n",
      "No. Iterations:                 7.0000                                                          \n",
      "------------------------------------------------------------------------------------------------\n",
      "                                                 Coef.  Std.Err.    z     P>|z|   [0.025  0.975]\n",
      "------------------------------------------------------------------------------------------------\n",
      "Intercept                                        1.6699   0.2202   7.5826 0.0000  1.2383  2.1015\n",
      "rowA_                                           -0.1438   0.0194  -7.4073 0.0000 -0.1818 -0.1057\n",
      "rowdiff                                         -0.0375   0.0107  -3.4935 0.0005 -0.0586 -0.0165\n",
      "price_diff                                      -0.3230   0.1266  -2.5519 0.0107 -0.5711 -0.0749\n",
      "legroom_diff                                     0.0503   0.0712   0.7065 0.4798 -0.0893  0.1899\n",
      "price_diff_rel                                  -1.1142   0.2660  -4.1886 0.0000 -1.6355 -0.5928\n",
      "colB_categorical_Window:colA_categorical_Aisle   1.0668   0.2777   3.8410 0.0001  0.5225  1.6112\n",
      "colB_categorical_Window:colA_categorical_Middle -3.0499   0.2770 -11.0095 0.0000 -3.5929 -2.5070\n",
      "colB_categorical_Aisle:colA_categorical_Middle  -0.3329   0.1983  -1.6787 0.0932 -0.7217  0.0558\n",
      "colB_categorical_Aisle:colA_categorical_Window   0.8327   0.1498   5.5590 0.0000  0.5391  1.1263\n",
      "colB_categorical_Middle:colA_categorical_Window  3.1175   0.2484  12.5512 0.0000  2.6307  3.6043\n",
      "seatB_class_Economy:seatA_class_Bathroom         1.3403   0.3366   3.9816 0.0001  0.6805  2.0001\n",
      "seatB_class_Bathroom:seatA_class_Economy         0.6999   0.2383   2.9377 0.0033  0.2330  1.1669\n",
      "seatB_class_ExitRow:seatA_class_Economy          0.3104   0.2048   1.5158 0.1296 -0.0910  0.7118\n",
      "seatB_class_Premium:seatA_class_ExitRow         -0.9021   0.3753  -2.4040 0.0162 -1.6376 -0.1666\n",
      "seatB_class_Economy:seatA_class_First           -1.5118   0.4212  -3.5889 0.0003 -2.3374 -0.6861\n",
      "seatB_class_Economy:seatA_class_Premium         -2.2253   0.3141  -7.0837 0.0000 -2.8411 -1.6096\n",
      "seatB_class_First:seatA_class_Premium           -0.6968   0.2355  -2.9594 0.0031 -1.1583 -0.2353\n",
      "plane_sideA_Left:plane_sideB_Right              -1.4120   0.1324 -10.6687 0.0000 -1.6714 -1.1526\n",
      "================================================================================================\n",
      "\n"
     ]
    }
   ],
   "source": [
    "import statsmodels.formula.api  as smf\n",
    "\n",
    "\n",
    "baseline=smf.logit(\"\"\"\n",
    "                    choice_binary ~ \n",
    "                    \n",
    "                    \n",
    "                    +rowA_\n",
    "                    +rowdiff\n",
    "                    \n",
    "                    +price_diff \n",
    "                    +legroom_diff\n",
    "                    +price_diff_rel \n",
    "                    \n",
    "                    +colB_categorical_Window : colA_categorical_Aisle\n",
    "                    +colB_categorical_Window : colA_categorical_Middle \n",
    "                    +colB_categorical_Aisle : colA_categorical_Middle \n",
    "                    +colB_categorical_Aisle : colA_categorical_Window \n",
    "                    +colB_categorical_Middle : colA_categorical_Window\n",
    "                    -colB_categorical_Middle : colA_categorical_Aisle\n",
    "\n",
    "                    +seatB_class_Economy : seatA_class_Bathroom \n",
    "                    +seatB_class_Bathroom : seatA_class_Economy \n",
    "                    +seatB_class_ExitRow : seatA_class_Economy\n",
    "                    +seatB_class_Premium : seatA_class_ExitRow\n",
    "                    +seatB_class_Economy : seatA_class_First\n",
    "                    +seatB_class_Economy : seatA_class_Premium \n",
    "                    +seatB_class_First : seatA_class_Premium\n",
    "\n",
    "                    +plane_sideA_Left : plane_sideB_Right                                      \n",
    "\n",
    "                    \"\"\", data = df_train)\n",
    "                    \n",
    "\n",
    "baselineresult=baseline.fit( maxiter = 500)\n",
    "\n",
    "print(baselineresult.summary2())"
   ]
  },
  {
   "cell_type": "code",
   "execution_count": 243,
   "metadata": {},
   "outputs": [
    {
     "data": {
      "text/html": [
       "<div>\n",
       "<style scoped>\n",
       "    .dataframe tbody tr th:only-of-type {\n",
       "        vertical-align: middle;\n",
       "    }\n",
       "\n",
       "    .dataframe tbody tr th {\n",
       "        vertical-align: top;\n",
       "    }\n",
       "\n",
       "    .dataframe thead th {\n",
       "        text-align: right;\n",
       "    }\n",
       "</style>\n",
       "<table border=\"1\" class=\"dataframe\">\n",
       "  <thead>\n",
       "    <tr style=\"text-align: right;\">\n",
       "      <th></th>\n",
       "      <th>coef</th>\n",
       "      <th>odds ratio</th>\n",
       "      <th>pvalue</th>\n",
       "    </tr>\n",
       "  </thead>\n",
       "  <tbody>\n",
       "    <tr>\n",
       "      <th>colB_categorical_Middle:colA_categorical_Window</th>\n",
       "      <td>3.06831</td>\n",
       "      <td>21.50551</td>\n",
       "      <td>0.00000</td>\n",
       "    </tr>\n",
       "    <tr>\n",
       "      <th>seatB_class_Bathroom:seatA_class_Economy</th>\n",
       "      <td>1.06642</td>\n",
       "      <td>2.90496</td>\n",
       "      <td>0.00000</td>\n",
       "    </tr>\n",
       "    <tr>\n",
       "      <th>colB_categorical_Aisle:colA_categorical_Window</th>\n",
       "      <td>0.51425</td>\n",
       "      <td>1.67238</td>\n",
       "      <td>0.00038</td>\n",
       "    </tr>\n",
       "    <tr>\n",
       "      <th>Intercept</th>\n",
       "      <td>0.20604</td>\n",
       "      <td>1.22880</td>\n",
       "      <td>0.01799</td>\n",
       "    </tr>\n",
       "    <tr>\n",
       "      <th>legroom_diff</th>\n",
       "      <td>0.12318</td>\n",
       "      <td>1.13109</td>\n",
       "      <td>0.05136</td>\n",
       "    </tr>\n",
       "    <tr>\n",
       "      <th>seatB_class_Economy:seatA_class_First</th>\n",
       "      <td>-0.01899</td>\n",
       "      <td>0.98119</td>\n",
       "      <td>0.95947</td>\n",
       "    </tr>\n",
       "    <tr>\n",
       "      <th>rowA_:time_redeye</th>\n",
       "      <td>-0.02396</td>\n",
       "      <td>0.97632</td>\n",
       "      <td>0.00000</td>\n",
       "    </tr>\n",
       "    <tr>\n",
       "      <th>colB_categorical_Window:colA_categorical_Aisle</th>\n",
       "      <td>-0.03218</td>\n",
       "      <td>0.96833</td>\n",
       "      <td>0.89307</td>\n",
       "    </tr>\n",
       "    <tr>\n",
       "      <th>seatB_class_ExitRow:seatA_class_Economy</th>\n",
       "      <td>-0.32287</td>\n",
       "      <td>0.72407</td>\n",
       "      <td>0.05432</td>\n",
       "    </tr>\n",
       "    <tr>\n",
       "      <th>seatB_class_First:seatA_class_Premium</th>\n",
       "      <td>-0.52156</td>\n",
       "      <td>0.59360</td>\n",
       "      <td>0.02155</td>\n",
       "    </tr>\n",
       "    <tr>\n",
       "      <th>colB_categorical_Aisle:colA_categorical_Middle</th>\n",
       "      <td>-0.67420</td>\n",
       "      <td>0.50956</td>\n",
       "      <td>0.00026</td>\n",
       "    </tr>\n",
       "    <tr>\n",
       "      <th>price_diff</th>\n",
       "      <td>-0.74907</td>\n",
       "      <td>0.47280</td>\n",
       "      <td>0.00000</td>\n",
       "    </tr>\n",
       "    <tr>\n",
       "      <th>seatB_class_Economy:seatA_class_Premium</th>\n",
       "      <td>-0.91273</td>\n",
       "      <td>0.40143</td>\n",
       "      <td>0.00052</td>\n",
       "    </tr>\n",
       "    <tr>\n",
       "      <th>seatB_class_Economy:seatA_class_Bathroom</th>\n",
       "      <td>-0.99071</td>\n",
       "      <td>0.37131</td>\n",
       "      <td>0.00000</td>\n",
       "    </tr>\n",
       "    <tr>\n",
       "      <th>plane_sideA_Left:plane_sideB_Right</th>\n",
       "      <td>-1.18278</td>\n",
       "      <td>0.30642</td>\n",
       "      <td>0.00000</td>\n",
       "    </tr>\n",
       "    <tr>\n",
       "      <th>seatB_class_Premium:seatA_class_ExitRow</th>\n",
       "      <td>-1.66992</td>\n",
       "      <td>0.18826</td>\n",
       "      <td>0.00000</td>\n",
       "    </tr>\n",
       "    <tr>\n",
       "      <th>colB_categorical_Window:colA_categorical_Middle</th>\n",
       "      <td>-2.71194</td>\n",
       "      <td>0.06641</td>\n",
       "      <td>0.00000</td>\n",
       "    </tr>\n",
       "  </tbody>\n",
       "</table>\n",
       "</div>"
      ],
      "text/plain": [
       "                                                    coef  odds ratio  pvalue\n",
       "colB_categorical_Middle:colA_categorical_Window  3.06831    21.50551 0.00000\n",
       "seatB_class_Bathroom:seatA_class_Economy         1.06642     2.90496 0.00000\n",
       "colB_categorical_Aisle:colA_categorical_Window   0.51425     1.67238 0.00038\n",
       "Intercept                                        0.20604     1.22880 0.01799\n",
       "legroom_diff                                     0.12318     1.13109 0.05136\n",
       "seatB_class_Economy:seatA_class_First           -0.01899     0.98119 0.95947\n",
       "rowA_:time_redeye                               -0.02396     0.97632 0.00000\n",
       "colB_categorical_Window:colA_categorical_Aisle  -0.03218     0.96833 0.89307\n",
       "seatB_class_ExitRow:seatA_class_Economy         -0.32287     0.72407 0.05432\n",
       "seatB_class_First:seatA_class_Premium           -0.52156     0.59360 0.02155\n",
       "colB_categorical_Aisle:colA_categorical_Middle  -0.67420     0.50956 0.00026\n",
       "price_diff                                      -0.74907     0.47280 0.00000\n",
       "seatB_class_Economy:seatA_class_Premium         -0.91273     0.40143 0.00052\n",
       "seatB_class_Economy:seatA_class_Bathroom        -0.99071     0.37131 0.00000\n",
       "plane_sideA_Left:plane_sideB_Right              -1.18278     0.30642 0.00000\n",
       "seatB_class_Premium:seatA_class_ExitRow         -1.66992     0.18826 0.00000\n",
       "colB_categorical_Window:colA_categorical_Middle -2.71194     0.06641 0.00000"
      ]
     },
     "execution_count": 243,
     "metadata": {},
     "output_type": "execute_result"
    }
   ],
   "source": [
    "feature_names = logresult2.params.index\n",
    "coefficients = logresult2.params.values\n",
    "\n",
    "coefs = pd.DataFrame({\n",
    "    'coef': coefficients,\n",
    "    'odds ratio': np.exp(logresult2.params.values),\n",
    "    'pvalue': logresult2.pvalues,\n",
    "}).sort_values(by='odds ratio', ascending=False)\n",
    "coefs"
   ]
  },
  {
   "cell_type": "markdown",
   "metadata": {},
   "source": [
    "Check the Confusion Matrix"
   ]
  },
  {
   "cell_type": "code",
   "execution_count": 244,
   "metadata": {},
   "outputs": [
    {
     "data": {
      "text/plain": [
       "5      0.37832\n",
       "10     0.16324\n",
       "15     0.29776\n",
       "22     0.08189\n",
       "24     0.93734\n",
       "         ...  \n",
       "5949   0.21285\n",
       "5960   0.56932\n",
       "5971   0.25822\n",
       "5975   0.15150\n",
       "5980   0.27915\n",
       "Length: 1197, dtype: float64"
      ]
     },
     "execution_count": 244,
     "metadata": {},
     "output_type": "execute_result"
    }
   ],
   "source": [
    "predicted_output = logresult2.predict(df_test)\n",
    "predicted_output"
   ]
  },
  {
   "cell_type": "code",
   "execution_count": 245,
   "metadata": {},
   "outputs": [
    {
     "data": {
      "text/plain": [
       "<AxesSubplot:>"
      ]
     },
     "execution_count": 245,
     "metadata": {},
     "output_type": "execute_result"
    },
    {
     "data": {
      "image/png": "[encoded data removed]",
      "text/plain": [
       "<Figure size 432x288 with 2 Axes>"
      ]
     },
     "metadata": {
      "needs_background": "light"
     },
     "output_type": "display_data"
    }
   ],
   "source": [
    "pred = np.array(logresult2.predict(df_test) > 0.5, dtype=float)\n",
    "confmatrix = np.histogram2d(y_dftest, pred, bins=2)[0]\n",
    "sns.heatmap(confmatrix, annot = True, fmt='g')"
   ]
  },
  {
   "cell_type": "code",
   "execution_count": 246,
   "metadata": {},
   "outputs": [
    {
     "data": {
      "text/plain": [
       "0.7401837928153717"
      ]
     },
     "execution_count": 246,
     "metadata": {},
     "output_type": "execute_result"
    }
   ],
   "source": [
    "TN = confmatrix[0,0]\n",
    "TP = confmatrix[1,1]\n",
    "FN = confmatrix[1,0]\n",
    "FP = confmatrix[0,1]\n",
    "\n",
    "correct = TN+TP\n",
    "incorrect = FN+FP\n",
    "\n",
    "accuracy = correct/(correct+incorrect)\n",
    "accuracy"
   ]
  },
  {
   "cell_type": "code",
   "execution_count": 247,
   "metadata": {},
   "outputs": [
    {
     "name": "stdout",
     "output_type": "stream",
     "text": [
      "Optimization terminated successfully.\n",
      "         Current function value: 0.504386\n",
      "         Iterations 7\n",
      "                                        Results: Logit\n",
      "===============================================================================================\n",
      "Model:                         Logit                     Pseudo R-squared:          0.268      \n",
      "Dependent Variable:            choice_binary             AIC:                       2495.4840  \n",
      "Date:                          2021-05-27 16:01          BIC:                       2576.7378  \n",
      "No. Observations:              2450                      Log-Likelihood:            -1233.7    \n",
      "Df Model:                      13                        LL-Null:                   -1684.6    \n",
      "Df Residuals:                  2436                      LLR p-value:               2.1767e-184\n",
      "Converged:                     1.0000                    Scale:                     1.0000     \n",
      "No. Iterations:                7.0000                                                          \n",
      "-----------------------------------------------------------------------------------------------\n",
      "                                                 Coef.  Std.Err.    z    P>|z|   [0.025  0.975]\n",
      "-----------------------------------------------------------------------------------------------\n",
      "Intercept                                        1.5300   0.2247  6.8087 0.0000  1.0896  1.9705\n",
      "rowA_                                           -0.1437   0.0201 -7.1350 0.0000 -0.1831 -0.1042\n",
      "price_diff                                      -0.5396   0.1320 -4.0867 0.0000 -0.7984 -0.2808\n",
      "price_diff_rel                                  -1.7491   0.4681 -3.7363 0.0002 -2.6666 -0.8316\n",
      "colB_categorical_Window:colA_categorical_Middle -2.6321   0.3162 -8.3237 0.0000 -3.2519 -2.0123\n",
      "colB_categorical_Aisle:colA_categorical_Middle  -0.8399   0.2398 -3.5029 0.0005 -1.3098 -0.3699\n",
      "colB_categorical_Aisle:colA_categorical_Window   0.6639   0.1683  3.9448 0.0001  0.3340  0.9937\n",
      "colB_categorical_Middle:colA_categorical_Window  3.0910   0.3163  9.7721 0.0000  2.4711  3.7110\n",
      "seatB_class_Economy:seatA_class_Bathroom         0.8965   0.3277  2.7355 0.0062  0.2542  1.5387\n",
      "seatB_class_Bathroom:seatA_class_Economy         1.4901   0.2075  7.1802 0.0000  1.0834  1.8969\n",
      "seatB_class_Premium:seatA_class_ExitRow         -1.6734   0.4540 -3.6860 0.0002 -2.5632 -0.7836\n",
      "seatB_class_Economy:seatA_class_Premium         -0.8700   0.1906 -4.5653 0.0000 -1.2435 -0.4965\n",
      "seatB_class_First:seatA_class_Premium           -1.1673   0.2313 -5.0458 0.0000 -1.6208 -0.7139\n",
      "plane_sideA_Left:plane_sideB_Right              -1.2003   0.1679 -7.1478 0.0000 -1.5294 -0.8712\n",
      "===============================================================================================\n",
      "\n"
     ]
    }
   ],
   "source": [
    "import statsmodels.formula.api  as smf\n",
    "\n",
    "\n",
    "redeye=smf.logit(\"\"\"\n",
    "                    choice_binary ~ \n",
    "                    \n",
    "                    \n",
    "                    +rowA_\n",
    "                    -rowB_ \n",
    "                    -rowdiff\n",
    "                    \n",
    "                    -price_diff\n",
    "                    +legroom_diff\n",
    "                    +price_diff_rel \n",
    "                    \n",
    "                    -colB_categorical_Window : colA_categorical_Aisle\n",
    "                    +colB_categorical_Window : colA_categorical_Middle \n",
    "                    +colB_categorical_Aisle : colA_categorical_Middle \n",
    "                    +colB_categorical_Aisle : colA_categorical_Window \n",
    "                    +colB_categorical_Middle : colA_categorical_Window\n",
    "                    -colB_categorical_Middle : colA_categorical_Aisle\n",
    "\n",
    "                    +seatB_class_Economy : seatA_class_Bathroom \n",
    "                    +seatB_class_Bathroom : seatA_class_Economy \n",
    "                    -seatB_class_ExitRow : seatA_class_Economy\n",
    "                    +seatB_class_Premium : seatA_class_ExitRow\n",
    "                    -seatB_class_Economy : seatA_class_First\n",
    "                    +seatB_class_Economy : seatA_class_Premium \n",
    "                    +seatB_class_First : seatA_class_Premium\n",
    "\n",
    "                    +plane_sideA_Left : plane_sideB_Right                                      \n",
    "\n",
    "                    \"\"\", data = df_train.query('time_redeye == 1'))\n",
    "                    \n",
    "\n",
    "redeyeresult=redeye.fit( maxiter = 500)\n",
    "\n",
    "print(redresult.summary2())"
   ]
  },
  {
   "cell_type": "code",
   "execution_count": 193,
   "metadata": {},
   "outputs": [
    {
     "name": "stdout",
     "output_type": "stream",
     "text": [
      "Optimization terminated successfully.\n",
      "         Current function value: 0.475125\n",
      "         Iterations 8\n",
      "                                        Results: Logit\n",
      "===============================================================================================\n",
      "Model:                        Logit                      Pseudo R-squared:           0.312     \n",
      "Dependent Variable:           choice_binary              AIC:                        846.1657  \n",
      "Date:                         2021-05-27 15:41           BIC:                        912.7790  \n",
      "No. Observations:             861                        Log-Likelihood:             -409.08   \n",
      "Df Model:                     13                         LL-Null:                    -594.34   \n",
      "Df Residuals:                 847                        LLR p-value:                3.7049e-71\n",
      "Converged:                    1.0000                     Scale:                      1.0000    \n",
      "No. Iterations:               8.0000                                                           \n",
      "-----------------------------------------------------------------------------------------------\n",
      "                                                 Coef.  Std.Err.    z    P>|z|   [0.025  0.975]\n",
      "-----------------------------------------------------------------------------------------------\n",
      "Intercept                                        1.7021   0.4271  3.9852 0.0001  0.8650  2.5391\n",
      "rowA_                                           -0.1457   0.0349 -4.1679 0.0000 -0.2142 -0.0772\n",
      "rowdiff                                         -0.0606   0.0201 -3.0105 0.0026 -0.1001 -0.0212\n",
      "price_diff_rel                                  -1.5941   0.5427 -2.9375 0.0033 -2.6577 -0.5305\n",
      "colB_categorical_Window:colA_categorical_Middle -3.8585   1.0260 -3.7608 0.0002 -5.8694 -1.8476\n",
      "colB_categorical_Aisle:colA_categorical_Middle  -2.0113   0.5280 -3.8096 0.0001 -3.0461 -0.9765\n",
      "colB_categorical_Aisle:colA_categorical_Window   0.6722   0.3079  2.1829 0.0290  0.0687  1.2758\n",
      "colB_categorical_Middle:colA_categorical_Window  3.2406   0.4685  6.9177 0.0000  2.3225  4.1588\n",
      "seatB_class_Economy:seatA_class_Bathroom         1.6453   0.5745  2.8642 0.0042  0.5194  2.7712\n",
      "seatB_class_Bathroom:seatA_class_Economy         1.4947   0.5578  2.6795 0.0074  0.4014  2.5879\n",
      "seatB_class_Economy:seatA_class_First           -1.6720   0.5958 -2.8061 0.0050 -2.8398 -0.5041\n",
      "seatB_class_Economy:seatA_class_Premium         -1.7098   0.4193 -4.0775 0.0000 -2.5317 -0.8879\n",
      "seatB_class_First:seatA_class_Premium           -1.2370   0.3975 -3.1116 0.0019 -2.0161 -0.4578\n",
      "plane_sideA_Left:plane_sideB_Right              -1.1883   0.2956 -4.0197 0.0001 -1.7677 -0.6089\n",
      "===============================================================================================\n",
      "\n"
     ]
    }
   ],
   "source": [
    "import statsmodels.formula.api  as smf\n",
    "\n",
    "\n",
    "business=smf.logit(\"\"\"\n",
    "                    choice_binary ~ \n",
    "                    \n",
    "                    \n",
    "                    +rowA_\n",
    "                    -rowB_ \n",
    "                    +rowdiff\n",
    "                    \n",
    "                    -price_diff \n",
    "                    -legroom_diff\n",
    "                    +price_diff_rel \n",
    "                    \n",
    "                    -colB_categorical_Window : colA_categorical_Aisle\n",
    "                    +colB_categorical_Window : colA_categorical_Middle \n",
    "                    +colB_categorical_Aisle : colA_categorical_Middle \n",
    "                    +colB_categorical_Aisle : colA_categorical_Window \n",
    "                    +colB_categorical_Middle : colA_categorical_Window\n",
    "                    -colB_categorical_Middle : colA_categorical_Aisle\n",
    "\n",
    "                    +seatB_class_Economy : seatA_class_Bathroom \n",
    "                    +seatB_class_Bathroom : seatA_class_Economy \n",
    "                    -seatB_class_ExitRow : seatA_class_Economy\n",
    "                    -seatB_class_Premium : seatA_class_ExitRow\n",
    "                    +seatB_class_Economy : seatA_class_First\n",
    "                    +seatB_class_Economy : seatA_class_Premium \n",
    "                    +seatB_class_First : seatA_class_Premium\n",
    "\n",
    "                    +plane_sideA_Left : plane_sideB_Right                                      \n",
    "\n",
    "                    \"\"\", data = df_train.query('flyertype_business == 1'))\n",
    "                    \n",
    "\n",
    "businessresult=business.fit( maxiter = 500)\n",
    "\n",
    "print(businessresult.summary2())"
   ]
  },
  {
   "cell_type": "code",
   "execution_count": 201,
   "metadata": {},
   "outputs": [
    {
     "name": "stdout",
     "output_type": "stream",
     "text": [
      "Optimization terminated successfully.\n",
      "         Current function value: 0.498943\n",
      "         Iterations 7\n",
      "                                         Results: Logit\n",
      "================================================================================================\n",
      "Model:                        Logit                      Pseudo R-squared:           0.279      \n",
      "Dependent Variable:           choice_binary              AIC:                        2191.4148  \n",
      "Date:                         2021-05-27 15:42           BIC:                        2265.2870  \n",
      "No. Observations:             2170                       Log-Likelihood:             -1082.7    \n",
      "Df Model:                     12                         LL-Null:                    -1502.1    \n",
      "Df Residuals:                 2157                       LLR p-value:                7.9856e-172\n",
      "Converged:                    1.0000                     Scale:                      1.0000     \n",
      "No. Iterations:               7.0000                                                            \n",
      "------------------------------------------------------------------------------------------------\n",
      "                                                 Coef.  Std.Err.    z     P>|z|   [0.025  0.975]\n",
      "------------------------------------------------------------------------------------------------\n",
      "Intercept                                        1.9744   0.2808   7.0323 0.0000  1.4241  2.5247\n",
      "rowA_                                           -0.1506   0.0227  -6.6364 0.0000 -0.1951 -0.1062\n",
      "rowdiff                                         -0.0797   0.0101  -7.8842 0.0000 -0.0995 -0.0599\n",
      "price_diff_rel                                  -1.0129   0.3149  -3.2163 0.0013 -1.6301 -0.3957\n",
      "colB_categorical_Window:colA_categorical_Aisle   1.2999   0.3458   3.7593 0.0002  0.6222  1.9777\n",
      "colB_categorical_Window:colA_categorical_Middle -3.4635   0.4692  -7.3819 0.0000 -4.3831 -2.5439\n",
      "colB_categorical_Aisle:colA_categorical_Window   0.6970   0.1939   3.5952 0.0003  0.3170  1.0770\n",
      "colB_categorical_Middle:colA_categorical_Window  3.4127   0.3083  11.0701 0.0000  2.8084  4.0169\n",
      "seatB_class_Economy:seatA_class_Bathroom         1.5469   0.3797   4.0741 0.0000  0.8027  2.2910\n",
      "seatB_class_Economy:seatA_class_First           -2.6890   0.3656  -7.3559 0.0000 -3.4055 -1.9725\n",
      "seatB_class_Economy:seatA_class_Premium         -3.0381   0.3030 -10.0261 0.0000 -3.6320 -2.4442\n",
      "seatB_class_First:seatA_class_Premium           -0.8779   0.2405  -3.6507 0.0003 -1.3492 -0.4066\n",
      "plane_sideA_Left:plane_sideB_Right              -1.5812   0.1707  -9.2624 0.0000 -1.9157 -1.2466\n",
      "================================================================================================\n",
      "\n"
     ]
    }
   ],
   "source": [
    "import statsmodels.formula.api  as smf\n",
    "\n",
    "\n",
    "frequent=smf.logit(\"\"\"\n",
    "                    choice_binary ~ \n",
    "                    \n",
    "                    \n",
    "                    +rowA_\n",
    "                    -rowB_ \n",
    "                    +rowdiff\n",
    "                    \n",
    "                    -price_diff \n",
    "                    -legroom_diff\n",
    "                    +price_diff_rel \n",
    "                    \n",
    "                    +colB_categorical_Window : colA_categorical_Aisle\n",
    "                    +colB_categorical_Window : colA_categorical_Middle \n",
    "                    -colB_categorical_Aisle : colA_categorical_Middle \n",
    "                    +colB_categorical_Aisle : colA_categorical_Window \n",
    "                    +colB_categorical_Middle : colA_categorical_Window\n",
    "                    -colB_categorical_Middle : colA_categorical_Aisle\n",
    "\n",
    "                    +seatB_class_Economy : seatA_class_Bathroom \n",
    "                    -seatB_class_Bathroom : seatA_class_Economy \n",
    "                    -seatB_class_ExitRow : seatA_class_Economy\n",
    "                    -seatB_class_Premium : seatA_class_ExitRow\n",
    "                    +seatB_class_Economy : seatA_class_First\n",
    "                    +seatB_class_Economy : seatA_class_Premium \n",
    "                    +seatB_class_First : seatA_class_Premium\n",
    "\n",
    "                    +plane_sideA_Left : plane_sideB_Right                                      \n",
    "\n",
    "                    \"\"\", data = df_train.query('flyerfreq_frequent == 1'))\n",
    "                    \n",
    "\n",
    "frequentresult=frequent.fit( maxiter = 500)\n",
    "\n",
    "print(frequentresult.summary2())"
   ]
  },
  {
   "cell_type": "code",
   "execution_count": 230,
   "metadata": {},
   "outputs": [
    {
     "name": "stdout",
     "output_type": "stream",
     "text": [
      "Optimization terminated successfully.\n",
      "         Current function value: 0.474656\n",
      "         Iterations 7\n",
      "                                        Results: Logit\n",
      "===============================================================================================\n",
      "Model:                        Logit                      Pseudo R-squared:           0.310     \n",
      "Dependent Variable:           choice_binary              AIC:                        777.4498  \n",
      "Date:                         2021-05-27 15:55           BIC:                        819.6113  \n",
      "No. Observations:             800                        Log-Likelihood:             -379.72   \n",
      "Df Model:                     8                          LL-Null:                    -550.10   \n",
      "Df Residuals:                 791                        LLR p-value:                8.5300e-69\n",
      "Converged:                    1.0000                     Scale:                      1.0000    \n",
      "No. Iterations:               7.0000                                                           \n",
      "-----------------------------------------------------------------------------------------------\n",
      "                                                 Coef.  Std.Err.    z    P>|z|   [0.025  0.975]\n",
      "-----------------------------------------------------------------------------------------------\n",
      "Intercept                                        0.7532   0.3203  2.3512 0.0187  0.1253  1.3810\n",
      "rowA_                                           -0.0452   0.0178 -2.5333 0.0113 -0.0801 -0.0102\n",
      "rowdiff                                         -0.0648   0.0149 -4.3530 0.0000 -0.0939 -0.0356\n",
      "price_diff                                      -0.6040   0.2961 -2.0399 0.0414 -1.1843 -0.0237\n",
      "colB_categorical_Window:colA_categorical_Middle -2.4882   0.4972 -5.0047 0.0000 -3.4627 -1.5138\n",
      "colB_categorical_Middle:colA_categorical_Window  3.5182   0.5282  6.6612 0.0000  2.4830  4.5534\n",
      "seatB_class_Economy:seatA_class_First           -1.7753   0.9045 -1.9627 0.0497 -3.5481 -0.0025\n",
      "seatB_class_Economy:seatA_class_Premium         -2.3269   0.4772 -4.8765 0.0000 -3.2621 -1.3917\n",
      "plane_sideA_Left:plane_sideB_Right              -1.9423   0.2703 -7.1846 0.0000 -2.4722 -1.4124\n",
      "===============================================================================================\n",
      "\n"
     ]
    }
   ],
   "source": [
    "import statsmodels.formula.api  as smf\n",
    "\n",
    "\n",
    "short=smf.logit(\"\"\"\n",
    "                    choice_binary ~ \n",
    "                    \n",
    "                    \n",
    "                    +rowA_\n",
    "                    -rowB_ \n",
    "                    +rowdiff\n",
    "                    \n",
    "                    +price_diff \n",
    "                    -legroom_diff\n",
    "                    -price_diff_rel \n",
    "                    \n",
    "                    -colB_categorical_Window : colA_categorical_Aisle\n",
    "                    +colB_categorical_Window : colA_categorical_Middle \n",
    "                    -colB_categorical_Aisle : colA_categorical_Middle \n",
    "                    -colB_categorical_Aisle : colA_categorical_Window \n",
    "                    +colB_categorical_Middle : colA_categorical_Window\n",
    "                    -colB_categorical_Middle : colA_categorical_Aisle\n",
    "\n",
    "                    -seatB_class_Economy : seatA_class_Bathroom \n",
    "                    -seatB_class_Bathroom : seatA_class_Economy \n",
    "                    -seatB_class_ExitRow : seatA_class_Economy\n",
    "                    -seatB_class_Premium : seatA_class_ExitRow\n",
    "                    +seatB_class_Economy : seatA_class_First\n",
    "                    +seatB_class_Economy : seatA_class_Premium \n",
    "                    -seatB_class_First : seatA_class_Premium\n",
    "\n",
    "                    +plane_sideA_Left : plane_sideB_Right                                      \n",
    "\n",
    "                    \"\"\", data = df_train.query('hours_short == 1'))\n",
    "                    \n",
    "\n",
    "shortresult=short.fit( maxiter = 500)\n",
    "\n",
    "print(shortresult.summary2())"
   ]
  },
  {
   "cell_type": "code",
   "execution_count": 236,
   "metadata": {},
   "outputs": [
    {
     "name": "stdout",
     "output_type": "stream",
     "text": [
      "Optimization terminated successfully.\n",
      "         Current function value: 0.513316\n",
      "         Iterations 7\n",
      "                                        Results: Logit\n",
      "===============================================================================================\n",
      "Model:                         Logit                     Pseudo R-squared:          0.258      \n",
      "Dependent Variable:            choice_binary             AIC:                       1541.2015  \n",
      "Date:                          2021-05-27 15:58          BIC:                       1620.6171  \n",
      "No. Observations:              1472                      Log-Likelihood:            -755.60    \n",
      "Df Model:                      14                        LL-Null:                   -1018.5    \n",
      "Df Residuals:                  1457                      LLR p-value:               3.2821e-103\n",
      "Converged:                     1.0000                    Scale:                     1.0000     \n",
      "No. Iterations:                7.0000                                                          \n",
      "-----------------------------------------------------------------------------------------------\n",
      "                                                 Coef.  Std.Err.    z    P>|z|   [0.025  0.975]\n",
      "-----------------------------------------------------------------------------------------------\n",
      "Intercept                                        2.1065   0.3700  5.6936 0.0000  1.3813  2.8316\n",
      "rowA_                                           -0.1760   0.0296 -5.9415 0.0000 -0.2340 -0.1179\n",
      "rowdiff                                         -0.0441   0.0161 -2.7314 0.0063 -0.0757 -0.0124\n",
      "price_diff                                      -0.4640   0.1749 -2.6534 0.0080 -0.8067 -0.1212\n",
      "colB_categorical_Window:colA_categorical_Aisle   1.0727   0.4634  2.3147 0.0206  0.1644  1.9811\n",
      "colB_categorical_Window:colA_categorical_Middle -3.9682   0.7304 -5.4332 0.0000 -5.3996 -2.5367\n",
      "colB_categorical_Aisle:colA_categorical_Middle  -1.1439   0.3686 -3.1034 0.0019 -1.8664 -0.4215\n",
      "colB_categorical_Aisle:colA_categorical_Window   0.6771   0.2743  2.4683 0.0136  0.1394  1.2147\n",
      "colB_categorical_Middle:colA_categorical_Window  2.3560   0.3049  7.7265 0.0000  1.7584  2.9537\n",
      "seatB_class_Economy:seatA_class_Bathroom         1.4707   0.4833  3.0430 0.0023  0.5234  2.4179\n",
      "seatB_class_Bathroom:seatA_class_Economy         0.7548   0.3772  2.0011 0.0454  0.0155  1.4940\n",
      "seatB_class_Economy:seatA_class_First           -1.7904   0.6117 -2.9267 0.0034 -2.9893 -0.5914\n",
      "seatB_class_Economy:seatA_class_Premium         -2.0870   0.4935 -4.2291 0.0000 -3.0543 -1.1198\n",
      "seatB_class_First:seatA_class_Premium           -1.3824   0.2935 -4.7104 0.0000 -1.9576 -0.8072\n",
      "plane_sideA_Left:plane_sideB_Right              -1.1620   0.2249 -5.1677 0.0000 -1.6028 -0.7213\n",
      "===============================================================================================\n",
      "\n"
     ]
    }
   ],
   "source": [
    "import statsmodels.formula.api  as smf\n",
    "\n",
    "\n",
    "long=smf.logit(\"\"\"\n",
    "                    choice_binary ~ \n",
    "                    \n",
    "                    \n",
    "                    +rowA_\n",
    "                    -rowB_ \n",
    "                    +rowdiff\n",
    "                    \n",
    "                    +price_diff \n",
    "                    -legroom_diff\n",
    "                    -price_diff_rel \n",
    "                    \n",
    "                    +colB_categorical_Window : colA_categorical_Aisle\n",
    "                    +colB_categorical_Window : colA_categorical_Middle \n",
    "                    +colB_categorical_Aisle : colA_categorical_Middle \n",
    "                    +colB_categorical_Aisle : colA_categorical_Window \n",
    "                    +colB_categorical_Middle : colA_categorical_Window\n",
    "                    -colB_categorical_Middle : colA_categorical_Aisle\n",
    "\n",
    "                    +seatB_class_Economy : seatA_class_Bathroom \n",
    "                    +seatB_class_Bathroom : seatA_class_Economy \n",
    "                    -seatB_class_ExitRow : seatA_class_Economy\n",
    "                    -seatB_class_Premium : seatA_class_ExitRow\n",
    "                    +seatB_class_Economy : seatA_class_First\n",
    "                    +seatB_class_Economy : seatA_class_Premium \n",
    "                    +seatB_class_First : seatA_class_Premium\n",
    "\n",
    "                    +plane_sideA_Left : plane_sideB_Right                                      \n",
    "\n",
    "                    \"\"\", data = df_train.query('hours_long == 1'))\n",
    "                    \n",
    "\n",
    "longresult=long.fit( maxiter = 500)\n",
    "\n",
    "print(longresult.summary2())"
   ]
  },
  {
   "cell_type": "code",
   "execution_count": 277,
   "metadata": {},
   "outputs": [
    {
     "ename": "ValueError",
     "evalue": "arrays must all be same length",
     "output_type": "error",
     "traceback": [
      "\u001b[1;31m---------------------------------------------------------------------------\u001b[0m",
      "\u001b[1;31mValueError\u001b[0m                                Traceback (most recent call last)",
      "\u001b[1;32m<ipython-input-277-6eb7bb5859af>\u001b[0m in \u001b[0;36m<module>\u001b[1;34m\u001b[0m\n\u001b[0;32m      2\u001b[0m \u001b[0mcoefficients\u001b[0m \u001b[1;33m=\u001b[0m \u001b[0mbaselineresult\u001b[0m\u001b[1;33m.\u001b[0m\u001b[0mparams\u001b[0m\u001b[1;33m.\u001b[0m\u001b[0mvalues\u001b[0m\u001b[1;33m\u001b[0m\u001b[1;33m\u001b[0m\u001b[0m\n\u001b[0;32m      3\u001b[0m \u001b[1;33m\u001b[0m\u001b[0m\n\u001b[1;32m----> 4\u001b[1;33m coefs = pd.DataFrame({\n\u001b[0m\u001b[0;32m      5\u001b[0m     \u001b[1;34m'feature'\u001b[0m \u001b[1;33m:\u001b[0m \u001b[0mbaselineresult\u001b[0m\u001b[1;33m.\u001b[0m\u001b[0mparams\u001b[0m\u001b[1;33m.\u001b[0m\u001b[0mindex\u001b[0m\u001b[1;33m,\u001b[0m\u001b[1;33m\u001b[0m\u001b[1;33m\u001b[0m\u001b[0m\n\u001b[0;32m      6\u001b[0m     \u001b[1;34m'basecoef'\u001b[0m\u001b[1;33m:\u001b[0m \u001b[0mbaselineresult\u001b[0m\u001b[1;33m.\u001b[0m\u001b[0mparams\u001b[0m\u001b[1;33m.\u001b[0m\u001b[0mvalues\u001b[0m\u001b[1;33m,\u001b[0m\u001b[1;33m\u001b[0m\u001b[1;33m\u001b[0m\u001b[0m\n",
      "\u001b[1;32mC:\\ProgramData\\Anaconda3\\lib\\site-packages\\pandas\\core\\frame.py\u001b[0m in \u001b[0;36m__init__\u001b[1;34m(self, data, index, columns, dtype, copy)\u001b[0m\n\u001b[0;32m    466\u001b[0m \u001b[1;33m\u001b[0m\u001b[0m\n\u001b[0;32m    467\u001b[0m         \u001b[1;32melif\u001b[0m \u001b[0misinstance\u001b[0m\u001b[1;33m(\u001b[0m\u001b[0mdata\u001b[0m\u001b[1;33m,\u001b[0m \u001b[0mdict\u001b[0m\u001b[1;33m)\u001b[0m\u001b[1;33m:\u001b[0m\u001b[1;33m\u001b[0m\u001b[1;33m\u001b[0m\u001b[0m\n\u001b[1;32m--> 468\u001b[1;33m             \u001b[0mmgr\u001b[0m \u001b[1;33m=\u001b[0m \u001b[0minit_dict\u001b[0m\u001b[1;33m(\u001b[0m\u001b[0mdata\u001b[0m\u001b[1;33m,\u001b[0m \u001b[0mindex\u001b[0m\u001b[1;33m,\u001b[0m \u001b[0mcolumns\u001b[0m\u001b[1;33m,\u001b[0m \u001b[0mdtype\u001b[0m\u001b[1;33m=\u001b[0m\u001b[0mdtype\u001b[0m\u001b[1;33m)\u001b[0m\u001b[1;33m\u001b[0m\u001b[1;33m\u001b[0m\u001b[0m\n\u001b[0m\u001b[0;32m    469\u001b[0m         \u001b[1;32melif\u001b[0m \u001b[0misinstance\u001b[0m\u001b[1;33m(\u001b[0m\u001b[0mdata\u001b[0m\u001b[1;33m,\u001b[0m \u001b[0mma\u001b[0m\u001b[1;33m.\u001b[0m\u001b[0mMaskedArray\u001b[0m\u001b[1;33m)\u001b[0m\u001b[1;33m:\u001b[0m\u001b[1;33m\u001b[0m\u001b[1;33m\u001b[0m\u001b[0m\n\u001b[0;32m    470\u001b[0m             \u001b[1;32mimport\u001b[0m \u001b[0mnumpy\u001b[0m\u001b[1;33m.\u001b[0m\u001b[0mma\u001b[0m\u001b[1;33m.\u001b[0m\u001b[0mmrecords\u001b[0m \u001b[1;32mas\u001b[0m \u001b[0mmrecords\u001b[0m\u001b[1;33m\u001b[0m\u001b[1;33m\u001b[0m\u001b[0m\n",
      "\u001b[1;32mC:\\ProgramData\\Anaconda3\\lib\\site-packages\\pandas\\core\\internals\\construction.py\u001b[0m in \u001b[0;36minit_dict\u001b[1;34m(data, index, columns, dtype)\u001b[0m\n\u001b[0;32m    281\u001b[0m             \u001b[0marr\u001b[0m \u001b[1;32mif\u001b[0m \u001b[1;32mnot\u001b[0m \u001b[0mis_datetime64tz_dtype\u001b[0m\u001b[1;33m(\u001b[0m\u001b[0marr\u001b[0m\u001b[1;33m)\u001b[0m \u001b[1;32melse\u001b[0m \u001b[0marr\u001b[0m\u001b[1;33m.\u001b[0m\u001b[0mcopy\u001b[0m\u001b[1;33m(\u001b[0m\u001b[1;33m)\u001b[0m \u001b[1;32mfor\u001b[0m \u001b[0marr\u001b[0m \u001b[1;32min\u001b[0m \u001b[0marrays\u001b[0m\u001b[1;33m\u001b[0m\u001b[1;33m\u001b[0m\u001b[0m\n\u001b[0;32m    282\u001b[0m         ]\n\u001b[1;32m--> 283\u001b[1;33m     \u001b[1;32mreturn\u001b[0m \u001b[0marrays_to_mgr\u001b[0m\u001b[1;33m(\u001b[0m\u001b[0marrays\u001b[0m\u001b[1;33m,\u001b[0m \u001b[0mdata_names\u001b[0m\u001b[1;33m,\u001b[0m \u001b[0mindex\u001b[0m\u001b[1;33m,\u001b[0m \u001b[0mcolumns\u001b[0m\u001b[1;33m,\u001b[0m \u001b[0mdtype\u001b[0m\u001b[1;33m=\u001b[0m\u001b[0mdtype\u001b[0m\u001b[1;33m)\u001b[0m\u001b[1;33m\u001b[0m\u001b[1;33m\u001b[0m\u001b[0m\n\u001b[0m\u001b[0;32m    284\u001b[0m \u001b[1;33m\u001b[0m\u001b[0m\n\u001b[0;32m    285\u001b[0m \u001b[1;33m\u001b[0m\u001b[0m\n",
      "\u001b[1;32mC:\\ProgramData\\Anaconda3\\lib\\site-packages\\pandas\\core\\internals\\construction.py\u001b[0m in \u001b[0;36marrays_to_mgr\u001b[1;34m(arrays, arr_names, index, columns, dtype, verify_integrity)\u001b[0m\n\u001b[0;32m     76\u001b[0m         \u001b[1;31m# figure out the index, if necessary\u001b[0m\u001b[1;33m\u001b[0m\u001b[1;33m\u001b[0m\u001b[1;33m\u001b[0m\u001b[0m\n\u001b[0;32m     77\u001b[0m         \u001b[1;32mif\u001b[0m \u001b[0mindex\u001b[0m \u001b[1;32mis\u001b[0m \u001b[1;32mNone\u001b[0m\u001b[1;33m:\u001b[0m\u001b[1;33m\u001b[0m\u001b[1;33m\u001b[0m\u001b[0m\n\u001b[1;32m---> 78\u001b[1;33m             \u001b[0mindex\u001b[0m \u001b[1;33m=\u001b[0m \u001b[0mextract_index\u001b[0m\u001b[1;33m(\u001b[0m\u001b[0marrays\u001b[0m\u001b[1;33m)\u001b[0m\u001b[1;33m\u001b[0m\u001b[1;33m\u001b[0m\u001b[0m\n\u001b[0m\u001b[0;32m     79\u001b[0m         \u001b[1;32melse\u001b[0m\u001b[1;33m:\u001b[0m\u001b[1;33m\u001b[0m\u001b[1;33m\u001b[0m\u001b[0m\n\u001b[0;32m     80\u001b[0m             \u001b[0mindex\u001b[0m \u001b[1;33m=\u001b[0m \u001b[0mensure_index\u001b[0m\u001b[1;33m(\u001b[0m\u001b[0mindex\u001b[0m\u001b[1;33m)\u001b[0m\u001b[1;33m\u001b[0m\u001b[1;33m\u001b[0m\u001b[0m\n",
      "\u001b[1;32mC:\\ProgramData\\Anaconda3\\lib\\site-packages\\pandas\\core\\internals\\construction.py\u001b[0m in \u001b[0;36mextract_index\u001b[1;34m(data)\u001b[0m\n\u001b[0;32m    395\u001b[0m             \u001b[0mlengths\u001b[0m \u001b[1;33m=\u001b[0m \u001b[0mlist\u001b[0m\u001b[1;33m(\u001b[0m\u001b[0mset\u001b[0m\u001b[1;33m(\u001b[0m\u001b[0mraw_lengths\u001b[0m\u001b[1;33m)\u001b[0m\u001b[1;33m)\u001b[0m\u001b[1;33m\u001b[0m\u001b[1;33m\u001b[0m\u001b[0m\n\u001b[0;32m    396\u001b[0m             \u001b[1;32mif\u001b[0m \u001b[0mlen\u001b[0m\u001b[1;33m(\u001b[0m\u001b[0mlengths\u001b[0m\u001b[1;33m)\u001b[0m \u001b[1;33m>\u001b[0m \u001b[1;36m1\u001b[0m\u001b[1;33m:\u001b[0m\u001b[1;33m\u001b[0m\u001b[1;33m\u001b[0m\u001b[0m\n\u001b[1;32m--> 397\u001b[1;33m                 \u001b[1;32mraise\u001b[0m \u001b[0mValueError\u001b[0m\u001b[1;33m(\u001b[0m\u001b[1;34m\"arrays must all be same length\"\u001b[0m\u001b[1;33m)\u001b[0m\u001b[1;33m\u001b[0m\u001b[1;33m\u001b[0m\u001b[0m\n\u001b[0m\u001b[0;32m    398\u001b[0m \u001b[1;33m\u001b[0m\u001b[0m\n\u001b[0;32m    399\u001b[0m             \u001b[1;32mif\u001b[0m \u001b[0mhave_dicts\u001b[0m\u001b[1;33m:\u001b[0m\u001b[1;33m\u001b[0m\u001b[1;33m\u001b[0m\u001b[0m\n",
      "\u001b[1;31mValueError\u001b[0m: arrays must all be same length"
     ]
    }
   ],
   "source": [
    "feature_names = baselineresult.params.index\n",
    "coefficients = baselineresult.params.values\n",
    "\n",
    "coefs = pd.DataFrame({\n",
    "    'feature' : baselineresult.params.index,\n",
    "    'basecoef': baselineresult.params.values,\n",
    "    'redeyecoef': redeyeresult.params.values,\n",
    "\n",
    "})\n",
    "coefs\n"
   ]
  },
  {
   "cell_type": "code",
   "execution_count": null,
   "metadata": {},
   "outputs": [],
   "source": []
  }
 ],
 "metadata": {
  "kernelspec": {
   "display_name": "Python 3",
   "language": "python",
   "name": "python3"
  },
  "language_info": {
   "codemirror_mode": {
    "name": "ipython",
    "version": 3
   },
   "file_extension": ".py",
   "mimetype": "text/x-python",
   "name": "python",
   "nbconvert_exporter": "python",
   "pygments_lexer": "ipython3",
   "version": "3.8.5"
  }
 },
 "nbformat": 4,
 "nbformat_minor": 4
}
