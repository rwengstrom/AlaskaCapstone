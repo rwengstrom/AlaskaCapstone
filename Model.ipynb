{
 "cells": [
  {
   "cell_type": "markdown",
   "metadata": {},
   "source": [
    "Import data from Data Cleaning output"
   ]
  },
  {
   "cell_type": "code",
   "execution_count": 254,
   "metadata": {},
   "outputs": [],
   "source": [
    "import pandas as pd\n",
    "import numpy as np\n",
    "from sklearn import preprocessing\n",
    "import matplotlib.pyplot as plt\n",
    "import seaborn as sns\n",
    "from sklearn.preprocessing import StandardScaler\n",
    "from sklearn.model_selection import train_test_split\n",
    "from sklearn.linear_model import LogisticRegression\n",
    "from sklearn.metrics import log_loss, roc_auc_score, recall_score, precision_score, average_precision_score, f1_score, classification_report, accuracy_score, plot_roc_curve, plot_precision_recall_curve, plot_confusion_matrix\n",
    "\n",
    "pd.set_option('display.float_format', lambda x: '%.5f' % x)"
   ]
  },
  {
   "cell_type": "code",
   "execution_count": 333,
   "metadata": {},
   "outputs": [
    {
     "data": {
      "text/plain": [
       "Index(['participant.code', 'question', 'choice_binary', 'rowA_', 'rowB_',\n",
       "       'price_diff', 'price_diff_rel', 'legroom_diff', 'bathroom_dist_diff',\n",
       "       'distance_', 'price_', 'colA_categorical_Aisle',\n",
       "       'colA_categorical_Middle', 'colA_categorical_Window',\n",
       "       'colB_categorical_Aisle', 'colB_categorical_Middle',\n",
       "       'colB_categorical_Window', 'seatA_class_Economy', 'seatA_class_First',\n",
       "       'seatA_class_Premium', 'seatB_class_Economy', 'seatB_class_First',\n",
       "       'seatB_class_Premium', 'plane_sideA_Left', 'plane_sideA_Right',\n",
       "       'plane_sideB_Left', 'plane_sideB_Right', 'time__Daytime',\n",
       "       'time__Red-eye', 'flyerfreq_nonflyer', 'flyerfreq_typical',\n",
       "       'flyerfreq_frequent', 'flyertype_leisure', 'flyertype_business'],\n",
       "      dtype='object')"
      ]
     },
     "execution_count": 333,
     "metadata": {},
     "output_type": "execute_result"
    }
   ],
   "source": [
    "df = pd.read_csv(\"C:/Users/Owner/Desktop/AlaskaProject/Data/modeldata.csv\")\n",
    "df.columns"
   ]
  },
  {
   "cell_type": "code",
   "execution_count": 334,
   "metadata": {},
   "outputs": [],
   "source": [
    "df.drop(['participant.code','question'],inplace = True, axis = 1)\n",
    "df.rename(columns={'time__Red-eye':'time_redeye'}, inplace=True)"
   ]
  },
  {
   "cell_type": "markdown",
   "metadata": {},
   "source": [
    "    Define variables and train/test split"
   ]
  },
  {
   "cell_type": "code",
   "execution_count": 335,
   "metadata": {},
   "outputs": [],
   "source": [
    "df_train = df.sample(frac = 0.8)\n",
    "df_test = df.drop(df_train.index)"
   ]
  },
  {
   "cell_type": "markdown",
   "metadata": {},
   "source": [
    "Scale continuous variables"
   ]
  },
  {
   "cell_type": "code",
   "execution_count": 336,
   "metadata": {},
   "outputs": [],
   "source": [
    "# Scaled Variables\n",
    "#Legroom\n",
    "df_train[\"legroom_diff\"] = preprocessing.scale(pd.to_numeric(df_train[\"legroom_diff\"]))\n",
    "\n",
    "#Variable Price\n",
    "df_train[\"price_diff\"] = preprocessing.scale(pd.to_numeric(df_train[\"price_diff\"]))\n",
    "\n",
    "#Distance\n",
    "df_train[\"distance\"] = preprocessing.scale(df_train[\"distance_\"])"
   ]
  },
  {
   "cell_type": "code",
   "execution_count": 337,
   "metadata": {},
   "outputs": [],
   "source": [
    "# Define output variable\n",
    "y_dftrain = df_train.choice_binary\n",
    "# Drop output variable from dataset to form input vector\n",
    "X_dftrain = df_train.drop('choice_binary', axis=1)\n",
    "\n",
    "# Define output variable\n",
    "y_dftest = df_test.choice_binary\n",
    "# Drop output variable from dataset to form input vector\n",
    "X_dftest = df_test.drop('choice_binary', axis=1)\n",
    "\n"
   ]
  },
  {
   "cell_type": "markdown",
   "metadata": {},
   "source": [
    "Create Basic Logistic Regression with no interaction terms"
   ]
  },
  {
   "cell_type": "code",
   "execution_count": 338,
   "metadata": {},
   "outputs": [
    {
     "name": "stdout",
     "output_type": "stream",
     "text": [
      "Warning: Maximum number of iterations has been exceeded.\n",
      "         Current function value: 0.509945\n",
      "         Iterations: 35\n",
      "                                    Results: Logit\n",
      "======================================================================================\n",
      "Model:                      Logit                   Pseudo R-squared:        0.261    \n",
      "Dependent Variable:         choice_binary           AIC:                     4929.2311\n",
      "Date:                       2021-05-22 13:07        BIC:                     5078.1301\n",
      "No. Observations:           4788                    Log-Likelihood:          -2441.6  \n",
      "Df Model:                   22                      LL-Null:                 -3306.1  \n",
      "Df Residuals:               4765                    LLR p-value:             0.0000   \n",
      "Converged:                  0.0000                  Scale:                   1.0000   \n",
      "No. Iterations:             35.0000                                                   \n",
      "--------------------------------------------------------------------------------------\n",
      "                         Coef.    Std.Err.      z    P>|z|      [0.025       0.975]   \n",
      "--------------------------------------------------------------------------------------\n",
      "rowA_                   -1.4453       0.2212 -6.5336 0.0000       -1.8789      -1.0118\n",
      "rowB_                    1.3482       0.2180  6.1839 0.0000        0.9209       1.7756\n",
      "price_diff              -0.3142       0.1256 -2.5006 0.0124       -0.5604      -0.0679\n",
      "price_diff_rel          -1.5406       0.3032 -5.0804 0.0000       -2.1349      -0.9462\n",
      "legroom_diff             0.0387       0.0835  0.4630 0.6434       -0.1250       0.2023\n",
      "bathroom_dist_diff      -1.3518       0.2238 -6.0389 0.0000       -1.7905      -0.9130\n",
      "distance_                0.1900  660725.4123  0.0000 1.0000 -1294997.8218 1294998.2017\n",
      "price_                  -0.0007       0.0009 -0.8280 0.4077       -0.0025       0.0010\n",
      "colA_categorical_Aisle   0.2889 1385007.4364  0.0000 1.0000 -2714564.4047 2714564.9826\n",
      "colA_categorical_Middle -0.8958 1293776.6312 -0.0000 1.0000 -2535756.4969 2535754.7053\n",
      "colA_categorical_Window  0.7675 1193864.7896  0.0000 1.0000 -2339931.2224 2339932.7574\n",
      "colB_categorical_Aisle  -0.7258          nan     nan    nan           nan          nan\n",
      "colB_categorical_Middle  1.8520          nan     nan    nan           nan          nan\n",
      "colB_categorical_Window -0.9656          nan     nan    nan           nan          nan\n",
      "seatA_class_Economy     -0.0563          nan     nan    nan           nan          nan\n",
      "seatA_class_First        0.3220          nan     nan    nan           nan          nan\n",
      "seatA_class_Premium     -0.1051          nan     nan    nan           nan          nan\n",
      "seatB_class_Economy      0.0712          nan     nan    nan           nan          nan\n",
      "seatB_class_First        0.2815          nan     nan    nan           nan          nan\n",
      "seatB_class_Premium     -0.1921          nan     nan    nan           nan          nan\n",
      "plane_sideA_Left         0.1934 2347644.0995  0.0000 1.0000 -4601297.6902 4601298.0770\n",
      "plane_sideA_Right       -0.0327 2349241.3730 -0.0000 1.0000 -4604428.5148 4604428.4493\n",
      "plane_sideB_Left         0.3655          nan     nan    nan           nan          nan\n",
      "plane_sideB_Right       -0.2049          nan     nan    nan           nan          nan\n",
      "time__Daytime            0.1501          nan     nan    nan           nan          nan\n",
      "time_redeye              0.0105          nan     nan    nan           nan          nan\n",
      "flyerfreq_nonflyer       0.0287          nan     nan    nan           nan          nan\n",
      "flyerfreq_typical       -0.0148          nan     nan    nan           nan          nan\n",
      "flyerfreq_frequent       0.1467          nan     nan    nan           nan          nan\n",
      "flyertype_leisure        0.1316          nan     nan    nan           nan          nan\n",
      "flyertype_business       0.0290          nan     nan    nan           nan          nan\n",
      "distance                -0.2291  909529.9999 -0.0000 1.0000 -1782646.2717 1782645.8135\n",
      "======================================================================================\n",
      "\n"
     ]
    },
    {
     "name": "stderr",
     "output_type": "stream",
     "text": [
      "C:\\ProgramData\\Anaconda3\\lib\\site-packages\\statsmodels\\base\\model.py:566: ConvergenceWarning: Maximum Likelihood optimization failed to converge. Check mle_retvals\n",
      "  warnings.warn(\"Maximum Likelihood optimization failed to \"\n"
     ]
    }
   ],
   "source": [
    "import statsmodels.api as sm\n",
    "logitmodel=sm.Logit(y_dftrain,X_dftrain)\n",
    "logresult=logitmodel.fit()\n",
    "print(logresult.summary2())"
   ]
  },
  {
   "cell_type": "code",
   "execution_count": 341,
   "metadata": {},
   "outputs": [
    {
     "name": "stdout",
     "output_type": "stream",
     "text": [
      "Optimization terminated successfully.\n",
      "         Current function value: 0.524749\n",
      "         Iterations 7\n",
      "                                         Results: Logit\n",
      "================================================================================================\n",
      "Model:                          Logit                      Pseudo R-squared:           0.240    \n",
      "Dependent Variable:             choice_binary              AIC:                        5052.9993\n",
      "Date:                           2021-05-22 13:08           BIC:                        5143.6334\n",
      "No. Observations:               4788                       Log-Likelihood:             -2512.5  \n",
      "Df Model:                       13                         LL-Null:                    -3306.1  \n",
      "Df Residuals:                   4774                       LLR p-value:                0.0000   \n",
      "Converged:                      1.0000                     Scale:                      1.0000   \n",
      "No. Iterations:                 7.0000                                                          \n",
      "------------------------------------------------------------------------------------------------\n",
      "                                                 Coef.  Std.Err.    z     P>|z|   [0.025  0.975]\n",
      "------------------------------------------------------------------------------------------------\n",
      "Intercept                                        0.5767   0.1060   5.4418 0.0000  0.3690  0.7844\n",
      "rowA_                                           -0.1042   0.0071 -14.7002 0.0000 -0.1181 -0.0903\n",
      "rowB_                                            0.0508   0.0059   8.5513 0.0000  0.0392  0.0625\n",
      "price_diff                                      -0.7324   0.1086  -6.7433 0.0000 -0.9453 -0.5196\n",
      "price_diff_rel                                  -0.5266   0.3330  -1.5817 0.1137 -1.1792  0.1260\n",
      "legroom_diff                                    -0.1307   0.0590  -2.2175 0.0266 -0.2463 -0.0152\n",
      "legroom_diff:distance                            0.2077   0.0434   4.7864 0.0000  0.1227  0.2928\n",
      "colA_categorical_Aisle:colB_categorical_Window  -0.1963   0.1796  -1.0933 0.2743 -0.5482  0.1556\n",
      "colA_categorical_Middle:colB_categorical_Aisle  -0.9136   0.1304  -7.0085 0.0000 -1.1691 -0.6581\n",
      "colA_categorical_Middle:colB_categorical_Window -2.8707   0.2592 -11.0740 0.0000 -3.3788 -2.3626\n",
      "colA_categorical_Window:colB_categorical_Aisle  -0.0620   0.1148  -0.5400 0.5892 -0.2870  0.1630\n",
      "colA_categorical_Window:colB_categorical_Middle  2.2045   0.1632  13.5104 0.0000  1.8847  2.5243\n",
      "plane_sideA_Left:plane_sideB_Right              -0.9931   0.1057  -9.3923 0.0000 -1.2003 -0.7858\n",
      "colA_categorical_Aisle:time_redeye              -0.8358   0.1246  -6.7078 0.0000 -1.0800 -0.5916\n",
      "================================================================================================\n",
      "\n"
     ]
    }
   ],
   "source": [
    "import statsmodels.formula.api  as smf\n",
    "\n",
    "\n",
    "logit_inter=smf.logit(\"\"\"\n",
    "                    choice_binary ~ \n",
    "                    +rowA_\n",
    "                    +rowB_ \n",
    "                    + price_diff \n",
    "                    + price_diff_rel \n",
    "                    + legroom_diff * distance \n",
    "                    - distance\n",
    "                    -colA_categorical_Aisle : colB_categorical_Aisle\n",
    "                    +colA_categorical_Aisle : colB_categorical_Window\n",
    "                    +colA_categorical_Middle : colB_categorical_Aisle \n",
    "                    -colA_categorical_Middle : colB_categorical_Middle\n",
    "                    +colA_categorical_Middle: colB_categorical_Window\n",
    "                    +colA_categorical_Window : colB_categorical_Aisle \n",
    "                    +colA_categorical_Window : colB_categorical_Middle\n",
    "                    -colA_categorical_Window: colB_categorical_Window\n",
    "                    \n",
    "                    -plane_sideA_Left : plane_sideB_Left\n",
    "                    +plane_sideA_Left : plane_sideB_Right\n",
    "                    \n",
    "                    -rowA_ : seatA_class_First\n",
    "                    -rowA_ : seatA_class_Premium\n",
    "                    -rowA_ : seatA_class_Economy\n",
    "                    \n",
    "                    -seatA_class_First : seatB_class_First\n",
    "                    -seatA_class_Premium : seatB_class_Premium\n",
    "                    -seatA_class_Economy : seatB_class_Economy\n",
    "                    \n",
    "                    +colA_categorical_Aisle : time_redeye\n",
    "                    -colA_categorical_Window : time_redeye\n",
    "\n",
    "                    \"\"\", data = df_train)\n",
    "                    \n",
    "\n",
    "logresult2=logit_inter.fit( maxiter = 500)\n",
    "\n",
    "print(logresult2.summary2())"
   ]
  },
  {
   "cell_type": "code",
   "execution_count": 342,
   "metadata": {},
   "outputs": [
    {
     "data": {
      "text/html": [
       "<div>\n",
       "<style scoped>\n",
       "    .dataframe tbody tr th:only-of-type {\n",
       "        vertical-align: middle;\n",
       "    }\n",
       "\n",
       "    .dataframe tbody tr th {\n",
       "        vertical-align: top;\n",
       "    }\n",
       "\n",
       "    .dataframe thead th {\n",
       "        text-align: right;\n",
       "    }\n",
       "</style>\n",
       "<table border=\"1\" class=\"dataframe\">\n",
       "  <thead>\n",
       "    <tr style=\"text-align: right;\">\n",
       "      <th></th>\n",
       "      <th>coef</th>\n",
       "      <th>odds ratio</th>\n",
       "      <th>pvalue</th>\n",
       "    </tr>\n",
       "  </thead>\n",
       "  <tbody>\n",
       "    <tr>\n",
       "      <th>colA_categorical_Window:colB_categorical_Middle</th>\n",
       "      <td>2.20447</td>\n",
       "      <td>9.06540</td>\n",
       "      <td>0.00000</td>\n",
       "    </tr>\n",
       "    <tr>\n",
       "      <th>Intercept</th>\n",
       "      <td>0.57673</td>\n",
       "      <td>1.78020</td>\n",
       "      <td>0.00000</td>\n",
       "    </tr>\n",
       "    <tr>\n",
       "      <th>legroom_diff:distance</th>\n",
       "      <td>0.20772</td>\n",
       "      <td>1.23086</td>\n",
       "      <td>0.00000</td>\n",
       "    </tr>\n",
       "    <tr>\n",
       "      <th>rowB_</th>\n",
       "      <td>0.05081</td>\n",
       "      <td>1.05213</td>\n",
       "      <td>0.00000</td>\n",
       "    </tr>\n",
       "    <tr>\n",
       "      <th>colA_categorical_Window:colB_categorical_Aisle</th>\n",
       "      <td>-0.06199</td>\n",
       "      <td>0.93989</td>\n",
       "      <td>0.58921</td>\n",
       "    </tr>\n",
       "    <tr>\n",
       "      <th>rowA_</th>\n",
       "      <td>-0.10424</td>\n",
       "      <td>0.90101</td>\n",
       "      <td>0.00000</td>\n",
       "    </tr>\n",
       "    <tr>\n",
       "      <th>legroom_diff</th>\n",
       "      <td>-0.13073</td>\n",
       "      <td>0.87746</td>\n",
       "      <td>0.02659</td>\n",
       "    </tr>\n",
       "    <tr>\n",
       "      <th>colA_categorical_Aisle:colB_categorical_Window</th>\n",
       "      <td>-0.19630</td>\n",
       "      <td>0.82176</td>\n",
       "      <td>0.27426</td>\n",
       "    </tr>\n",
       "    <tr>\n",
       "      <th>price_diff_rel</th>\n",
       "      <td>-0.52662</td>\n",
       "      <td>0.59060</td>\n",
       "      <td>0.11373</td>\n",
       "    </tr>\n",
       "    <tr>\n",
       "      <th>price_diff</th>\n",
       "      <td>-0.73244</td>\n",
       "      <td>0.48073</td>\n",
       "      <td>0.00000</td>\n",
       "    </tr>\n",
       "    <tr>\n",
       "      <th>colA_categorical_Aisle:time_redeye</th>\n",
       "      <td>-0.83577</td>\n",
       "      <td>0.43354</td>\n",
       "      <td>0.00000</td>\n",
       "    </tr>\n",
       "    <tr>\n",
       "      <th>colA_categorical_Middle:colB_categorical_Aisle</th>\n",
       "      <td>-0.91361</td>\n",
       "      <td>0.40107</td>\n",
       "      <td>0.00000</td>\n",
       "    </tr>\n",
       "    <tr>\n",
       "      <th>plane_sideA_Left:plane_sideB_Right</th>\n",
       "      <td>-0.99308</td>\n",
       "      <td>0.37043</td>\n",
       "      <td>0.00000</td>\n",
       "    </tr>\n",
       "    <tr>\n",
       "      <th>colA_categorical_Middle:colB_categorical_Window</th>\n",
       "      <td>-2.87068</td>\n",
       "      <td>0.05666</td>\n",
       "      <td>0.00000</td>\n",
       "    </tr>\n",
       "  </tbody>\n",
       "</table>\n",
       "</div>"
      ],
      "text/plain": [
       "                                                    coef  odds ratio  pvalue\n",
       "colA_categorical_Window:colB_categorical_Middle  2.20447     9.06540 0.00000\n",
       "Intercept                                        0.57673     1.78020 0.00000\n",
       "legroom_diff:distance                            0.20772     1.23086 0.00000\n",
       "rowB_                                            0.05081     1.05213 0.00000\n",
       "colA_categorical_Window:colB_categorical_Aisle  -0.06199     0.93989 0.58921\n",
       "rowA_                                           -0.10424     0.90101 0.00000\n",
       "legroom_diff                                    -0.13073     0.87746 0.02659\n",
       "colA_categorical_Aisle:colB_categorical_Window  -0.19630     0.82176 0.27426\n",
       "price_diff_rel                                  -0.52662     0.59060 0.11373\n",
       "price_diff                                      -0.73244     0.48073 0.00000\n",
       "colA_categorical_Aisle:time_redeye              -0.83577     0.43354 0.00000\n",
       "colA_categorical_Middle:colB_categorical_Aisle  -0.91361     0.40107 0.00000\n",
       "plane_sideA_Left:plane_sideB_Right              -0.99308     0.37043 0.00000\n",
       "colA_categorical_Middle:colB_categorical_Window -2.87068     0.05666 0.00000"
      ]
     },
     "execution_count": 342,
     "metadata": {},
     "output_type": "execute_result"
    }
   ],
   "source": [
    "feature_names = logresult2.params.index\n",
    "coefficients = logresult2.params.values\n",
    "\n",
    "coefs = pd.DataFrame({\n",
    "    'coef': coefficients,\n",
    "    'odds ratio': np.exp(logresult2.params.values),\n",
    "    'pvalue': logresult2.pvalues,\n",
    "}).sort_values(by='odds ratio', ascending=False)\n",
    "coefs"
   ]
  },
  {
   "cell_type": "markdown",
   "metadata": {},
   "source": [
    "Check the Confusion Matrix"
   ]
  },
  {
   "cell_type": "code",
   "execution_count": 218,
   "metadata": {},
   "outputs": [
    {
     "data": {
      "text/plain": [
       "6      0.00000\n",
       "8      0.91582\n",
       "22     0.09774\n",
       "34     0.01088\n",
       "35     0.67932\n",
       "         ...  \n",
       "2853   0.92784\n",
       "2855   0.96482\n",
       "2857   0.08201\n",
       "2861   0.24758\n",
       "2876   0.96468\n",
       "Length: 575, dtype: float64"
      ]
     },
     "execution_count": 218,
     "metadata": {},
     "output_type": "execute_result"
    }
   ],
   "source": [
    "predicted_output = logresult2.predict(df_test)\n",
    "predicted_output"
   ]
  },
  {
   "cell_type": "code",
   "execution_count": 225,
   "metadata": {},
   "outputs": [
    {
     "data": {
      "text/plain": [
       "<AxesSubplot:>"
      ]
     },
     "execution_count": 225,
     "metadata": {},
     "output_type": "execute_result"
    },
    {
     "data": {
      "image/png": "[encoded data removed]",
      "text/plain": [
       "<Figure size 432x288 with 2 Axes>"
      ]
     },
     "metadata": {
      "needs_background": "light"
     },
     "output_type": "display_data"
    }
   ],
   "source": [
    "pred = np.array(logresult2.predict(df_test) > 0.5, dtype=float)\n",
    "confmatrix = np.histogram2d(y_dftest, pred, bins=2)[0]\n",
    "sns.heatmap(confmatrix, annot = True, fmt='g')"
   ]
  },
  {
   "cell_type": "code",
   "execution_count": null,
   "metadata": {},
   "outputs": [],
   "source": []
  }
 ],
 "metadata": {
  "kernelspec": {
   "display_name": "Python 3",
   "language": "python",
   "name": "python3"
  },
  "language_info": {
   "codemirror_mode": {
    "name": "ipython",
    "version": 3
   },
   "file_extension": ".py",
   "mimetype": "text/x-python",
   "name": "python",
   "nbconvert_exporter": "python",
   "pygments_lexer": "ipython3",
   "version": "3.8.5"
  }
 },
 "nbformat": 4,
 "nbformat_minor": 4
}
