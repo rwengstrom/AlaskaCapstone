{
 "cells": [
  {
   "cell_type": "markdown",
   "metadata": {},
   "source": [
    "Import data from Data Cleaning output"
   ]
  },
  {
   "cell_type": "code",
   "execution_count": 419,
   "metadata": {},
   "outputs": [],
   "source": [
    "import pandas as pd\n",
    "import numpy as np\n",
    "from sklearn import preprocessing\n",
    "import matplotlib.pyplot as plt\n",
    "import seaborn as sns\n",
    "from sklearn.preprocessing import StandardScaler\n",
    "from sklearn.model_selection import train_test_split\n",
    "from sklearn.linear_model import LogisticRegression\n",
    "from sklearn.metrics import log_loss, roc_auc_score, recall_score, precision_score, average_precision_score, f1_score, classification_report, accuracy_score, plot_roc_curve, plot_precision_recall_curve, plot_confusion_matrix\n",
    "\n",
    "pd.set_option('display.float_format', lambda x: '%.5f' % x)"
   ]
  },
  {
   "cell_type": "code",
   "execution_count": 420,
   "metadata": {},
   "outputs": [
    {
     "data": {
      "text/plain": [
       "Index(['participant.code', 'question', 'choice_binary', 'rowA_', 'rowB_',\n",
       "       'price_diff', 'price_diff_rel', 'legroom_diff', 'bathroom_dist_diff',\n",
       "       'distance_', 'price_', 'colA_categorical_Aisle',\n",
       "       'colA_categorical_Middle', 'colA_categorical_Window',\n",
       "       'colB_categorical_Aisle', 'colB_categorical_Middle',\n",
       "       'colB_categorical_Window', 'seatA_class_Economy', 'seatA_class_First',\n",
       "       'seatA_class_Premium', 'seatB_class_Economy', 'seatB_class_First',\n",
       "       'seatB_class_Premium', 'plane_sideA_Left', 'plane_sideA_Right',\n",
       "       'plane_sideB_Left', 'plane_sideB_Right', 'time__Daytime',\n",
       "       'time__Red-eye', 'flyerfreq_nonflyer', 'flyerfreq_typical',\n",
       "       'flyerfreq_frequent', 'flyertype_leisure', 'flyertype_business'],\n",
       "      dtype='object')"
      ]
     },
     "execution_count": 420,
     "metadata": {},
     "output_type": "execute_result"
    }
   ],
   "source": [
    "df = pd.read_csv(\"C:/Users/Owner/Desktop/AlaskaProject/Data/modeldata.csv\")\n",
    "df.columns"
   ]
  },
  {
   "cell_type": "code",
   "execution_count": 421,
   "metadata": {},
   "outputs": [],
   "source": [
    "df.drop(['participant.code','question'],inplace = True, axis = 1)\n",
    "df.rename(columns={'time__Red-eye':'time_redeye'}, inplace=True)"
   ]
  },
  {
   "cell_type": "markdown",
   "metadata": {},
   "source": [
    "    Define variables and train/test split"
   ]
  },
  {
   "cell_type": "code",
   "execution_count": 422,
   "metadata": {},
   "outputs": [],
   "source": [
    "df_train = df.sample(frac = 0.8)\n",
    "df_test = df.drop(df_train.index)"
   ]
  },
  {
   "cell_type": "markdown",
   "metadata": {},
   "source": [
    "Scale continuous variables"
   ]
  },
  {
   "cell_type": "code",
   "execution_count": 423,
   "metadata": {},
   "outputs": [],
   "source": [
    "# Scaled Variables\n",
    "#Legroom\n",
    "df_train[\"legroom_diff\"] = preprocessing.scale(pd.to_numeric(df_train[\"legroom_diff\"]))\n",
    "df_test[\"legroom_diff\"] = preprocessing.scale(pd.to_numeric(df_test[\"legroom_diff\"]))\n",
    "\n",
    "#Variable Price\n",
    "df_train[\"price_diff\"] = preprocessing.scale(pd.to_numeric(df_train[\"price_diff\"]))\n",
    "df_test[\"price_diff\"] = preprocessing.scale(pd.to_numeric(df_test[\"price_diff\"]))\n",
    "\n",
    "#Distance\n",
    "df_train[\"distance\"] = preprocessing.scale(df_train[\"distance_\"])\n",
    "df_test[\"distance\"] = preprocessing.scale(df_test[\"distance_\"])\n"
   ]
  },
  {
   "cell_type": "code",
   "execution_count": 424,
   "metadata": {},
   "outputs": [],
   "source": [
    "# Define output variable\n",
    "y_dftrain = df_train.choice_binary\n",
    "# Drop output variable from dataset to form input vector\n",
    "X_dftrain = df_train.drop('choice_binary', axis=1)\n",
    "\n",
    "# Define output variable\n",
    "y_dftest = df_test.choice_binary\n",
    "# Drop output variable from dataset to form input vector\n",
    "X_dftest = df_test.drop('choice_binary', axis=1)\n",
    "\n"
   ]
  },
  {
   "cell_type": "markdown",
   "metadata": {},
   "source": [
    "Create Basic Logistic Regression with no interaction terms"
   ]
  },
  {
   "cell_type": "code",
   "execution_count": 425,
   "metadata": {},
   "outputs": [
    {
     "name": "stdout",
     "output_type": "stream",
     "text": [
      "Warning: Maximum number of iterations has been exceeded.\n",
      "         Current function value: 0.507537\n",
      "         Iterations: 35\n",
      "                                    Results: Logit\n",
      "======================================================================================\n",
      "Model:                      Logit                   Pseudo R-squared:        0.264    \n",
      "Dependent Variable:         choice_binary           AIC:                     4906.1709\n",
      "Date:                       2021-05-22 15:21        BIC:                     5055.0699\n",
      "No. Observations:           4788                    Log-Likelihood:          -2430.1  \n",
      "Df Model:                   22                      LL-Null:                 -3303.1  \n",
      "Df Residuals:               4765                    LLR p-value:             0.0000   \n",
      "Converged:                  0.0000                  Scale:                   1.0000   \n",
      "No. Iterations:             35.0000                                                   \n",
      "--------------------------------------------------------------------------------------\n",
      "                         Coef.    Std.Err.      z    P>|z|      [0.025       0.975]   \n",
      "--------------------------------------------------------------------------------------\n",
      "rowA_                   -1.3608       0.2201 -6.1831 0.0000       -1.7921      -0.9294\n",
      "rowB_                    1.2726       0.2168  5.8709 0.0000        0.8477       1.6974\n",
      "price_diff              -0.2386       0.1299 -1.8363 0.0663       -0.4932       0.0161\n",
      "price_diff_rel          -1.5279       0.3276 -4.6645 0.0000       -2.1699      -0.8859\n",
      "legroom_diff             0.0277       0.0817  0.3394 0.7343       -0.1324       0.1879\n",
      "bathroom_dist_diff      -1.2673       0.2226 -5.6931 0.0000       -1.7036      -0.8310\n",
      "distance_                0.1850  406750.6243  0.0000 1.0000  -797216.3894  797216.7594\n",
      "price_                  -0.0005       0.0009 -0.5412 0.5884       -0.0022       0.0013\n",
      "colA_categorical_Aisle   0.3383 3972470.5097  0.0000 1.0000 -7785898.7904 7785899.4670\n",
      "colA_categorical_Middle -0.9188 3953119.7005 -0.0000 1.0000 -7747973.1583 7747971.3208\n",
      "colA_categorical_Window  0.7293 3987498.1284  0.0000 1.0000 -7815351.9907 7815353.4494\n",
      "colB_categorical_Aisle  -0.7465          nan     nan    nan           nan          nan\n",
      "colB_categorical_Middle  1.7960          nan     nan    nan           nan          nan\n",
      "colB_categorical_Window -0.9006          nan     nan    nan           nan          nan\n",
      "seatA_class_Economy      0.1058 2545884.6121  0.0000 1.0000 -4989842.0427 4989842.2544\n",
      "seatA_class_First        0.0951 1445383.7850  0.0000 1.0000 -2832900.0675 2832900.2576\n",
      "seatA_class_Premium     -0.0520 1437306.6364 -0.0000 1.0000 -2817069.2941 2817069.1901\n",
      "seatB_class_Economy     -0.1937          nan     nan    nan           nan          nan\n",
      "seatB_class_First        0.3091          nan     nan    nan           nan          nan\n",
      "seatB_class_Premium      0.0335          nan     nan    nan           nan          nan\n",
      "plane_sideA_Left         0.2017 2294961.8606  0.0000 1.0000 -4498042.3911 4498042.7944\n",
      "plane_sideA_Right       -0.0528 2282476.7950 -0.0000 1.0000 -4473572.3665 4473572.2609\n",
      "plane_sideB_Left         0.3678  284708.8913  0.0000 1.0000  -558018.8053  558019.5409\n",
      "plane_sideB_Right       -0.2189  142378.2036 -0.0000 1.0000  -279056.3701  279055.9323\n",
      "time__Daytime            0.1431 2537689.0060  0.0000 1.0000 -4973778.9126 4973779.1988\n",
      "time_redeye              0.0057 2530903.3074  0.0000 1.0000 -4960479.3252 4960479.3367\n",
      "flyerfreq_nonflyer       0.0040 1941007.3121  0.0000 1.0000 -3804304.4215 3804304.4295\n",
      "flyerfreq_typical       -0.0076 1933027.4112 -0.0000 1.0000 -3788664.1147 3788664.0995\n",
      "flyerfreq_frequent       0.1524 1928380.7344  0.0000 1.0000 -3779556.6355 3779556.9403\n",
      "flyertype_leisure        0.0958          nan     nan    nan           nan          nan\n",
      "flyertype_business       0.0530          nan     nan    nan           nan          nan\n",
      "distance                -0.2064  556414.7617 -0.0000 1.0000 -1090553.0997 1090552.6870\n",
      "======================================================================================\n",
      "\n"
     ]
    },
    {
     "name": "stderr",
     "output_type": "stream",
     "text": [
      "C:\\ProgramData\\Anaconda3\\lib\\site-packages\\statsmodels\\base\\model.py:566: ConvergenceWarning: Maximum Likelihood optimization failed to converge. Check mle_retvals\n",
      "  warnings.warn(\"Maximum Likelihood optimization failed to \"\n"
     ]
    }
   ],
   "source": [
    "import statsmodels.api as sm\n",
    "logitmodel=sm.Logit(y_dftrain,X_dftrain)\n",
    "logresult=logitmodel.fit()\n",
    "print(logresult.summary2())"
   ]
  },
  {
   "cell_type": "code",
   "execution_count": 553,
   "metadata": {},
   "outputs": [
    {
     "name": "stdout",
     "output_type": "stream",
     "text": [
      "Optimization terminated successfully.\n",
      "         Current function value: 0.519517\n",
      "         Iterations 7\n",
      "                                         Results: Logit\n",
      "================================================================================================\n",
      "Model:                          Logit                      Pseudo R-squared:           0.247    \n",
      "Dependent Variable:             choice_binary              AIC:                        5004.8943\n",
      "Date:                           2021-05-22 16:15           BIC:                        5102.0024\n",
      "No. Observations:               4788                       Log-Likelihood:             -2487.4  \n",
      "Df Model:                       14                         LL-Null:                    -3303.1  \n",
      "Df Residuals:                   4773                       LLR p-value:                0.0000   \n",
      "Converged:                      1.0000                     Scale:                      1.0000   \n",
      "No. Iterations:                 7.0000                                                          \n",
      "------------------------------------------------------------------------------------------------\n",
      "                                                 Coef.  Std.Err.    z     P>|z|   [0.025  0.975]\n",
      "------------------------------------------------------------------------------------------------\n",
      "Intercept                                        0.5493   0.1056   5.1996 0.0000  0.3422  0.7563\n",
      "rowA_                                           -0.1021   0.0069 -14.7876 0.0000 -0.1157 -0.0886\n",
      "rowB_                                            0.0525   0.0058   9.0815 0.0000  0.0412  0.0639\n",
      "price_diff                                      -0.7617   0.1244  -6.1223 0.0000 -1.0055 -0.5178\n",
      "legroom_diff                                    -0.1421   0.0564  -2.5196 0.0117 -0.2527 -0.0316\n",
      "legroom_diff:distance                            0.1210   0.0443   2.7339 0.0063  0.0343  0.2078\n",
      "price_diff_rel                                  -1.0181   0.3835  -2.6551 0.0079 -1.7697 -0.2666\n",
      "colA_categorical_Middle:colB_categorical_Aisle  -0.9531   0.1346  -7.0812 0.0000 -1.2169 -0.6893\n",
      "colA_categorical_Middle:colB_categorical_Window -2.8842   0.2587 -11.1468 0.0000 -3.3913 -2.3770\n",
      "colA_categorical_Window:colB_categorical_Middle  2.4476   0.1750  13.9875 0.0000  2.1047  2.7906\n",
      "plane_sideA_Left:plane_sideB_Right              -0.8608   0.1075  -8.0084 0.0000 -1.0715 -0.6501\n",
      "colA_categorical_Aisle:time_redeye              -0.7932   0.1213  -6.5397 0.0000 -1.0309 -0.5555\n",
      "colA_categorical_Window:time_redeye             -0.1788   0.0873  -2.0476 0.0406 -0.3500 -0.0077\n",
      "price_diff:flyerfreq_frequent                    0.1795   0.0911   1.9698 0.0489  0.0009  0.3581\n",
      "price_diff:flyertype_business                    0.2218   0.1054   2.1033 0.0354  0.0151  0.4284\n",
      "================================================================================================\n",
      "\n"
     ]
    }
   ],
   "source": [
    "import statsmodels.formula.api  as smf\n",
    "\n",
    "\n",
    "logit_inter=smf.logit(\"\"\"\n",
    "                    choice_binary ~ \n",
    "                    +rowA_\n",
    "                    +rowB_ \n",
    "                    +price_diff \n",
    "                    +legroom_diff * distance \n",
    "                    \n",
    "                    -distance\n",
    "                    +price_diff_rel \n",
    "                                        \n",
    "                    +colA_categorical_Middle : colB_categorical_Aisle \n",
    "                    +colA_categorical_Middle: colB_categorical_Window\n",
    "                    +colA_categorical_Window : colB_categorical_Middle\n",
    "\n",
    "                    +plane_sideA_Left : plane_sideB_Right\n",
    "                    \n",
    "                    +colA_categorical_Aisle : time_redeye\n",
    "                    +colA_categorical_Window : time_redeye\n",
    "                    \n",
    "                    +price_diff : flyerfreq_frequent\n",
    "                    +price_diff : flyertype_business\n",
    "\n",
    "                \n",
    "\n",
    "                    \"\"\", data = df_train)\n",
    "                    \n",
    "\n",
    "logresult2=logit_inter.fit( maxiter = 500)\n",
    "\n",
    "print(logresult2.summary2())"
   ]
  },
  {
   "cell_type": "code",
   "execution_count": 554,
   "metadata": {},
   "outputs": [
    {
     "data": {
      "text/html": [
       "<div>\n",
       "<style scoped>\n",
       "    .dataframe tbody tr th:only-of-type {\n",
       "        vertical-align: middle;\n",
       "    }\n",
       "\n",
       "    .dataframe tbody tr th {\n",
       "        vertical-align: top;\n",
       "    }\n",
       "\n",
       "    .dataframe thead th {\n",
       "        text-align: right;\n",
       "    }\n",
       "</style>\n",
       "<table border=\"1\" class=\"dataframe\">\n",
       "  <thead>\n",
       "    <tr style=\"text-align: right;\">\n",
       "      <th></th>\n",
       "      <th>coef</th>\n",
       "      <th>odds ratio</th>\n",
       "      <th>pvalue</th>\n",
       "    </tr>\n",
       "  </thead>\n",
       "  <tbody>\n",
       "    <tr>\n",
       "      <th>colA_categorical_Window:colB_categorical_Middle</th>\n",
       "      <td>2.44764</td>\n",
       "      <td>11.56102</td>\n",
       "      <td>0.00000</td>\n",
       "    </tr>\n",
       "    <tr>\n",
       "      <th>Intercept</th>\n",
       "      <td>0.54929</td>\n",
       "      <td>1.73203</td>\n",
       "      <td>0.00000</td>\n",
       "    </tr>\n",
       "    <tr>\n",
       "      <th>price_diff:flyertype_business</th>\n",
       "      <td>0.22176</td>\n",
       "      <td>1.24827</td>\n",
       "      <td>0.03544</td>\n",
       "    </tr>\n",
       "    <tr>\n",
       "      <th>price_diff:flyerfreq_frequent</th>\n",
       "      <td>0.17951</td>\n",
       "      <td>1.19664</td>\n",
       "      <td>0.04886</td>\n",
       "    </tr>\n",
       "    <tr>\n",
       "      <th>legroom_diff:distance</th>\n",
       "      <td>0.12104</td>\n",
       "      <td>1.12867</td>\n",
       "      <td>0.00626</td>\n",
       "    </tr>\n",
       "    <tr>\n",
       "      <th>rowB_</th>\n",
       "      <td>0.05252</td>\n",
       "      <td>1.05393</td>\n",
       "      <td>0.00000</td>\n",
       "    </tr>\n",
       "    <tr>\n",
       "      <th>rowA_</th>\n",
       "      <td>-0.10215</td>\n",
       "      <td>0.90290</td>\n",
       "      <td>0.00000</td>\n",
       "    </tr>\n",
       "    <tr>\n",
       "      <th>legroom_diff</th>\n",
       "      <td>-0.14211</td>\n",
       "      <td>0.86753</td>\n",
       "      <td>0.01175</td>\n",
       "    </tr>\n",
       "    <tr>\n",
       "      <th>colA_categorical_Window:time_redeye</th>\n",
       "      <td>-0.17884</td>\n",
       "      <td>0.83624</td>\n",
       "      <td>0.04060</td>\n",
       "    </tr>\n",
       "    <tr>\n",
       "      <th>price_diff</th>\n",
       "      <td>-0.76167</td>\n",
       "      <td>0.46688</td>\n",
       "      <td>0.00000</td>\n",
       "    </tr>\n",
       "    <tr>\n",
       "      <th>colA_categorical_Aisle:time_redeye</th>\n",
       "      <td>-0.79320</td>\n",
       "      <td>0.45240</td>\n",
       "      <td>0.00000</td>\n",
       "    </tr>\n",
       "    <tr>\n",
       "      <th>plane_sideA_Left:plane_sideB_Right</th>\n",
       "      <td>-0.86080</td>\n",
       "      <td>0.42282</td>\n",
       "      <td>0.00000</td>\n",
       "    </tr>\n",
       "    <tr>\n",
       "      <th>colA_categorical_Middle:colB_categorical_Aisle</th>\n",
       "      <td>-0.95311</td>\n",
       "      <td>0.38554</td>\n",
       "      <td>0.00000</td>\n",
       "    </tr>\n",
       "    <tr>\n",
       "      <th>price_diff_rel</th>\n",
       "      <td>-1.01815</td>\n",
       "      <td>0.36126</td>\n",
       "      <td>0.00793</td>\n",
       "    </tr>\n",
       "    <tr>\n",
       "      <th>colA_categorical_Middle:colB_categorical_Window</th>\n",
       "      <td>-2.88417</td>\n",
       "      <td>0.05590</td>\n",
       "      <td>0.00000</td>\n",
       "    </tr>\n",
       "  </tbody>\n",
       "</table>\n",
       "</div>"
      ],
      "text/plain": [
       "                                                    coef  odds ratio  pvalue\n",
       "colA_categorical_Window:colB_categorical_Middle  2.44764    11.56102 0.00000\n",
       "Intercept                                        0.54929     1.73203 0.00000\n",
       "price_diff:flyertype_business                    0.22176     1.24827 0.03544\n",
       "price_diff:flyerfreq_frequent                    0.17951     1.19664 0.04886\n",
       "legroom_diff:distance                            0.12104     1.12867 0.00626\n",
       "rowB_                                            0.05252     1.05393 0.00000\n",
       "rowA_                                           -0.10215     0.90290 0.00000\n",
       "legroom_diff                                    -0.14211     0.86753 0.01175\n",
       "colA_categorical_Window:time_redeye             -0.17884     0.83624 0.04060\n",
       "price_diff                                      -0.76167     0.46688 0.00000\n",
       "colA_categorical_Aisle:time_redeye              -0.79320     0.45240 0.00000\n",
       "plane_sideA_Left:plane_sideB_Right              -0.86080     0.42282 0.00000\n",
       "colA_categorical_Middle:colB_categorical_Aisle  -0.95311     0.38554 0.00000\n",
       "price_diff_rel                                  -1.01815     0.36126 0.00793\n",
       "colA_categorical_Middle:colB_categorical_Window -2.88417     0.05590 0.00000"
      ]
     },
     "execution_count": 554,
     "metadata": {},
     "output_type": "execute_result"
    }
   ],
   "source": [
    "feature_names = logresult2.params.index\n",
    "coefficients = logresult2.params.values\n",
    "\n",
    "coefs = pd.DataFrame({\n",
    "    'coef': coefficients,\n",
    "    'odds ratio': np.exp(logresult2.params.values),\n",
    "    'pvalue': logresult2.pvalues,\n",
    "}).sort_values(by='odds ratio', ascending=False)\n",
    "coefs"
   ]
  },
  {
   "cell_type": "markdown",
   "metadata": {},
   "source": [
    "Check the Confusion Matrix"
   ]
  },
  {
   "cell_type": "code",
   "execution_count": 555,
   "metadata": {},
   "outputs": [
    {
     "data": {
      "text/plain": [
       "0      0.63413\n",
       "6      0.24528\n",
       "7      0.40314\n",
       "20     0.96850\n",
       "21     0.71038\n",
       "         ...  \n",
       "5966   0.59338\n",
       "5968   0.46153\n",
       "5977   0.37195\n",
       "5979   0.30343\n",
       "5984   0.96796\n",
       "Length: 1197, dtype: float64"
      ]
     },
     "execution_count": 555,
     "metadata": {},
     "output_type": "execute_result"
    }
   ],
   "source": [
    "predicted_output = logresult2.predict(df_test)\n",
    "predicted_output"
   ]
  },
  {
   "cell_type": "code",
   "execution_count": 556,
   "metadata": {},
   "outputs": [
    {
     "data": {
      "text/plain": [
       "<AxesSubplot:>"
      ]
     },
     "execution_count": 556,
     "metadata": {},
     "output_type": "execute_result"
    },
    {
     "data": {
      "image/png": "[encoded data removed]",
      "text/plain": [
       "<Figure size 432x288 with 2 Axes>"
      ]
     },
     "metadata": {
      "needs_background": "light"
     },
     "output_type": "display_data"
    }
   ],
   "source": [
    "pred = np.array(logresult2.predict(df_test) > 0.5, dtype=float)\n",
    "confmatrix = np.histogram2d(y_dftest, pred, bins=2)[0]\n",
    "sns.heatmap(confmatrix, annot = True, fmt='g')"
   ]
  },
  {
   "cell_type": "code",
   "execution_count": 557,
   "metadata": {},
   "outputs": [
    {
     "data": {
      "text/plain": [
       "0.7610693400167085"
      ]
     },
     "execution_count": 557,
     "metadata": {},
     "output_type": "execute_result"
    }
   ],
   "source": [
    "TN = confmatrix[0,0]\n",
    "TP = confmatrix[1,1]\n",
    "FN = confmatrix[1,0]\n",
    "FP = confmatrix[0,1]\n",
    "\n",
    "correct = TN+TP\n",
    "incorrect = FN+FP\n",
    "\n",
    "accuracy = correct/(correct+incorrect)\n",
    "accuracy"
   ]
  },
  {
   "cell_type": "code",
   "execution_count": null,
   "metadata": {},
   "outputs": [],
   "source": []
  },
  {
   "cell_type": "code",
   "execution_count": null,
   "metadata": {},
   "outputs": [],
   "source": []
  }
 ],
 "metadata": {
  "kernelspec": {
   "display_name": "Python 3",
   "language": "python",
   "name": "python3"
  },
  "language_info": {
   "codemirror_mode": {
    "name": "ipython",
    "version": 3
   },
   "file_extension": ".py",
   "mimetype": "text/x-python",
   "name": "python",
   "nbconvert_exporter": "python",
   "pygments_lexer": "ipython3",
   "version": "3.8.5"
  }
 },
 "nbformat": 4,
 "nbformat_minor": 4
}
