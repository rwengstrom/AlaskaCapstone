{
 "cells": [
  {
   "cell_type": "code",
   "execution_count": 5,
   "metadata": {},
   "outputs": [
    {
     "name": "stdout",
     "output_type": "stream",
     "text": [
      "Collecting pandas\n",
      "  Using cached pandas-1.2.4-cp39-cp39-macosx_10_9_x86_64.whl (10.7 MB)\n",
      "Requirement already satisfied: pytz>=2017.3 in /Library/Frameworks/Python.framework/Versions/3.9/lib/python3.9/site-packages (from pandas) (2021.1)\n",
      "Requirement already satisfied: python-dateutil>=2.7.3 in /Library/Frameworks/Python.framework/Versions/3.9/lib/python3.9/site-packages (from pandas) (2.8.1)\n",
      "Collecting numpy>=1.16.5\n",
      "  Using cached numpy-1.20.2-cp39-cp39-macosx_10_9_x86_64.whl (16.1 MB)\n",
      "Requirement already satisfied: six>=1.5 in /Library/Frameworks/Python.framework/Versions/3.9/lib/python3.9/site-packages (from python-dateutil>=2.7.3->pandas) (1.15.0)\n",
      "Installing collected packages: numpy, pandas\n",
      "Successfully installed numpy-1.20.2 pandas-1.2.4\n",
      "\u001b[33mWARNING: You are using pip version 20.2.3; however, version 21.0.1 is available.\n",
      "You should consider upgrading via the '/Library/Frameworks/Python.framework/Versions/3.9/bin/python3.9 -m pip install --upgrade pip' command.\u001b[0m\n"
     ]
    }
   ],
   "source": [
    "!pip3 install pandas\n",
    "import pandas as pd\n",
    "import numpy as np"
   ]
  },
  {
   "cell_type": "code",
   "execution_count": 9,
   "metadata": {},
   "outputs": [
    {
     "name": "stderr",
     "output_type": "stream",
     "text": [
      "/Library/Frameworks/Python.framework/Versions/3.9/lib/python3.9/site-packages/IPython/core/interactiveshell.py:3165: DtypeWarning: Columns (6,7,8,25,26,60,72,84,96,108,120,132,144,156,168,180,192,204,216,228,240,252,264,276,283,288,289,290) have mixed types.Specify dtype option on import or set low_memory=False.\n",
      "  has_raised = await self.run_ast_nodes(code_ast.body, cell_name,\n"
     ]
    }
   ],
   "source": [
    "df = pd.read_csv(\"seatsurveymodel.csv\")"
   ]
  },
  {
   "cell_type": "code",
   "execution_count": 10,
   "metadata": {},
   "outputs": [
    {
     "data": {
      "text/plain": [
       "Index(['participant.id_in_session', 'participant.code', 'participant.label',\n",
       "       'participant._is_bot', 'participant._index_in_pages',\n",
       "       'participant._max_page_index', 'participant._current_app_name',\n",
       "       'participant._current_page_name', 'participant.time_started',\n",
       "       'participant.visited',\n",
       "       ...\n",
       "       'survey.1.player.gender', 'survey.1.player.feet',\n",
       "       'survey.1.player.inches', 'survey.1.player.rt',\n",
       "       'survey.1.player.bizlei', 'survey.1.player.seattype',\n",
       "       'survey.1.player.section', 'survey.1.player.comment',\n",
       "       'survey.1.group.id_in_subsession', 'survey.1.subsession.round_number'],\n",
       "      dtype='object', length=293)"
      ]
     },
     "execution_count": 10,
     "metadata": {},
     "output_type": "execute_result"
    }
   ],
   "source": [
    "df.columns"
   ]
  },
  {
   "cell_type": "code",
   "execution_count": 12,
   "metadata": {},
   "outputs": [],
   "source": [
    "df.drop(['participant.code','participant.label','participant._is_bot',\n",
    "        'participant._current_app_name','participant._current_page_name','participant.visited',\n",
    "        'participant.mturk_worker_id','participant.mturk_assignment_id','participant.payoff',\n",
    "        'session.code','session.label','session.mturk_HITId','session.mturk_HITGroupId','session.comment',\n",
    "        'session.is_demo'], inplace = True, axis = 1\n",
    "       )"
   ]
  },
  {
   "cell_type": "code",
   "execution_count": 13,
   "metadata": {},
   "outputs": [
    {
     "data": {
      "text/plain": [
       "Index(['participant.id_in_session', 'participant._index_in_pages',\n",
       "       'participant._max_page_index', 'participant.time_started',\n",
       "       'session.config.real_world_currency_per_point',\n",
       "       'session.config.participation_fee', 'randseq.1.player.id_in_group',\n",
       "       'randseq.1.player.role', 'randseq.1.player.payoff',\n",
       "       'randseq.1.player.page_sequence',\n",
       "       ...\n",
       "       'survey.1.player.gender', 'survey.1.player.feet',\n",
       "       'survey.1.player.inches', 'survey.1.player.rt',\n",
       "       'survey.1.player.bizlei', 'survey.1.player.seattype',\n",
       "       'survey.1.player.section', 'survey.1.player.comment',\n",
       "       'survey.1.group.id_in_subsession', 'survey.1.subsession.round_number'],\n",
       "      dtype='object', length=278)"
      ]
     },
     "execution_count": 13,
     "metadata": {},
     "output_type": "execute_result"
    }
   ],
   "source": [
    "df.columns"
   ]
  },
  {
   "cell_type": "code",
   "execution_count": 30,
   "metadata": {},
   "outputs": [
    {
     "name": "stdout",
     "output_type": "stream",
     "text": [
      "    participant.id_in_session participant._index_in_pages  \\\n",
      "0                           2                          23   \n",
      "1                           2                          23   \n",
      "2                           2                          23   \n",
      "3                           1                          23   \n",
      "4                           1                          23   \n",
      "..                        ...                         ...   \n",
      "256                       183                          23   \n",
      "257                       183                          23   \n",
      "258                       186                          23   \n",
      "259                       186                          23   \n",
      "260                       186                          23   \n",
      "\n",
      "    participant._max_page_index          participant.time_started  \\\n",
      "0                            22  2021-04-15 09:30:39.667824+00:00   \n",
      "1                            22  2021-04-15 09:30:39.667824+00:00   \n",
      "2                            22  2021-04-15 09:30:39.667824+00:00   \n",
      "3                            22  2021-04-15 23:36:35.096369+00:00   \n",
      "4                            22  2021-04-15 23:36:35.096369+00:00   \n",
      "..                          ...                               ...   \n",
      "256                          22  2021-04-19 15:35:05.846065+00:00   \n",
      "257                          22  2021-04-19 15:35:05.846065+00:00   \n",
      "258                          22  2021-04-19 16:12:06.788534+00:00   \n",
      "259                          22  2021-04-19 16:12:06.788534+00:00   \n",
      "260                          22  2021-04-19 16:12:06.788534+00:00   \n",
      "\n",
      "                                  player.page_sequence player.choice1  \\\n",
      "0    [\"Q9\", \"Q12\", \"Q2\", \"Q6\", \"Q8\", \"Q11\", \"Q14\", ...         Seat B   \n",
      "1    [\"Q9\", \"Q12\", \"Q2\", \"Q6\", \"Q8\", \"Q11\", \"Q14\", ...         Seat B   \n",
      "2    [\"Q9\", \"Q12\", \"Q2\", \"Q6\", \"Q8\", \"Q11\", \"Q14\", ...         Seat B   \n",
      "3    [\"Q21\", \"Q15\", \"Q4\", \"Q2\", \"Q19\", \"Q12\", \"Q10\"...         Seat A   \n",
      "4    [\"Q21\", \"Q15\", \"Q4\", \"Q2\", \"Q19\", \"Q12\", \"Q10\"...         Seat A   \n",
      "..                                                 ...            ...   \n",
      "256  [\"Q3\", \"Q13\", \"Q9\", \"Q17\", \"Q15\", \"Q2\", \"Q10\",...         Seat A   \n",
      "257  [\"Q3\", \"Q13\", \"Q9\", \"Q17\", \"Q15\", \"Q2\", \"Q10\",...         Seat A   \n",
      "258  [\"Q1\", \"Q17\", \"Q3\", \"Q16\", \"Q18\", \"Q4\", \"Q21\",...         Seat B   \n",
      "259  [\"Q1\", \"Q17\", \"Q3\", \"Q16\", \"Q18\", \"Q4\", \"Q21\",...         Seat B   \n",
      "260  [\"Q1\", \"Q17\", \"Q3\", \"Q16\", \"Q18\", \"Q4\", \"Q21\",...         Seat B   \n",
      "\n",
      "    player.choice2 player.distance_1 player.time_1 player.price_1  ...  \\\n",
      "0           Seat B               2.9       Red-eye            165  ...   \n",
      "1           Seat B               2.9       Red-eye            165  ...   \n",
      "2           Seat B               2.9       Red-eye            165  ...   \n",
      "3           Seat B               3.4       Red-eye            194  ...   \n",
      "4           Seat B               3.4       Red-eye            194  ...   \n",
      "..             ...               ...           ...            ...  ...   \n",
      "256         Seat B               1.9       Red-eye            128  ...   \n",
      "257         Seat B               1.9       Red-eye            128  ...   \n",
      "258         Seat B               1.6       Red-eye             70  ...   \n",
      "259         Seat B               1.6       Red-eye             70  ...   \n",
      "260         Seat B               1.6       Red-eye             70  ...   \n",
      "\n",
      "    player.price_21 player.row_21a player.row_21b player.col_21a  \\\n",
      "0               284             10             23              A   \n",
      "1               284             10             23              A   \n",
      "2               284             10             23              A   \n",
      "3                98             10             23              A   \n",
      "4                98             10             23              A   \n",
      "..              ...            ...            ...            ...   \n",
      "256             222             10             23              A   \n",
      "257             222             10             23              A   \n",
      "258              76             10             23              A   \n",
      "259              76             10             23              A   \n",
      "260              76             10             23              A   \n",
      "\n",
      "    player.col_21b player.price_21a player.price_21b player.legroom_21a  \\\n",
      "0                B                8                6                  1   \n",
      "1                B                8                6                  1   \n",
      "2                B                8                6                  1   \n",
      "3                B                0                0                  1   \n",
      "4                B                0                0                  1   \n",
      "..             ...              ...              ...                ...   \n",
      "256              B                3                0                  1   \n",
      "257              B                3                0                  1   \n",
      "258              B                0                0                  1   \n",
      "259              B                0                0                  1   \n",
      "260              B                0                0                  1   \n",
      "\n",
      "    player.legroom_21b player.choice_21  \n",
      "0                    1           Seat A  \n",
      "1                    1           Seat A  \n",
      "2                    1           Seat A  \n",
      "3                    1           Seat A  \n",
      "4                    1           Seat A  \n",
      "..                 ...              ...  \n",
      "256                  1           Seat A  \n",
      "257                  1           Seat A  \n",
      "258                  1           Seat A  \n",
      "259                  1           Seat A  \n",
      "260                  1           Seat A  \n",
      "\n",
      "[261 rows x 257 columns]\n"
     ]
    }
   ],
   "source": [
    "newdf = pd.DataFrame(np.repeat(df.values,3,axis=0))\n",
    "newdf.columns = df.columns\n",
    "print(newdf)"
   ]
  },
  {
   "cell_type": "code",
   "execution_count": null,
   "metadata": {},
   "outputs": [],
   "source": []
  }
 ],
 "metadata": {
  "kernelspec": {
   "display_name": "Python 3",
   "language": "python",
   "name": "python3"
  },
  "language_info": {
   "codemirror_mode": {
    "name": "ipython",
    "version": 3
   },
   "file_extension": ".py",
   "mimetype": "text/x-python",
   "name": "python",
   "nbconvert_exporter": "python",
   "pygments_lexer": "ipython3",
   "version": "3.9.4"
  }
 },
 "nbformat": 4,
 "nbformat_minor": 4
}
