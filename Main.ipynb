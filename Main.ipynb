{
 "cells": [
  {
   "cell_type": "code",
   "execution_count": 12,
   "metadata": {},
   "outputs": [],
   "source": [
    "import pandas as pd\n",
    "import numpy as np\n",
    "import matplotlib.pyplot as plt"
   ]
  },
  {
   "cell_type": "code",
   "execution_count": 5,
   "metadata": {
    "collapsed": true,
    "jupyter": {
     "outputs_hidden": true
    },
    "tags": []
   },
   "outputs": [
    {
     "output_type": "stream",
     "name": "stderr",
     "text": [
      "/opt/anaconda3/lib/python3.8/site-packages/IPython/core/interactiveshell.py:3146: DtypeWarning: Columns (6,7,8,25,26,60,72,84,96,108,120,132,144,156,168,180,192,204,216,228,240,252,264,276,283,288,289,290) have mixed types.Specify dtype option on import or set low_memory=False.\n  has_raised = await self.run_ast_nodes(code_ast.body, cell_name,\n"
     ]
    }
   ],
   "source": [
    "df = pd.read_csv(\"seatsurveymodel.csv\")"
   ]
  },
  {
   "cell_type": "code",
   "execution_count": 6,
   "metadata": {},
   "outputs": [
    {
     "output_type": "execute_result",
     "data": {
      "text/plain": [
       "Index(['participant.id_in_session', 'participant.code', 'participant.label',\n",
       "       'participant._is_bot', 'participant._index_in_pages',\n",
       "       'participant._max_page_index', 'participant._current_app_name',\n",
       "       'participant._current_page_name', 'participant.time_started',\n",
       "       'participant.visited',\n",
       "       ...\n",
       "       'survey.1.player.gender', 'survey.1.player.feet',\n",
       "       'survey.1.player.inches', 'survey.1.player.rt',\n",
       "       'survey.1.player.bizlei', 'survey.1.player.seattype',\n",
       "       'survey.1.player.section', 'survey.1.player.comment',\n",
       "       'survey.1.group.id_in_subsession', 'survey.1.subsession.round_number'],\n",
       "      dtype='object', length=293)"
      ]
     },
     "metadata": {},
     "execution_count": 6
    }
   ],
   "source": [
    "df.columns"
   ]
  },
  {
   "cell_type": "code",
   "execution_count": 7,
   "metadata": {},
   "outputs": [],
   "source": [
    "df.drop(['participant.code','participant.label','participant._is_bot',\n",
    "        'participant._current_app_name','participant._current_page_name','participant.visited',\n",
    "        'participant.mturk_worker_id','participant.mturk_assignment_id','participant.payoff',\n",
    "        'session.code','session.label','session.mturk_HITId','session.mturk_HITGroupId','session.comment',\n",
    "        'session.is_demo'], inplace = True, axis = 1\n",
    "       )"
   ]
  },
  {
   "cell_type": "code",
   "execution_count": 13,
   "metadata": {},
   "outputs": [
    {
     "data": {
      "text/plain": [
       "Index(['participant.id_in_session', 'participant._index_in_pages',\n",
       "       'participant._max_page_index', 'participant.time_started',\n",
       "       'session.config.real_world_currency_per_point',\n",
       "       'session.config.participation_fee', 'randseq.1.player.id_in_group',\n",
       "       'randseq.1.player.role', 'randseq.1.player.payoff',\n",
       "       'randseq.1.player.page_sequence',\n",
       "       ...\n",
       "       'survey.1.player.gender', 'survey.1.player.feet',\n",
       "       'survey.1.player.inches', 'survey.1.player.rt',\n",
       "       'survey.1.player.bizlei', 'survey.1.player.seattype',\n",
       "       'survey.1.player.section', 'survey.1.player.comment',\n",
       "       'survey.1.group.id_in_subsession', 'survey.1.subsession.round_number'],\n",
       "      dtype='object', length=278)"
      ]
     },
     "execution_count": 13,
     "metadata": {},
     "output_type": "execute_result"
    }
   ],
   "source": [
    "df.columns"
   ]
  },
  {
   "cell_type": "code",
   "execution_count": 11,
   "metadata": {},
   "outputs": [
    {
     "output_type": "stream",
     "name": "stdout",
     "text": [
      "<class 'pandas.core.frame.DataFrame'>\nRangeIndex: 5036 entries, 0 to 5035\nColumns: 278 entries, participant.id_in_session to survey.1.subsession.round_number\ndtypes: float64(28), int64(160), object(90)\nmemory usage: 10.7+ MB\n"
     ]
    },
    {
     "output_type": "execute_result",
     "data": {
      "text/plain": [
       "       participant.id_in_session  participant._index_in_pages  \\\n",
       "count                5036.000000                  5036.000000   \n",
       "mean                 2482.671565                     0.726966   \n",
       "std                  1453.618385                     3.867661   \n",
       "min                     1.000000                     0.000000   \n",
       "25%                  1223.750000                     0.000000   \n",
       "50%                  2482.500000                     0.000000   \n",
       "75%                  3741.250000                     0.000000   \n",
       "max                  5000.000000                    23.000000   \n",
       "\n",
       "       participant._max_page_index  \\\n",
       "count                       5036.0   \n",
       "mean                          22.0   \n",
       "std                            0.0   \n",
       "min                           22.0   \n",
       "25%                           22.0   \n",
       "50%                           22.0   \n",
       "75%                           22.0   \n",
       "max                           22.0   \n",
       "\n",
       "       session.config.real_world_currency_per_point  \\\n",
       "count                                        5036.0   \n",
       "mean                                            1.0   \n",
       "std                                             0.0   \n",
       "min                                             1.0   \n",
       "25%                                             1.0   \n",
       "50%                                             1.0   \n",
       "75%                                             1.0   \n",
       "max                                             1.0   \n",
       "\n",
       "       session.config.participation_fee  randseq.1.player.id_in_group  \\\n",
       "count                            5036.0                   5036.000000   \n",
       "mean                                0.0                   2482.671565   \n",
       "std                                 0.0                   1453.618385   \n",
       "min                                 0.0                      1.000000   \n",
       "25%                                 0.0                   1223.750000   \n",
       "50%                                 0.0                   2482.500000   \n",
       "75%                                 0.0                   3741.250000   \n",
       "max                                 0.0                   5000.000000   \n",
       "\n",
       "       randseq.1.player.role  randseq.1.player.payoff  \\\n",
       "count                    0.0                   5036.0   \n",
       "mean                     NaN                      0.0   \n",
       "std                      NaN                      0.0   \n",
       "min                      NaN                      0.0   \n",
       "25%                      NaN                      0.0   \n",
       "50%                      NaN                      0.0   \n",
       "75%                      NaN                      0.0   \n",
       "max                      NaN                      0.0   \n",
       "\n",
       "       randseq.1.player.distance_1  randseq.1.player.price_1  ...  \\\n",
       "count                  5036.000000               5036.000000  ...   \n",
       "mean                      3.119817                165.687053  ...   \n",
       "std                       1.380239                 81.907123  ...   \n",
       "min                       0.800000                 29.000000  ...   \n",
       "25%                       1.900000                 98.000000  ...   \n",
       "50%                       3.100000                160.000000  ...   \n",
       "75%                       4.300000                223.000000  ...   \n",
       "max                       5.500000                386.000000  ...   \n",
       "\n",
       "       survey.1.player.id_in_group  survey.1.player.role  \\\n",
       "count                  5036.000000                   0.0   \n",
       "mean                   2482.671565                   NaN   \n",
       "std                    1453.618385                   NaN   \n",
       "min                       1.000000                   NaN   \n",
       "25%                    1223.750000                   NaN   \n",
       "50%                    2482.500000                   NaN   \n",
       "75%                    3741.250000                   NaN   \n",
       "max                    5000.000000                   NaN   \n",
       "\n",
       "       survey.1.player.payoff  survey.1.player.age  survey.1.player.feet  \\\n",
       "count                  5036.0           139.000000             139.00000   \n",
       "mean                      0.0            35.791367               5.18705   \n",
       "std                       0.0            12.883241               0.42679   \n",
       "min                       0.0            13.000000               4.00000   \n",
       "25%                       0.0            26.000000               5.00000   \n",
       "50%                       0.0            32.000000               5.00000   \n",
       "75%                       0.0            42.500000               5.00000   \n",
       "max                       0.0            76.000000               6.00000   \n",
       "\n",
       "       survey.1.player.inches  survey.1.player.rt  survey.1.player.bizlei  \\\n",
       "count              139.000000          139.000000              139.000000   \n",
       "mean                 5.647482            5.971223               19.028777   \n",
       "std                  3.556711            8.855476               31.640174   \n",
       "min                  0.000000            0.000000                0.000000   \n",
       "25%                  3.000000            2.000000                0.000000   \n",
       "50%                  6.000000            3.000000                0.000000   \n",
       "75%                  9.000000            6.000000               25.000000   \n",
       "max                 11.000000           60.000000              100.000000   \n",
       "\n",
       "       survey.1.group.id_in_subsession  survey.1.subsession.round_number  \n",
       "count                           5036.0                            5036.0  \n",
       "mean                               1.0                               1.0  \n",
       "std                                0.0                               0.0  \n",
       "min                                1.0                               1.0  \n",
       "25%                                1.0                               1.0  \n",
       "50%                                1.0                               1.0  \n",
       "75%                                1.0                               1.0  \n",
       "max                                1.0                               1.0  \n",
       "\n",
       "[8 rows x 188 columns]"
      ],
      "text/html": "<div>\n<style scoped>\n    .dataframe tbody tr th:only-of-type {\n        vertical-align: middle;\n    }\n\n    .dataframe tbody tr th {\n        vertical-align: top;\n    }\n\n    .dataframe thead th {\n        text-align: right;\n    }\n</style>\n<table border=\"1\" class=\"dataframe\">\n  <thead>\n    <tr style=\"text-align: right;\">\n      <th></th>\n      <th>participant.id_in_session</th>\n      <th>participant._index_in_pages</th>\n      <th>participant._max_page_index</th>\n      <th>session.config.real_world_currency_per_point</th>\n      <th>session.config.participation_fee</th>\n      <th>randseq.1.player.id_in_group</th>\n      <th>randseq.1.player.role</th>\n      <th>randseq.1.player.payoff</th>\n      <th>randseq.1.player.distance_1</th>\n      <th>randseq.1.player.price_1</th>\n      <th>...</th>\n      <th>survey.1.player.id_in_group</th>\n      <th>survey.1.player.role</th>\n      <th>survey.1.player.payoff</th>\n      <th>survey.1.player.age</th>\n      <th>survey.1.player.feet</th>\n      <th>survey.1.player.inches</th>\n      <th>survey.1.player.rt</th>\n      <th>survey.1.player.bizlei</th>\n      <th>survey.1.group.id_in_subsession</th>\n      <th>survey.1.subsession.round_number</th>\n    </tr>\n  </thead>\n  <tbody>\n    <tr>\n      <th>count</th>\n      <td>5036.000000</td>\n      <td>5036.000000</td>\n      <td>5036.0</td>\n      <td>5036.0</td>\n      <td>5036.0</td>\n      <td>5036.000000</td>\n      <td>0.0</td>\n      <td>5036.0</td>\n      <td>5036.000000</td>\n      <td>5036.000000</td>\n      <td>...</td>\n      <td>5036.000000</td>\n      <td>0.0</td>\n      <td>5036.0</td>\n      <td>139.000000</td>\n      <td>139.00000</td>\n      <td>139.000000</td>\n      <td>139.000000</td>\n      <td>139.000000</td>\n      <td>5036.0</td>\n      <td>5036.0</td>\n    </tr>\n    <tr>\n      <th>mean</th>\n      <td>2482.671565</td>\n      <td>0.726966</td>\n      <td>22.0</td>\n      <td>1.0</td>\n      <td>0.0</td>\n      <td>2482.671565</td>\n      <td>NaN</td>\n      <td>0.0</td>\n      <td>3.119817</td>\n      <td>165.687053</td>\n      <td>...</td>\n      <td>2482.671565</td>\n      <td>NaN</td>\n      <td>0.0</td>\n      <td>35.791367</td>\n      <td>5.18705</td>\n      <td>5.647482</td>\n      <td>5.971223</td>\n      <td>19.028777</td>\n      <td>1.0</td>\n      <td>1.0</td>\n    </tr>\n    <tr>\n      <th>std</th>\n      <td>1453.618385</td>\n      <td>3.867661</td>\n      <td>0.0</td>\n      <td>0.0</td>\n      <td>0.0</td>\n      <td>1453.618385</td>\n      <td>NaN</td>\n      <td>0.0</td>\n      <td>1.380239</td>\n      <td>81.907123</td>\n      <td>...</td>\n      <td>1453.618385</td>\n      <td>NaN</td>\n      <td>0.0</td>\n      <td>12.883241</td>\n      <td>0.42679</td>\n      <td>3.556711</td>\n      <td>8.855476</td>\n      <td>31.640174</td>\n      <td>0.0</td>\n      <td>0.0</td>\n    </tr>\n    <tr>\n      <th>min</th>\n      <td>1.000000</td>\n      <td>0.000000</td>\n      <td>22.0</td>\n      <td>1.0</td>\n      <td>0.0</td>\n      <td>1.000000</td>\n      <td>NaN</td>\n      <td>0.0</td>\n      <td>0.800000</td>\n      <td>29.000000</td>\n      <td>...</td>\n      <td>1.000000</td>\n      <td>NaN</td>\n      <td>0.0</td>\n      <td>13.000000</td>\n      <td>4.00000</td>\n      <td>0.000000</td>\n      <td>0.000000</td>\n      <td>0.000000</td>\n      <td>1.0</td>\n      <td>1.0</td>\n    </tr>\n    <tr>\n      <th>25%</th>\n      <td>1223.750000</td>\n      <td>0.000000</td>\n      <td>22.0</td>\n      <td>1.0</td>\n      <td>0.0</td>\n      <td>1223.750000</td>\n      <td>NaN</td>\n      <td>0.0</td>\n      <td>1.900000</td>\n      <td>98.000000</td>\n      <td>...</td>\n      <td>1223.750000</td>\n      <td>NaN</td>\n      <td>0.0</td>\n      <td>26.000000</td>\n      <td>5.00000</td>\n      <td>3.000000</td>\n      <td>2.000000</td>\n      <td>0.000000</td>\n      <td>1.0</td>\n      <td>1.0</td>\n    </tr>\n    <tr>\n      <th>50%</th>\n      <td>2482.500000</td>\n      <td>0.000000</td>\n      <td>22.0</td>\n      <td>1.0</td>\n      <td>0.0</td>\n      <td>2482.500000</td>\n      <td>NaN</td>\n      <td>0.0</td>\n      <td>3.100000</td>\n      <td>160.000000</td>\n      <td>...</td>\n      <td>2482.500000</td>\n      <td>NaN</td>\n      <td>0.0</td>\n      <td>32.000000</td>\n      <td>5.00000</td>\n      <td>6.000000</td>\n      <td>3.000000</td>\n      <td>0.000000</td>\n      <td>1.0</td>\n      <td>1.0</td>\n    </tr>\n    <tr>\n      <th>75%</th>\n      <td>3741.250000</td>\n      <td>0.000000</td>\n      <td>22.0</td>\n      <td>1.0</td>\n      <td>0.0</td>\n      <td>3741.250000</td>\n      <td>NaN</td>\n      <td>0.0</td>\n      <td>4.300000</td>\n      <td>223.000000</td>\n      <td>...</td>\n      <td>3741.250000</td>\n      <td>NaN</td>\n      <td>0.0</td>\n      <td>42.500000</td>\n      <td>5.00000</td>\n      <td>9.000000</td>\n      <td>6.000000</td>\n      <td>25.000000</td>\n      <td>1.0</td>\n      <td>1.0</td>\n    </tr>\n    <tr>\n      <th>max</th>\n      <td>5000.000000</td>\n      <td>23.000000</td>\n      <td>22.0</td>\n      <td>1.0</td>\n      <td>0.0</td>\n      <td>5000.000000</td>\n      <td>NaN</td>\n      <td>0.0</td>\n      <td>5.500000</td>\n      <td>386.000000</td>\n      <td>...</td>\n      <td>5000.000000</td>\n      <td>NaN</td>\n      <td>0.0</td>\n      <td>76.000000</td>\n      <td>6.00000</td>\n      <td>11.000000</td>\n      <td>60.000000</td>\n      <td>100.000000</td>\n      <td>1.0</td>\n      <td>1.0</td>\n    </tr>\n  </tbody>\n</table>\n<p>8 rows × 188 columns</p>\n</div>"
     },
     "metadata": {},
     "execution_count": 11
    }
   ],
   "source": [
    "df.info()\n",
    "df.describe()"
   ]
  },
  {
   "cell_type": "code",
   "execution_count": null,
   "metadata": {},
   "outputs": [],
   "source": []
  }
 ],
 "metadata": {
  "kernelspec": {
   "name": "python391jvsc74a57bd0aee8b7b246df8f9039afb4144a1f6fd8d2ca17a180786b69acc140d282b71a49",
   "display_name": "Python 3.9.1 64-bit"
  },
  "language_info": {
   "codemirror_mode": {
    "name": "ipython",
    "version": 3
   },
   "file_extension": ".py",
   "mimetype": "text/x-python",
   "name": "python",
   "nbconvert_exporter": "python",
   "pygments_lexer": "ipython3",
   "version": "3.9.1"
  },
  "metadata": {
   "interpreter": {
    "hash": "aee8b7b246df8f9039afb4144a1f6fd8d2ca17a180786b69acc140d282b71a49"
   }
  }
 },
 "nbformat": 4,
 "nbformat_minor": 4
}