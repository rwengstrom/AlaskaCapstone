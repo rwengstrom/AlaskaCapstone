{
 "cells": [
  {
   "cell_type": "code",
   "execution_count": 2,
   "metadata": {},
   "outputs": [
    {
     "ename": "ModuleNotFoundError",
     "evalue": "No module named 'pandas'",
     "output_type": "error",
     "traceback": [
      "\u001b[0;31m---------------------------------------------------------------------------\u001b[0m",
      "\u001b[0;31mModuleNotFoundError\u001b[0m                       Traceback (most recent call last)",
      "\u001b[0;32m<ipython-input-2-baf368f80de7>\u001b[0m in \u001b[0;36m<module>\u001b[0;34m\u001b[0m\n\u001b[0;32m----> 1\u001b[0;31m \u001b[0;32mimport\u001b[0m \u001b[0mpandas\u001b[0m \u001b[0;32mas\u001b[0m \u001b[0mpd\u001b[0m\u001b[0;34m\u001b[0m\u001b[0;34m\u001b[0m\u001b[0m\n\u001b[0m\u001b[1;32m      2\u001b[0m \u001b[0;32mimport\u001b[0m \u001b[0mnumpy\u001b[0m \u001b[0;32mas\u001b[0m \u001b[0mnp\u001b[0m\u001b[0;34m\u001b[0m\u001b[0;34m\u001b[0m\u001b[0m\n",
      "\u001b[0;31mModuleNotFoundError\u001b[0m: No module named 'pandas'"
     ]
    }
   ],
   "source": [
    "import pandas as pd\n",
    "import numpy as np"
   ]
  },
  {
   "cell_type": "code",
   "execution_count": 21,
   "metadata": {},
   "outputs": [],
   "source": [
    "df = pd.read_csv('seatsurveymodel.csv')"
   ]
  },
  {
   "cell_type": "code",
   "execution_count": 22,
   "metadata": {},
   "outputs": [
    {
     "data": {
      "text/plain": [
       "Index(['participant.id_in_session', 'participant.code', 'participant.label',\n",
       "       'participant._is_bot', 'participant._index_in_pages',\n",
       "       'participant._max_page_index', 'participant._current_app_name',\n",
       "       'participant._current_page_name', 'participant.time_started',\n",
       "       'participant.visited',\n",
       "       ...\n",
       "       'player.legroom_21b', 'player.choice_21', 'group.id_in_subsession',\n",
       "       'subsession.round_number', 'session.code', 'session.label',\n",
       "       'session.mturk_HITId', 'session.mturk_HITGroupId', 'session.comment',\n",
       "       'session.is_demo'],\n",
       "      dtype='object', length=277)"
      ]
     },
     "execution_count": 22,
     "metadata": {},
     "output_type": "execute_result"
    }
   ],
   "source": [
    "df.columns"
   ]
  },
  {
   "cell_type": "code",
   "execution_count": 28,
   "metadata": {},
   "outputs": [],
   "source": [
    "df.drop(['participant.code','participant.label','participant._is_bot',\n",
    "        'participant._current_app_name','participant._current_page_name','participant.visited',\n",
    "        'participant.mturk_worker_id','participant.mturk_assignment_id','participant.payoff',\n",
    "        'player.id_in_group','player.role','player.payoff','group.id_in_subsession','subsession.round_number',\n",
    "        'session.code','session.label','session.mturk_HITId','session.mturk_HITGroupId','session.comment',\n",
    "        'session.is_demo'], inplace = True, axis = 1\n",
    "       )"
   ]
  },
  {
   "cell_type": "code",
   "execution_count": 29,
   "metadata": {},
   "outputs": [
    {
     "data": {
      "text/plain": [
       "Index(['participant.id_in_session', 'participant._index_in_pages',\n",
       "       'participant._max_page_index', 'participant.time_started',\n",
       "       'player.page_sequence', 'player.choice1', 'player.choice2',\n",
       "       'player.distance_1', 'player.time_1', 'player.price_1',\n",
       "       ...\n",
       "       'player.price_21', 'player.row_21a', 'player.row_21b', 'player.col_21a',\n",
       "       'player.col_21b', 'player.price_21a', 'player.price_21b',\n",
       "       'player.legroom_21a', 'player.legroom_21b', 'player.choice_21'],\n",
       "      dtype='object', length=257)"
      ]
     },
     "execution_count": 29,
     "metadata": {},
     "output_type": "execute_result"
    }
   ],
   "source": [
    "df.columns"
   ]
  },
  {
   "cell_type": "code",
   "execution_count": 30,
   "metadata": {},
   "outputs": [
    {
     "name": "stdout",
     "output_type": "stream",
     "text": [
      "    participant.id_in_session participant._index_in_pages  \\\n",
      "0                           2                          23   \n",
      "1                           2                          23   \n",
      "2                           2                          23   \n",
      "3                           1                          23   \n",
      "4                           1                          23   \n",
      "..                        ...                         ...   \n",
      "256                       183                          23   \n",
      "257                       183                          23   \n",
      "258                       186                          23   \n",
      "259                       186                          23   \n",
      "260                       186                          23   \n",
      "\n",
      "    participant._max_page_index          participant.time_started  \\\n",
      "0                            22  2021-04-15 09:30:39.667824+00:00   \n",
      "1                            22  2021-04-15 09:30:39.667824+00:00   \n",
      "2                            22  2021-04-15 09:30:39.667824+00:00   \n",
      "3                            22  2021-04-15 23:36:35.096369+00:00   \n",
      "4                            22  2021-04-15 23:36:35.096369+00:00   \n",
      "..                          ...                               ...   \n",
      "256                          22  2021-04-19 15:35:05.846065+00:00   \n",
      "257                          22  2021-04-19 15:35:05.846065+00:00   \n",
      "258                          22  2021-04-19 16:12:06.788534+00:00   \n",
      "259                          22  2021-04-19 16:12:06.788534+00:00   \n",
      "260                          22  2021-04-19 16:12:06.788534+00:00   \n",
      "\n",
      "                                  player.page_sequence player.choice1  \\\n",
      "0    [\"Q9\", \"Q12\", \"Q2\", \"Q6\", \"Q8\", \"Q11\", \"Q14\", ...         Seat B   \n",
      "1    [\"Q9\", \"Q12\", \"Q2\", \"Q6\", \"Q8\", \"Q11\", \"Q14\", ...         Seat B   \n",
      "2    [\"Q9\", \"Q12\", \"Q2\", \"Q6\", \"Q8\", \"Q11\", \"Q14\", ...         Seat B   \n",
      "3    [\"Q21\", \"Q15\", \"Q4\", \"Q2\", \"Q19\", \"Q12\", \"Q10\"...         Seat A   \n",
      "4    [\"Q21\", \"Q15\", \"Q4\", \"Q2\", \"Q19\", \"Q12\", \"Q10\"...         Seat A   \n",
      "..                                                 ...            ...   \n",
      "256  [\"Q3\", \"Q13\", \"Q9\", \"Q17\", \"Q15\", \"Q2\", \"Q10\",...         Seat A   \n",
      "257  [\"Q3\", \"Q13\", \"Q9\", \"Q17\", \"Q15\", \"Q2\", \"Q10\",...         Seat A   \n",
      "258  [\"Q1\", \"Q17\", \"Q3\", \"Q16\", \"Q18\", \"Q4\", \"Q21\",...         Seat B   \n",
      "259  [\"Q1\", \"Q17\", \"Q3\", \"Q16\", \"Q18\", \"Q4\", \"Q21\",...         Seat B   \n",
      "260  [\"Q1\", \"Q17\", \"Q3\", \"Q16\", \"Q18\", \"Q4\", \"Q21\",...         Seat B   \n",
      "\n",
      "    player.choice2 player.distance_1 player.time_1 player.price_1  ...  \\\n",
      "0           Seat B               2.9       Red-eye            165  ...   \n",
      "1           Seat B               2.9       Red-eye            165  ...   \n",
      "2           Seat B               2.9       Red-eye            165  ...   \n",
      "3           Seat B               3.4       Red-eye            194  ...   \n",
      "4           Seat B               3.4       Red-eye            194  ...   \n",
      "..             ...               ...           ...            ...  ...   \n",
      "256         Seat B               1.9       Red-eye            128  ...   \n",
      "257         Seat B               1.9       Red-eye            128  ...   \n",
      "258         Seat B               1.6       Red-eye             70  ...   \n",
      "259         Seat B               1.6       Red-eye             70  ...   \n",
      "260         Seat B               1.6       Red-eye             70  ...   \n",
      "\n",
      "    player.price_21 player.row_21a player.row_21b player.col_21a  \\\n",
      "0               284             10             23              A   \n",
      "1               284             10             23              A   \n",
      "2               284             10             23              A   \n",
      "3                98             10             23              A   \n",
      "4                98             10             23              A   \n",
      "..              ...            ...            ...            ...   \n",
      "256             222             10             23              A   \n",
      "257             222             10             23              A   \n",
      "258              76             10             23              A   \n",
      "259              76             10             23              A   \n",
      "260              76             10             23              A   \n",
      "\n",
      "    player.col_21b player.price_21a player.price_21b player.legroom_21a  \\\n",
      "0                B                8                6                  1   \n",
      "1                B                8                6                  1   \n",
      "2                B                8                6                  1   \n",
      "3                B                0                0                  1   \n",
      "4                B                0                0                  1   \n",
      "..             ...              ...              ...                ...   \n",
      "256              B                3                0                  1   \n",
      "257              B                3                0                  1   \n",
      "258              B                0                0                  1   \n",
      "259              B                0                0                  1   \n",
      "260              B                0                0                  1   \n",
      "\n",
      "    player.legroom_21b player.choice_21  \n",
      "0                    1           Seat A  \n",
      "1                    1           Seat A  \n",
      "2                    1           Seat A  \n",
      "3                    1           Seat A  \n",
      "4                    1           Seat A  \n",
      "..                 ...              ...  \n",
      "256                  1           Seat A  \n",
      "257                  1           Seat A  \n",
      "258                  1           Seat A  \n",
      "259                  1           Seat A  \n",
      "260                  1           Seat A  \n",
      "\n",
      "[261 rows x 257 columns]\n"
     ]
    }
   ],
   "source": [
    "newdf = pd.DataFrame(np.repeat(df.values,3,axis=0))\n",
    "newdf.columns = df.columns\n",
    "print(newdf)"
   ]
  },
  {
   "cell_type": "code",
   "execution_count": null,
   "metadata": {},
   "outputs": [],
   "source": []
  }
 ],
 "metadata": {
  "kernelspec": {
   "display_name": "Python 3",
   "language": "python",
   "name": "python3"
  },
  "language_info": {
   "codemirror_mode": {
    "name": "ipython",
    "version": 3
   },
   "file_extension": ".py",
   "mimetype": "text/x-python",
   "name": "python",
   "nbconvert_exporter": "python",
   "pygments_lexer": "ipython3",
   "version": "3.9.4"
  }
 },
 "nbformat": 4,
 "nbformat_minor": 4
}
