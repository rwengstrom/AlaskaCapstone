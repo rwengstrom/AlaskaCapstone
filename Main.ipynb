{
 "cells": [
  {
   "cell_type": "code",
   "execution_count": 14,
   "metadata": {},
   "outputs": [],
   "source": [
    "import pandas as pd\n",
    "import numpy as np"
   ]
  },
  {
   "cell_type": "code",
   "execution_count": 9,
   "metadata": {
    "collapsed": true,
    "jupyter": {
     "outputs_hidden": true
    },
    "tags": []
   },
   "outputs": [
    {
     "name": "stderr",
     "output_type": "stream",
     "text": [
      "/Library/Frameworks/Python.framework/Versions/3.9/lib/python3.9/site-packages/IPython/core/interactiveshell.py:3165: DtypeWarning: Columns (6,7,8,25,26,60,72,84,96,108,120,132,144,156,168,180,192,204,216,228,240,252,264,276,283,288,289,290) have mixed types.Specify dtype option on import or set low_memory=False.\n",
      "  has_raised = await self.run_ast_nodes(code_ast.body, cell_name,\n"
     ]
    }
   ],
   "source": [
    "df = pd.read_csv(\"seatsurveymodel.csv\")"
   ]
  },
  {
   "cell_type": "code",
   "execution_count": 10,
   "metadata": {},
   "outputs": [
    {
     "data": {
      "text/plain": [
       "Index(['participant.id_in_session', 'participant.code', 'participant.label',\n",
       "       'participant._is_bot', 'participant._index_in_pages',\n",
       "       'participant._max_page_index', 'participant._current_app_name',\n",
       "       'participant._current_page_name', 'participant.time_started',\n",
       "       'participant.visited',\n",
       "       ...\n",
       "       'survey.1.player.gender', 'survey.1.player.feet',\n",
       "       'survey.1.player.inches', 'survey.1.player.rt',\n",
       "       'survey.1.player.bizlei', 'survey.1.player.seattype',\n",
       "       'survey.1.player.section', 'survey.1.player.comment',\n",
       "       'survey.1.group.id_in_subsession', 'survey.1.subsession.round_number'],\n",
       "      dtype='object', length=293)"
      ]
     },
     "execution_count": 10,
     "metadata": {},
     "output_type": "execute_result"
    }
   ],
   "source": [
    "df.columns"
   ]
  },
  {
   "cell_type": "code",
   "execution_count": 12,
   "metadata": {},
   "outputs": [],
   "source": [
    "df.drop(['participant.code','participant.label','participant._is_bot',\n",
    "        'participant._current_app_name','participant._current_page_name','participant.visited',\n",
    "        'participant.mturk_worker_id','participant.mturk_assignment_id','participant.payoff',\n",
    "        'session.code','session.label','session.mturk_HITId','session.mturk_HITGroupId','session.comment',\n",
    "        'session.is_demo'], inplace = True, axis = 1\n",
    "       )"
   ]
  },
  {
   "cell_type": "code",
   "execution_count": 13,
   "metadata": {},
   "outputs": [
    {
     "data": {
      "text/plain": [
       "Index(['participant.id_in_session', 'participant._index_in_pages',\n",
       "       'participant._max_page_index', 'participant.time_started',\n",
       "       'session.config.real_world_currency_per_point',\n",
       "       'session.config.participation_fee', 'randseq.1.player.id_in_group',\n",
       "       'randseq.1.player.role', 'randseq.1.player.payoff',\n",
       "       'randseq.1.player.page_sequence',\n",
       "       ...\n",
       "       'survey.1.player.gender', 'survey.1.player.feet',\n",
       "       'survey.1.player.inches', 'survey.1.player.rt',\n",
       "       'survey.1.player.bizlei', 'survey.1.player.seattype',\n",
       "       'survey.1.player.section', 'survey.1.player.comment',\n",
       "       'survey.1.group.id_in_subsession', 'survey.1.subsession.round_number'],\n",
       "      dtype='object', length=278)"
      ]
     },
     "execution_count": 13,
     "metadata": {},
     "output_type": "execute_result"
    }
   ],
   "source": [
    "df.columns"
   ]
  },
  {
   "cell_type": "code",
   "execution_count": null,
   "metadata": {},
   "outputs": [],
   "source": []
  }
 ],
 "metadata": {
  "kernelspec": {
   "display_name": "Python 3",
   "language": "python",
   "name": "python3"
  },
  "language_info": {
   "codemirror_mode": {
    "name": "ipython",
    "version": 3
   },
   "file_extension": ".py",
   "mimetype": "text/x-python",
   "name": "python",
   "nbconvert_exporter": "python",
   "pygments_lexer": "ipython3",
   "version": "3.9.4"
  }
 },
 "nbformat": 4,
 "nbformat_minor": 4
}
