{
 "cells": [
  {
   "cell_type": "code",
   "execution_count": 19,
   "metadata": {},
   "outputs": [],
   "source": [
    "import pandas as pd\n",
    "import numpy as np\n",
    "from sklearn import preprocessing\n",
    "#import matplotlib.pyplot as plt\n",
    "#from sklearn.preprocessing import StandardScaler\n",
    "from sklearn.model_selection import train_test_split\n",
    "#from sklearn.linear_model import LogisticRegression\n",
    "#from sklearn.metrics import log_loss, roc_auc_score, recall_score, precision_score, average_precision_score, f1_score, classification_report, accuracy_score, plot_roc_curve, plot_precision_recall_curve, plot_confusion_matrix"
   ]
  },
  {
   "source": [
    "Step 1: Import data from exported raw survey data"
   ],
   "cell_type": "markdown",
   "metadata": {}
  },
  {
   "cell_type": "code",
   "execution_count": 20,
   "metadata": {
    "tags": []
   },
   "outputs": [
    {
     "output_type": "stream",
     "name": "stderr",
     "text": [
      "/opt/anaconda3/lib/python3.8/site-packages/IPython/core/interactiveshell.py:3146: DtypeWarning: Columns (6,7,8,25,26,60,72,84,96,108,120,132,144,156,168,180,192,204,216,228,240,252,264,276,283,288,289,290) have mixed types.Specify dtype option on import or set low_memory=False.\n  has_raised = await self.run_ast_nodes(code_ast.body, cell_name,\n"
     ]
    }
   ],
   "source": [
    "df = pd.read_csv(\"seatsurveymodel.csv\")"
   ]
  },
  {
   "source": [
    "Step 2: Observe and summarize data"
   ],
   "cell_type": "markdown",
   "metadata": {}
  },
  {
   "cell_type": "code",
   "execution_count": 21,
   "metadata": {},
   "outputs": [
    {
     "output_type": "execute_result",
     "data": {
      "text/plain": [
       "Index(['participant.id_in_session', 'participant.code', 'participant.label',\n",
       "       'participant._is_bot', 'participant._index_in_pages',\n",
       "       'participant._max_page_index', 'participant._current_app_name',\n",
       "       'participant._current_page_name', 'participant.time_started',\n",
       "       'participant.visited',\n",
       "       ...\n",
       "       'survey.1.player.gender', 'survey.1.player.feet',\n",
       "       'survey.1.player.inches', 'survey.1.player.rt',\n",
       "       'survey.1.player.bizlei', 'survey.1.player.seattype',\n",
       "       'survey.1.player.section', 'survey.1.player.comment',\n",
       "       'survey.1.group.id_in_subsession', 'survey.1.subsession.round_number'],\n",
       "      dtype='object', length=293)"
      ]
     },
     "metadata": {},
     "execution_count": 21
    }
   ],
   "source": [
    "# Column names overview\n",
    "df.columns"
   ]
  },
  {
   "source": [
    "Step 3: Trim width of dataframe"
   ],
   "cell_type": "markdown",
   "metadata": {}
  },
  {
   "cell_type": "code",
   "execution_count": 22,
   "metadata": {},
   "outputs": [],
   "source": [
    "# Drop irrelevant columns\n",
    "df.drop(['participant.label','participant._is_bot','participant._max_page_index',\n",
    "        'participant._current_page_name','participant.visited',\n",
    "        'participant.mturk_worker_id','participant.mturk_assignment_id','participant.payoff',\n",
    "        'session.label','session.mturk_HITId','session.mturk_HITGroupId','session.comment', 'session.is_demo',  'session.config.real_world_currency_per_point', 'session.config.participation_fee', 'randseq.1.player.role', 'randseq.1.player.payoff', 'randseq.1.group.id_in_subsession', 'randseq.1.subsession.round_number', 'survey.1.player.id_in_group', 'survey.1.player.role', 'survey.1.player.payoff'], inplace = True, axis = 1\n",
    "       )"
   ]
  },
  {
   "cell_type": "code",
   "execution_count": 23,
   "metadata": {},
   "outputs": [
    {
     "output_type": "execute_result",
     "data": {
      "text/plain": [
       "Index(['participant.id_in_session', 'participant.code',\n",
       "       'participant._index_in_pages', 'participant._current_app_name',\n",
       "       'participant.time_started', 'session.code',\n",
       "       'randseq.1.player.id_in_group', 'randseq.1.player.page_sequence',\n",
       "       'randseq.1.player.choice1', 'randseq.1.player.choice2',\n",
       "       ...\n",
       "       'survey.1.player.gender', 'survey.1.player.feet',\n",
       "       'survey.1.player.inches', 'survey.1.player.rt',\n",
       "       'survey.1.player.bizlei', 'survey.1.player.seattype',\n",
       "       'survey.1.player.section', 'survey.1.player.comment',\n",
       "       'survey.1.group.id_in_subsession', 'survey.1.subsession.round_number'],\n",
       "      dtype='object', length=271)"
      ]
     },
     "metadata": {},
     "execution_count": 23
    }
   ],
   "source": [
    "# Verify removal of specified columns\n",
    "df.columns"
   ]
  },
  {
   "source": [
    "Step 4: Re-label fields"
   ],
   "cell_type": "markdown",
   "metadata": {}
  },
  {
   "cell_type": "code",
   "execution_count": 24,
   "metadata": {},
   "outputs": [],
   "source": [
    "# Rename/shorten column names\n",
    "df.rename(columns=\n",
    "{\n",
    "\"session.code\": \"session_code\",    \n",
    "\"participant.id_in_session\": \"id_in_session\",\n",
    "\"participant._index_in_pages\": \"index_in_pages\",\n",
    "\"participant._current_app_name\": \"current_app_name\",\n",
    "\"participant.time_started\": \"time_started\",\n",
    "\"randseq.1.player.id_in_group\": \"id_in_group\",\n",
    "\"randseq.1.player.page_sequence\": \"page_sequence\",\n",
    "\n",
    "\"randseq.1.player.choice1\": \"choice1\",\n",
    "\"randseq.1.player.distance_1\": \"distance_1\",\n",
    "\"randseq.1.player.time_1\": \"time_1\",\n",
    "\"randseq.1.player.price_1\": \"price_1\",\n",
    "\"randseq.1.player.row_1a\": \"rowA_1\",\n",
    "\"randseq.1.player.row_1b\": \"rowB_1\",\n",
    "\"randseq.1.player.col_1a\": \"colA_1\",\n",
    "\"randseq.1.player.col_1b\": \"colB_1\",\n",
    "\"randseq.1.player.price_1a\": \"priceA_1\",\n",
    "\"randseq.1.player.price_1b\": \"priceB_1\",\n",
    "\"randseq.1.player.legroom_1a\": \"legroomA_1\",\n",
    "\"randseq.1.player.legroom_1b\": \"legroomB_1\",\n",
    "\n",
    "\"randseq.1.player.choice2\": \"choice2\",\n",
    "\"randseq.1.player.distance_2\": \"distance_2\",\n",
    "\"randseq.1.player.time_2\": \"time_2\",\n",
    "\"randseq.1.player.price_2\": \"price_2\",\n",
    "\"randseq.1.player.row_2a\": \"rowA_2\",\n",
    "\"randseq.1.player.row_2b\": \"rowB_2\",\n",
    "\"randseq.1.player.col_2a\": \"colA_2\",\n",
    "\"randseq.1.player.col_2b\": \"colB_2\",\n",
    "\"randseq.1.player.price_2a\": \"priceA_2\",\n",
    "\"randseq.1.player.price_2b\": \"priceB_2\",\n",
    "\"randseq.1.player.legroom_2a\": \"legroomA_2\",\n",
    "\"randseq.1.player.legroom_2b\": \"legroomB_2\",\n",
    "\n",
    "\"randseq.1.player.choice3\": \"choice3\",\n",
    "\"randseq.1.player.distance_3\": \"distance_3\",\n",
    "\"randseq.1.player.time_3\": \"time_3\",\n",
    "\"randseq.1.player.price_3\": \"price_3\",\n",
    "\"randseq.1.player.row_3a\": \"rowA_3\",\n",
    "\"randseq.1.player.row_3b\": \"rowB_3\",\n",
    "\"randseq.1.player.col_3a\": \"colA_3\",\n",
    "\"randseq.1.player.col_3b\": \"colB_3\",\n",
    "\"randseq.1.player.price_3a\": \"priceA_3\",\n",
    "\"randseq.1.player.price_3b\": \"priceB_3\",\n",
    "\"randseq.1.player.legroom_3a\": \"legroomA_3\",\n",
    "\"randseq.1.player.legroom_3b\": \"legroomB_3\",\n",
    "\n",
    "\"randseq.1.player.choice4\": \"choice4\",\n",
    "\"randseq.1.player.distance_4\": \"distance_4\",\n",
    "\"randseq.1.player.time_4\": \"time_4\",\n",
    "\"randseq.1.player.price_4\": \"price_4\",\n",
    "\"randseq.1.player.row_4a\": \"rowA_4\",\n",
    "\"randseq.1.player.row_4b\": \"rowB_4\",\n",
    "\"randseq.1.player.col_4a\": \"colA_4\",\n",
    "\"randseq.1.player.col_4b\": \"colB_4\",\n",
    "\"randseq.1.player.price_4a\": \"priceA_4\",\n",
    "\"randseq.1.player.price_4b\": \"priceB_4\",\n",
    "\"randseq.1.player.legroom_4a\": \"legroomA_4\",\n",
    "\"randseq.1.player.legroom_4b\": \"legroomB_4\",\n",
    "\n",
    "\"randseq.1.player.choice_5\": \"choice5\",\n",
    "\"randseq.1.player.distance_5\": \"distance_5\",\n",
    "\"randseq.1.player.time_5\": \"time_5\",\n",
    "\"randseq.1.player.price_5\": \"price_5\",\n",
    "\"randseq.1.player.row_5a\": \"rowA_5\",\n",
    "\"randseq.1.player.row_5b\": \"rowB_5\",\n",
    "\"randseq.1.player.col_5a\": \"colA_5\",\n",
    "\"randseq.1.player.col_5b\": \"colB_5\",\n",
    "\"randseq.1.player.price_5a\": \"priceA_5\",\n",
    "\"randseq.1.player.price_5b\": \"priceB_5\",\n",
    "\"randseq.1.player.legroom_5a\": \"legroomA_5\",\n",
    "\"randseq.1.player.legroom_5b\": \"legroomB_5\",\n",
    "\n",
    "\"randseq.1.player.choice_6\": \"choice6\",\n",
    "\"randseq.1.player.distance_6\": \"distance_6\",\n",
    "\"randseq.1.player.time_6\": \"time_6\",\n",
    "\"randseq.1.player.price_6\": \"price_6\",\n",
    "\"randseq.1.player.row_6a\": \"rowA_6\",\n",
    "\"randseq.1.player.row_6b\": \"rowB_6\",\n",
    "\"randseq.1.player.col_6a\": \"colA_6\",\n",
    "\"randseq.1.player.col_6b\": \"colB_6\",\n",
    "\"randseq.1.player.price_6a\": \"priceA_6\",\n",
    "\"randseq.1.player.price_6b\": \"priceB_6\",\n",
    "\"randseq.1.player.legroom_6a\": \"legroomA_6\",\n",
    "\"randseq.1.player.legroom_6b\": \"legroomB_6\",\n",
    "\n",
    "\"randseq.1.player.choice_7\": \"choice7\",\n",
    "\"randseq.1.player.distance_7\": \"distance_7\",\n",
    "\"randseq.1.player.time_7\": \"time_7\",\n",
    "\"randseq.1.player.price_7\": \"price_7\",\n",
    "\"randseq.1.player.row_7a\": \"rowA_7\",\n",
    "\"randseq.1.player.row_7b\": \"rowB_7\",\n",
    "\"randseq.1.player.col_7a\": \"colA_7\",\n",
    "\"randseq.1.player.col_7b\": \"colB_7\",\n",
    "\"randseq.1.player.price_7a\": \"priceA_7\",\n",
    "\"randseq.1.player.price_7b\": \"priceB_7\",\n",
    "\"randseq.1.player.legroom_7a\": \"legroomA_7\",\n",
    "\"randseq.1.player.legroom_7b\": \"legroomB_7\",\n",
    "\n",
    "\"randseq.1.player.choice_8\": \"choice8\",\n",
    "\"randseq.1.player.distance_8\": \"distance_8\",\n",
    "\"randseq.1.player.time_8\": \"time_8\",\n",
    "\"randseq.1.player.price_8\": \"price_8\",\n",
    "\"randseq.1.player.row_8a\": \"rowA_8\",\n",
    "\"randseq.1.player.row_8b\": \"rowB_8\",\n",
    "\"randseq.1.player.col_8a\": \"colA_8\",\n",
    "\"randseq.1.player.col_8b\": \"colB_8\",\n",
    "\"randseq.1.player.price_8a\": \"priceA_8\",\n",
    "\"randseq.1.player.price_8b\": \"priceB_8\",\n",
    "\"randseq.1.player.legroom_8a\": \"legroomA_8\",\n",
    "\"randseq.1.player.legroom_8b\": \"legroomB_8\",\n",
    "\n",
    "\"randseq.1.player.choice_9\": \"choice9\",\n",
    "\"randseq.1.player.distance_9\": \"distance_9\",\n",
    "\"randseq.1.player.time_9\": \"time_9\",\n",
    "\"randseq.1.player.price_9\": \"price_9\",\n",
    "\"randseq.1.player.row_9a\": \"rowA_9\",\n",
    "\"randseq.1.player.row_9b\": \"rowB_9\",\n",
    "\"randseq.1.player.col_9a\": \"colA_9\",\n",
    "\"randseq.1.player.col_9b\": \"colB_9\",\n",
    "\"randseq.1.player.price_9a\": \"priceA_9\",\n",
    "\"randseq.1.player.price_9b\": \"priceB_9\",\n",
    "\"randseq.1.player.legroom_9a\": \"legroomA_9\",\n",
    "\"randseq.1.player.legroom_9b\": \"legroomB_9\",\n",
    "\n",
    "\"randseq.1.player.choice_10\": \"choice10\",\n",
    "\"randseq.1.player.distance_10\": \"distance_10\",\n",
    "\"randseq.1.player.time_10\": \"time_10\",\n",
    "\"randseq.1.player.price_10\": \"price_10\",\n",
    "\"randseq.1.player.row_10a\": \"rowA_10\",\n",
    "\"randseq.1.player.row_10b\": \"rowB_10\",\n",
    "\"randseq.1.player.col_10a\": \"colA_10\",\n",
    "\"randseq.1.player.col_10b\": \"colB_10\",\n",
    "\"randseq.1.player.price_10a\": \"priceA_10\",\n",
    "\"randseq.1.player.price_10b\": \"priceB_10\",\n",
    "\"randseq.1.player.legroom_10a\": \"legroomA_10\",\n",
    "\"randseq.1.player.legroom_10b\": \"legroomB_10\",\n",
    "\n",
    "\"randseq.1.player.choice_11\": \"choice11\",\n",
    "\"randseq.1.player.distance_11\": \"distance_11\",\n",
    "\"randseq.1.player.time_11\": \"time_11\",\n",
    "\"randseq.1.player.price_11\": \"price_11\",\n",
    "\"randseq.1.player.row_11a\": \"rowA_11\",\n",
    "\"randseq.1.player.row_11b\": \"rowB_11\",\n",
    "\"randseq.1.player.col_11a\": \"colA_11\",\n",
    "\"randseq.1.player.col_11b\": \"colB_11\",\n",
    "\"randseq.1.player.price_11a\": \"priceA_11\",\n",
    "\"randseq.1.player.price_11b\": \"priceB_11\",\n",
    "\"randseq.1.player.legroom_11a\": \"legroomA_11\",\n",
    "\"randseq.1.player.legroom_11b\": \"legroomB_11\",\n",
    "\n",
    "\"randseq.1.player.choice_12\": \"choice12\",\n",
    "\"randseq.1.player.distance_12\": \"distance_12\",\n",
    "\"randseq.1.player.time_12\": \"time_12\",\n",
    "\"randseq.1.player.price_12\": \"price_12\",\n",
    "\"randseq.1.player.row_12a\": \"rowA_12\",\n",
    "\"randseq.1.player.row_12b\": \"rowB_12\",\n",
    "\"randseq.1.player.col_12a\": \"colA_12\",\n",
    "\"randseq.1.player.col_12b\": \"colB_12\",\n",
    "\"randseq.1.player.price_12a\": \"priceA_12\",\n",
    "\"randseq.1.player.price_12b\": \"priceB_12\",\n",
    "\"randseq.1.player.legroom_12a\": \"legroomA_12\",\n",
    "\"randseq.1.player.legroom_12b\": \"legroomB_12\",\n",
    "\n",
    "\"randseq.1.player.choice_13\": \"choice13\",\n",
    "\"randseq.1.player.distance_13\": \"distance_13\",\n",
    "\"randseq.1.player.time_13\": \"time_13\",\n",
    "\"randseq.1.player.price_13\": \"price_13\",\n",
    "\"randseq.1.player.row_13a\": \"rowA_13\",\n",
    "\"randseq.1.player.row_13b\": \"rowB_13\",\n",
    "\"randseq.1.player.col_13a\": \"colA_13\",\n",
    "\"randseq.1.player.col_13b\": \"colB_13\",\n",
    "\"randseq.1.player.price_13a\": \"priceA_13\",\n",
    "\"randseq.1.player.price_13b\": \"priceB_13\",\n",
    "\"randseq.1.player.legroom_13a\": \"legroomA_13\",\n",
    "\"randseq.1.player.legroom_13b\": \"legroomB_13\",\n",
    "\n",
    "\"randseq.1.player.choice_14\": \"choice14\",\n",
    "\"randseq.1.player.distance_14\": \"distance_14\",\n",
    "\"randseq.1.player.time_14\": \"time_14\",\n",
    "\"randseq.1.player.price_14\": \"price_14\",\n",
    "\"randseq.1.player.row_14a\": \"rowA_14\",\n",
    "\"randseq.1.player.row_14b\": \"rowB_14\",\n",
    "\"randseq.1.player.col_14a\": \"colA_14\",\n",
    "\"randseq.1.player.col_14b\": \"colB_14\",\n",
    "\"randseq.1.player.price_14a\": \"priceA_14\",\n",
    "\"randseq.1.player.price_14b\": \"priceB_14\",\n",
    "\"randseq.1.player.legroom_14a\": \"legroomA_14\",\n",
    "\"randseq.1.player.legroom_14b\": \"legroomB_14\",\n",
    "\n",
    "\"randseq.1.player.choice_15\": \"choice15\",\n",
    "\"randseq.1.player.distance_15\": \"distance_15\",\n",
    "\"randseq.1.player.time_15\": \"time_15\",\n",
    "\"randseq.1.player.price_15\": \"price_15\",\n",
    "\"randseq.1.player.row_15a\": \"rowA_15\",\n",
    "\"randseq.1.player.row_15b\": \"rowB_15\",\n",
    "\"randseq.1.player.col_15a\": \"colA_15\",\n",
    "\"randseq.1.player.col_15b\": \"colB_15\",\n",
    "\"randseq.1.player.price_15a\": \"priceA_15\",\n",
    "\"randseq.1.player.price_15b\": \"priceB_15\",\n",
    "\"randseq.1.player.legroom_15a\": \"legroomA_15\",\n",
    "\"randseq.1.player.legroom_15b\": \"legroomB_15\",\n",
    "\n",
    "\"randseq.1.player.choice_16\": \"choice16\",\n",
    "\"randseq.1.player.distance_16\": \"distance_16\",\n",
    "\"randseq.1.player.time_16\": \"time_16\",\n",
    "\"randseq.1.player.price_16\": \"price_16\",\n",
    "\"randseq.1.player.row_16a\": \"rowA_16\",\n",
    "\"randseq.1.player.row_16b\": \"rowB_16\",\n",
    "\"randseq.1.player.col_16a\": \"colA_16\",\n",
    "\"randseq.1.player.col_16b\": \"colB_16\",\n",
    "\"randseq.1.player.price_16a\": \"priceA_16\",\n",
    "\"randseq.1.player.price_16b\": \"priceB_16\",\n",
    "\"randseq.1.player.legroom_16a\": \"legroomA_16\",\n",
    "\"randseq.1.player.legroom_16b\": \"legroomB_16\",\n",
    "\n",
    "\"randseq.1.player.choice_17\": \"choice17\",\n",
    "\"randseq.1.player.distance_17\": \"distance_17\",\n",
    "\"randseq.1.player.time_17\": \"time_17\",\n",
    "\"randseq.1.player.price_17\": \"price_17\",\n",
    "\"randseq.1.player.row_17a\": \"rowA_17\",\n",
    "\"randseq.1.player.row_17b\": \"rowB_17\",\n",
    "\"randseq.1.player.col_17a\": \"colA_17\",\n",
    "\"randseq.1.player.col_17b\": \"colB_17\",\n",
    "\"randseq.1.player.price_17a\": \"priceA_17\",\n",
    "\"randseq.1.player.price_17b\": \"priceB_17\",\n",
    "\"randseq.1.player.legroom_17a\": \"legroomA_17\",\n",
    "\"randseq.1.player.legroom_17b\": \"legroomB_17\",\n",
    "\n",
    "\"randseq.1.player.choice_18\": \"choice18\",\n",
    "\"randseq.1.player.distance_18\": \"distance_18\",\n",
    "\"randseq.1.player.time_18\": \"time_18\",\n",
    "\"randseq.1.player.price_18\": \"price_18\",\n",
    "\"randseq.1.player.row_18a\": \"rowA_18\",\n",
    "\"randseq.1.player.row_18b\": \"rowB_18\",\n",
    "\"randseq.1.player.col_18a\": \"colA_18\",\n",
    "\"randseq.1.player.col_18b\": \"colB_18\",\n",
    "\"randseq.1.player.price_18a\": \"priceA_18\",\n",
    "\"randseq.1.player.price_18b\": \"priceB_18\",\n",
    "\"randseq.1.player.legroom_18a\": \"legroomA_18\",\n",
    "\"randseq.1.player.legroom_18b\": \"legroomB_18\",\n",
    "\n",
    "\"randseq.1.player.choice_19\": \"choice19\",\n",
    "\"randseq.1.player.distance_19\": \"distance_19\",\n",
    "\"randseq.1.player.time_19\": \"time_19\",\n",
    "\"randseq.1.player.price_19\": \"price_19\",\n",
    "\"randseq.1.player.row_19a\": \"rowA_19\",\n",
    "\"randseq.1.player.row_19b\": \"rowB_19\",\n",
    "\"randseq.1.player.col_19a\": \"colA_19\",\n",
    "\"randseq.1.player.col_19b\": \"colB_19\",\n",
    "\"randseq.1.player.price_19a\": \"priceA_19\",\n",
    "\"randseq.1.player.price_19b\": \"priceB_19\",\n",
    "\"randseq.1.player.legroom_19a\": \"legroomA_19\",\n",
    "\"randseq.1.player.legroom_19b\": \"legroomB_19\",\n",
    "\n",
    "\"randseq.1.player.choice_20\": \"choice20\",\n",
    "\"randseq.1.player.distance_20\": \"distance_20\",\n",
    "\"randseq.1.player.time_20\": \"time_20\",\n",
    "\"randseq.1.player.price_20\": \"price_20\",\n",
    "\"randseq.1.player.row_20a\": \"rowA_20\",\n",
    "\"randseq.1.player.row_20b\": \"rowB_20\",\n",
    "\"randseq.1.player.col_20a\": \"colA_20\",\n",
    "\"randseq.1.player.col_20b\": \"colB_20\",\n",
    "\"randseq.1.player.price_20a\": \"priceA_20\",\n",
    "\"randseq.1.player.price_20b\": \"priceB_20\",\n",
    "\"randseq.1.player.legroom_20a\": \"legroomA_20\",\n",
    "\"randseq.1.player.legroom_20b\": \"legroomB_20\",\n",
    "\n",
    "\"randseq.1.player.choice_21\": \"choice21\",\n",
    "\"randseq.1.player.distance_21\": \"distance_21\",\n",
    "\"randseq.1.player.time_21\": \"time_21\",\n",
    "\"randseq.1.player.price_21\": \"price_21\",\n",
    "\"randseq.1.player.row_21a\": \"rowA_21\",\n",
    "\"randseq.1.player.row_21b\": \"rowB_21\",\n",
    "\"randseq.1.player.col_21a\": \"colA_21\",\n",
    "\"randseq.1.player.col_21b\": \"colB_21\",\n",
    "\"randseq.1.player.price_21a\": \"priceA_21\",\n",
    "\"randseq.1.player.price_21b\": \"priceB_21\",\n",
    "\"randseq.1.player.legroom_21a\": \"legroomA_21\",\n",
    "\"randseq.1.player.legroom_21b\": \"legroomB_21\",\n",
    "\n",
    "\"survey.1.player.age\": \"age\",\n",
    "\"survey.1.player.gender\": \"gender\",\n",
    "\"survey.1.player.feet\": \"height_feet\",\n",
    "\"survey.1.player.inches\": \"height_inches\",\n",
    "\"survey.1.player.rt\": \"annual_trip_freq\",\n",
    "\"survey.1.player.bizlei\": \"percentage_biz\",\n",
    "\"survey.1.player.seattype\": \"seat_type_preference\",\n",
    "\"survey.1.player.section\": \"section_preference\",\n",
    "\"survey.1.player.comment\": \"comment\"\n",
    "\n",
    "}, inplace=True)"
   ]
  },
  {
   "source": [
    "Step 5: Remove incomplete survey responses"
   ],
   "cell_type": "markdown",
   "metadata": {}
  },
  {
   "cell_type": "code",
   "execution_count": 25,
   "metadata": {},
   "outputs": [
    {
     "output_type": "stream",
     "name": "stdout",
     "text": [
      "<class 'pandas.core.frame.DataFrame'>\nInt64Index: 137 entries, 24 to 328\nColumns: 271 entries, id_in_session to survey.1.subsession.round_number\ndtypes: float64(26), int64(152), object(93)\nmemory usage: 291.1+ KB\n"
     ]
    },
    {
     "output_type": "execute_result",
     "data": {
      "text/plain": [
       "    id_in_session participant.code  index_in_pages current_app_name  \\\n",
       "24              1         ixi1jkao              23           survey   \n",
       "28              5         p1n8e9va              23           survey   \n",
       "29              6         8j3yb395              23           survey   \n",
       "38             15         pr29qnzv              23           survey   \n",
       "39             16         l0hz8k3t              23           survey   \n",
       "\n",
       "                        time_started session_code  id_in_group  \\\n",
       "24  2021-04-15 23:36:35.096369+00:00     s6qkz77s            1   \n",
       "28  2021-04-16 01:35:43.132533+00:00     s6qkz77s            5   \n",
       "29  2021-04-16 01:36:06.063812+00:00     s6qkz77s            6   \n",
       "38  2021-04-16 02:40:31.624725+00:00     s6qkz77s           15   \n",
       "39  2021-04-16 02:55:05.067225+00:00     s6qkz77s           16   \n",
       "\n",
       "                                        page_sequence choice1 choice2  ...  \\\n",
       "24  [\"Q21\", \"Q15\", \"Q4\", \"Q2\", \"Q19\", \"Q12\", \"Q10\"...  Seat A  Seat B  ...   \n",
       "28  [\"Q7\", \"Q14\", \"Q9\", \"Q3\", \"Q18\", \"Q15\", \"Q21\",...  Seat A  Seat B  ...   \n",
       "29  [\"Q3\", \"Q12\", \"Q1\", \"Q21\", \"Q17\", \"Q18\", \"Q11\"...  Seat A  Seat B  ...   \n",
       "38  [\"Q14\", \"Q17\", \"Q3\", \"Q4\", \"Q9\", \"Q16\", \"Q8\", ...  Seat B  Seat B  ...   \n",
       "39  [\"Q15\", \"Q3\", \"Q14\", \"Q1\", \"Q20\", \"Q5\", \"Q9\", ...  Seat A  Seat B  ...   \n",
       "\n",
       "    gender height_feet  height_inches  annual_trip_freq  percentage_biz  \\\n",
       "24    Male         5.0           10.0               6.0            25.0   \n",
       "28    Male         5.0            8.0               5.0            40.0   \n",
       "29  Female         5.0            8.0               6.0            50.0   \n",
       "38    Male         5.0            9.0               1.0             0.0   \n",
       "39  Female         5.0           11.0              12.0             9.0   \n",
       "\n",
       "   seat_type_preference section_preference  \\\n",
       "24               Window            Economy   \n",
       "28                Aisle              First   \n",
       "29               Window            Economy   \n",
       "38               Window            Economy   \n",
       "39               Middle            Premier   \n",
       "\n",
       "                                              comment  \\\n",
       "24                                                NaN   \n",
       "28                                                NaN   \n",
       "29                                                NaN   \n",
       "38  How do you handle bias from people who have ne...   \n",
       "39                                                NaN   \n",
       "\n",
       "    survey.1.group.id_in_subsession  survey.1.subsession.round_number  \n",
       "24                                1                                 1  \n",
       "28                                1                                 1  \n",
       "29                                1                                 1  \n",
       "38                                1                                 1  \n",
       "39                                1                                 1  \n",
       "\n",
       "[5 rows x 271 columns]"
      ],
      "text/html": "<div>\n<style scoped>\n    .dataframe tbody tr th:only-of-type {\n        vertical-align: middle;\n    }\n\n    .dataframe tbody tr th {\n        vertical-align: top;\n    }\n\n    .dataframe thead th {\n        text-align: right;\n    }\n</style>\n<table border=\"1\" class=\"dataframe\">\n  <thead>\n    <tr style=\"text-align: right;\">\n      <th></th>\n      <th>id_in_session</th>\n      <th>participant.code</th>\n      <th>index_in_pages</th>\n      <th>current_app_name</th>\n      <th>time_started</th>\n      <th>session_code</th>\n      <th>id_in_group</th>\n      <th>page_sequence</th>\n      <th>choice1</th>\n      <th>choice2</th>\n      <th>...</th>\n      <th>gender</th>\n      <th>height_feet</th>\n      <th>height_inches</th>\n      <th>annual_trip_freq</th>\n      <th>percentage_biz</th>\n      <th>seat_type_preference</th>\n      <th>section_preference</th>\n      <th>comment</th>\n      <th>survey.1.group.id_in_subsession</th>\n      <th>survey.1.subsession.round_number</th>\n    </tr>\n  </thead>\n  <tbody>\n    <tr>\n      <th>24</th>\n      <td>1</td>\n      <td>ixi1jkao</td>\n      <td>23</td>\n      <td>survey</td>\n      <td>2021-04-15 23:36:35.096369+00:00</td>\n      <td>s6qkz77s</td>\n      <td>1</td>\n      <td>[\"Q21\", \"Q15\", \"Q4\", \"Q2\", \"Q19\", \"Q12\", \"Q10\"...</td>\n      <td>Seat A</td>\n      <td>Seat B</td>\n      <td>...</td>\n      <td>Male</td>\n      <td>5.0</td>\n      <td>10.0</td>\n      <td>6.0</td>\n      <td>25.0</td>\n      <td>Window</td>\n      <td>Economy</td>\n      <td>NaN</td>\n      <td>1</td>\n      <td>1</td>\n    </tr>\n    <tr>\n      <th>28</th>\n      <td>5</td>\n      <td>p1n8e9va</td>\n      <td>23</td>\n      <td>survey</td>\n      <td>2021-04-16 01:35:43.132533+00:00</td>\n      <td>s6qkz77s</td>\n      <td>5</td>\n      <td>[\"Q7\", \"Q14\", \"Q9\", \"Q3\", \"Q18\", \"Q15\", \"Q21\",...</td>\n      <td>Seat A</td>\n      <td>Seat B</td>\n      <td>...</td>\n      <td>Male</td>\n      <td>5.0</td>\n      <td>8.0</td>\n      <td>5.0</td>\n      <td>40.0</td>\n      <td>Aisle</td>\n      <td>First</td>\n      <td>NaN</td>\n      <td>1</td>\n      <td>1</td>\n    </tr>\n    <tr>\n      <th>29</th>\n      <td>6</td>\n      <td>8j3yb395</td>\n      <td>23</td>\n      <td>survey</td>\n      <td>2021-04-16 01:36:06.063812+00:00</td>\n      <td>s6qkz77s</td>\n      <td>6</td>\n      <td>[\"Q3\", \"Q12\", \"Q1\", \"Q21\", \"Q17\", \"Q18\", \"Q11\"...</td>\n      <td>Seat A</td>\n      <td>Seat B</td>\n      <td>...</td>\n      <td>Female</td>\n      <td>5.0</td>\n      <td>8.0</td>\n      <td>6.0</td>\n      <td>50.0</td>\n      <td>Window</td>\n      <td>Economy</td>\n      <td>NaN</td>\n      <td>1</td>\n      <td>1</td>\n    </tr>\n    <tr>\n      <th>38</th>\n      <td>15</td>\n      <td>pr29qnzv</td>\n      <td>23</td>\n      <td>survey</td>\n      <td>2021-04-16 02:40:31.624725+00:00</td>\n      <td>s6qkz77s</td>\n      <td>15</td>\n      <td>[\"Q14\", \"Q17\", \"Q3\", \"Q4\", \"Q9\", \"Q16\", \"Q8\", ...</td>\n      <td>Seat B</td>\n      <td>Seat B</td>\n      <td>...</td>\n      <td>Male</td>\n      <td>5.0</td>\n      <td>9.0</td>\n      <td>1.0</td>\n      <td>0.0</td>\n      <td>Window</td>\n      <td>Economy</td>\n      <td>How do you handle bias from people who have ne...</td>\n      <td>1</td>\n      <td>1</td>\n    </tr>\n    <tr>\n      <th>39</th>\n      <td>16</td>\n      <td>l0hz8k3t</td>\n      <td>23</td>\n      <td>survey</td>\n      <td>2021-04-16 02:55:05.067225+00:00</td>\n      <td>s6qkz77s</td>\n      <td>16</td>\n      <td>[\"Q15\", \"Q3\", \"Q14\", \"Q1\", \"Q20\", \"Q5\", \"Q9\", ...</td>\n      <td>Seat A</td>\n      <td>Seat B</td>\n      <td>...</td>\n      <td>Female</td>\n      <td>5.0</td>\n      <td>11.0</td>\n      <td>12.0</td>\n      <td>9.0</td>\n      <td>Middle</td>\n      <td>Premier</td>\n      <td>NaN</td>\n      <td>1</td>\n      <td>1</td>\n    </tr>\n  </tbody>\n</table>\n<p>5 rows × 271 columns</p>\n</div>"
     },
     "metadata": {},
     "execution_count": 25
    }
   ],
   "source": [
    "# Filter to keep only completed survey rows\n",
    "filtered_df = df.query('current_app_name == \"survey\" and session_code == \"s6qkz77s\"')\n",
    "filtered_df.info()\n",
    "filtered_df.describe()\n",
    "filtered_df.head()"
   ]
  },
  {
   "source": [
    "Now that the data is trimmed into a manageable size, we will transform/clean it to be used for modeling.\n",
    "Each row in our current dataframe corresponds to a participant with over 100 columns of fields that span 21 questions. With the intent of using Logit Regression analysis for modeling the binary probability of choosing seat A or seat B (21 pairs), we decided to break each participant row into 21 rows with each row corresponding to a unique participant-question combination.\n",
    "To do this, we utilized the Pandas wide_to_long function to transform the dataframe (see code below):"
   ],
   "cell_type": "markdown",
   "metadata": {}
  },
  {
   "cell_type": "code",
   "execution_count": 26,
   "metadata": {},
   "outputs": [
    {
     "output_type": "stream",
     "name": "stdout",
     "text": [
      "                           id_in_group  survey.1.subsession.round_number  \\\nparticipant.code question                                                  \n0ae9sh8m         1                  47                                 1   \n                 2                  47                                 1   \n                 3                  47                                 1   \n                 4                  47                                 1   \n                 5                  47                                 1   \n...                                ...                               ...   \nyp2s1c53         17                217                                 1   \n                 18                217                                 1   \n                 19                217                                 1   \n                 20                217                                 1   \n                 21                217                                 1   \n\n                           annual_trip_freq  id_in_session section_preference  \\\nparticipant.code question                                                       \n0ae9sh8m         1                      5.0             47            Economy   \n                 2                      5.0             47            Economy   \n                 3                      5.0             47            Economy   \n                 4                      5.0             47            Economy   \n                 5                      5.0             47            Economy   \n...                                     ...            ...                ...   \nyp2s1c53         17                     2.0            217            Economy   \n                 18                     2.0            217            Economy   \n                 19                     2.0            217            Economy   \n                 20                     2.0            217            Economy   \n                 21                     2.0            217            Economy   \n\n                           percentage_biz                      time_started  \\\nparticipant.code question                                                     \n0ae9sh8m         1                    0.0  2021-04-16 21:55:56.329312+00:00   \n                 2                    0.0  2021-04-16 21:55:56.329312+00:00   \n                 3                    0.0  2021-04-16 21:55:56.329312+00:00   \n                 4                    0.0  2021-04-16 21:55:56.329312+00:00   \n                 5                    0.0  2021-04-16 21:55:56.329312+00:00   \n...                                   ...                               ...   \nyp2s1c53         17                   0.0  2021-04-19 18:08:15.424281+00:00   \n                 18                   0.0  2021-04-19 18:08:15.424281+00:00   \n                 19                   0.0  2021-04-19 18:08:15.424281+00:00   \n                 20                   0.0  2021-04-19 18:08:15.424281+00:00   \n                 21                   0.0  2021-04-19 18:08:15.424281+00:00   \n\n                            age  \\\nparticipant.code question         \n0ae9sh8m         1         65.0   \n                 2         65.0   \n                 3         65.0   \n                 4         65.0   \n                 5         65.0   \n...                         ...   \nyp2s1c53         17        30.0   \n                 18        30.0   \n                 19        30.0   \n                 20        30.0   \n                 21        30.0   \n\n                                                               page_sequence  \\\nparticipant.code question                                                      \n0ae9sh8m         1         [\"Q11\", \"Q21\", \"Q17\", \"Q5\", \"Q10\", \"Q3\", \"Q18\"...   \n                 2         [\"Q11\", \"Q21\", \"Q17\", \"Q5\", \"Q10\", \"Q3\", \"Q18\"...   \n                 3         [\"Q11\", \"Q21\", \"Q17\", \"Q5\", \"Q10\", \"Q3\", \"Q18\"...   \n                 4         [\"Q11\", \"Q21\", \"Q17\", \"Q5\", \"Q10\", \"Q3\", \"Q18\"...   \n                 5         [\"Q11\", \"Q21\", \"Q17\", \"Q5\", \"Q10\", \"Q3\", \"Q18\"...   \n...                                                                      ...   \nyp2s1c53         17        [\"Q1\", \"Q20\", \"Q16\", \"Q10\", \"Q13\", \"Q4\", \"Q17\"...   \n                 18        [\"Q1\", \"Q20\", \"Q16\", \"Q10\", \"Q13\", \"Q4\", \"Q17\"...   \n                 19        [\"Q1\", \"Q20\", \"Q16\", \"Q10\", \"Q13\", \"Q4\", \"Q17\"...   \n                 20        [\"Q1\", \"Q20\", \"Q16\", \"Q10\", \"Q13\", \"Q4\", \"Q17\"...   \n                 21        [\"Q1\", \"Q20\", \"Q16\", \"Q10\", \"Q13\", \"Q4\", \"Q17\"...   \n\n                          session_code  ...  distance_    time_ legroomA_  \\\nparticipant.code question               ...                                 \n0ae9sh8m         1            s6qkz77s  ...        1.7  Red-eye         0   \n                 2            s6qkz77s  ...        5.5  Red-eye         1   \n                 3            s6qkz77s  ...        5.1  Red-eye         0   \n                 4            s6qkz77s  ...        2.5  Daytime         3   \n                 5            s6qkz77s  ...        4.7  Red-eye         4   \n...                                ...  ...        ...      ...       ...   \nyp2s1c53         17           s6qkz77s  ...        3.1  Red-eye         1   \n                 18           s6qkz77s  ...        4.8  Daytime         1   \n                 19           s6qkz77s  ...        0.9  Red-eye         2   \n                 20           s6qkz77s  ...        3.2  Red-eye         1   \n                 21           s6qkz77s  ...        1.0  Daytime         1   \n\n                          legroomB_ priceA_ priceB_  colA_  colB_ rowA_  rowB_  \nparticipant.code question                                                       \n0ae9sh8m         1                1      10       0      E      E    13     27  \n                 2                1       2       5      E      F    10     10  \n                 3                0       1      10      A      C    13     13  \n                 4                3      11      60      F      E    14      8  \n                 5                1      52       8      F      C     5     21  \n...                             ...     ...     ...    ...    ...   ...    ...  \nyp2s1c53         17               0      16       0      F      A    26      9  \n                 18               1       4       3      D      C    13     17  \n                 19               3      37      38      A      E     8      6  \n                 20               0       3       2      A      F    11     16  \n                 21               1      10       9      A      B    10     23  \n\n[2877 rows x 30 columns]\n"
     ]
    }
   ],
   "source": [
    "#Create 21 rows for each person\n",
    "df_clean = pd.wide_to_long(filtered_df, ['choice','price_','distance_','time_','legroomA_','legroomB_','priceA_','priceB_',\n",
    "                                         'colA_','colB_','rowA_','rowB_'], i = 'participant.code', \n",
    "                                           j = 'question').sort_values(['participant.code','question'])\n",
    "print(df_clean)"
   ]
  },
  {
   "source": [
    "Furthermore, to eliminate skewness/bias in our analysis, we decided to scale the continuous variables (i.e. legroom, price, height, age, distance).\n",
    "\n",
    "[To confirm with Alaska]\n",
    "There is uncertainty regarding whether to scale the incremental price versus scale the total price as it is a possibility that the survey respondent did not factor the base price into their decision-making. Another consideration is to classify age as a categorical variable instead of a continuous variable pending the age distribution of the survey respondents."
   ],
   "cell_type": "markdown",
   "metadata": {}
  },
  {
   "cell_type": "code",
   "execution_count": 27,
   "metadata": {},
   "outputs": [],
   "source": [
    "# Scaled Variables\n",
    "#Legroom\n",
    "df_clean[\"scaled_legroomA\"] = preprocessing.scale(pd.to_numeric(df_clean[\"legroomA_\"]))\n",
    "df_clean[\"scaled_legroomB\"] = preprocessing.scale(pd.to_numeric(df_clean[\"legroomB_\"]))\n",
    "\n",
    "#Total Price\n",
    "df_clean[\"scaled_totalPriceA\"] = preprocessing.scale((pd.to_numeric(df_clean[\"price_\"]) + pd.to_numeric(df_clean[\"priceA_\"])))\n",
    "df_clean[\"scaled_totalPriceB\"] = preprocessing.scale((pd.to_numeric(df_clean[\"price_\"]) + pd.to_numeric(df_clean[\"priceB_\"])))\n",
    "\n",
    "#Variable Price\n",
    "df_clean[\"scaled_varPriceA\"] = preprocessing.scale(pd.to_numeric(df_clean[\"priceA_\"]))\n",
    "df_clean[\"scaled_varPriceB\"] = preprocessing.scale(pd.to_numeric(df_clean[\"priceB_\"]))\n",
    "\n",
    "#Combined Height\n",
    "df_clean[\"scaled_height\"] = preprocessing.scale((df_clean[\"height_feet\"]*12.0 + df_clean[\"height_inches\"]))\n",
    "\n",
    "#Age\n",
    "df_clean[\"scaled_age\"] = preprocessing.scale(df_clean[\"age\"])\n",
    "\n",
    "#Distance\n",
    "df_clean[\"scaled_distance\"] = preprocessing.scale(df_clean[\"distance_\"])"
   ]
  },
  {
   "source": [
    "Currently each row of data corresponds to a participant-question combination which consists of two seat attributes (Seat A and Seat B). Although we are interested in this pair-wise comparison as structured from the survey, de-coupling this would be helpful in modeling for the coefficients associated with variables such as rows, legroom, price, etc. Thus, the following code will double the rows where 42 rows (21 questions * 2 seats/question) correspond to each participant."
   ],
   "cell_type": "markdown",
   "metadata": {}
  },
  {
   "cell_type": "code",
   "execution_count": 28,
   "metadata": {},
   "outputs": [],
   "source": [
    "# Double the rows\n",
    "df_clean2 = pd.DataFrame(np.repeat(df_clean.values,2,axis=0))\n",
    "df_clean2.columns = df_clean.columns"
   ]
  },
  {
   "cell_type": "code",
   "execution_count": 29,
   "metadata": {},
   "outputs": [],
   "source": [
    "df_clean2.reset_index()\n",
    "df_clean2['seat_indicator'] = np.where((df_clean2.index%2) == 0, 'Seat A','Seat B')"
   ]
  },
  {
   "cell_type": "code",
   "execution_count": 30,
   "metadata": {},
   "outputs": [],
   "source": [
    "#Seat String\n",
    "df_clean2['seat'] = np.where(df_clean2['seat_indicator'] == 'Seat A',\n",
    "                             df_clean2['rowA_'].astype(str) + df_clean2['colA_'],\n",
    "                             df_clean2['rowB_'].astype(str) + df_clean2['colB_'])"
   ]
  },
  {
   "cell_type": "code",
   "execution_count": 31,
   "metadata": {},
   "outputs": [],
   "source": [
    "#Binary Selection Variable\n",
    "df_clean2['selection'] = np.where(df_clean2['choice']==df_clean2['seat_indicator'],'1','0')"
   ]
  },
  {
   "cell_type": "code",
   "execution_count": 32,
   "metadata": {},
   "outputs": [],
   "source": [
    "#Create Selected and Alternative Columns\n",
    "df_clean2['legroom'] = np.where(df_clean2['selection'] == '1', \n",
    "                        np.where(df_clean2['choice']==df_clean2['seat_indicator'], df_clean2['scaled_legroomA'], df_clean2['scaled_legroomB']), \n",
    "                         np.where(df_clean2['choice']==df_clean2['seat_indicator'], df_clean2['scaled_legroomA'], df_clean2['scaled_legroomB']))\n",
    "df_clean2['legroom_alt'] = np.where(df_clean2['selection'] == '1', \n",
    "                            np.where(df_clean2['choice']==df_clean2['seat_indicator'], df_clean2['scaled_legroomB'], df_clean2['scaled_legroomA']), \n",
    "                             np.where(df_clean2['choice']==df_clean2['seat_indicator'], df_clean2['scaled_legroomB'], df_clean2['scaled_legroomA']))\n",
    "\n",
    "df_clean2['price_total'] = np.where(df_clean2['selection'] == '1', \n",
    "                        np.where(df_clean2['choice']==df_clean2['seat_indicator'], df_clean2['scaled_totalPriceA'], df_clean2['scaled_totalPriceB']), \n",
    "                         np.where(df_clean2['choice']==df_clean2['seat_indicator'], df_clean2['scaled_totalPriceA'], df_clean2['scaled_totalPriceB']))\n",
    "df_clean2['price_total_alt'] = np.where(df_clean2['selection'] == '1', \n",
    "                            np.where(df_clean2['choice']==df_clean2['seat_indicator'], df_clean2['scaled_totalPriceB'], df_clean2['scaled_totalPriceA']), \n",
    "                             np.where(df_clean2['choice']==df_clean2['seat_indicator'], df_clean2['scaled_totalPriceB'], df_clean2['scaled_totalPriceA']))\n",
    "\n",
    "df_clean2['price_increase'] = np.where(df_clean2['selection'] == '1', \n",
    "                        np.where(df_clean2['choice']==df_clean2['seat_indicator'], df_clean2['scaled_varPriceA'], df_clean2['scaled_varPriceB']), \n",
    "                         np.where(df_clean2['choice']==df_clean2['seat_indicator'], df_clean2['scaled_varPriceA'], df_clean2['scaled_varPriceB']))\n",
    "df_clean2['price_increase_alt'] = np.where(df_clean2['selection'] == '1', \n",
    "                            np.where(df_clean2['choice']==df_clean2['seat_indicator'], df_clean2['scaled_varPriceB'], df_clean2['scaled_varPriceA']), \n",
    "                             np.where(df_clean2['choice']==df_clean2['seat_indicator'], df_clean2['scaled_varPriceB'], df_clean2['scaled_varPriceA']))\n",
    "\n",
    "df_clean2['row'] = np.where(df_clean2['selection'] == '1', \n",
    "                        np.where(df_clean2['choice']==df_clean2['seat_indicator'], df_clean2['rowA_'], df_clean2['rowB_']), \n",
    "                         np.where(df_clean2['choice']==df_clean2['seat_indicator'], df_clean2['rowA_'], df_clean2['rowB_']))\n",
    "df_clean2['row_alt'] = np.where(df_clean2['selection'] == '1', \n",
    "                            np.where(df_clean2['choice']==df_clean2['seat_indicator'], df_clean2['rowB_'], df_clean2['rowA_']), \n",
    "                             np.where(df_clean2['choice']==df_clean2['seat_indicator'], df_clean2['rowB_'], df_clean2['rowA_']))\n",
    "\n",
    "df_clean2['column'] = np.where(df_clean2['selection'] == '1', \n",
    "                        np.where(df_clean2['choice']==df_clean2['seat_indicator'], df_clean2['colA_'], df_clean2['colB_']), \n",
    "                         np.where(df_clean2['choice']==df_clean2['seat_indicator'], df_clean2['colA_'], df_clean2['colB_']))\n",
    "df_clean2['column_alt'] = np.where(df_clean2['selection'] == '1', \n",
    "                            np.where(df_clean2['choice']==df_clean2['seat_indicator'], df_clean2['colB_'], df_clean2['colA_']), \n",
    "                             np.where(df_clean2['choice']==df_clean2['seat_indicator'], df_clean2['colB_'], df_clean2['colA_']))"
   ]
  },
  {
   "cell_type": "code",
   "execution_count": 33,
   "metadata": {},
   "outputs": [],
   "source": [
    "#Drop Unnecessary Columns\n",
    "df_clean2.drop(['legroomA_','legroomB_','scaled_legroomA','scaled_legroomB','priceA_','priceB_','scaled_varPriceA',\n",
    "                'scaled_varPriceB','time_started','comment','survey.1.subsession.round_number',\n",
    "               'survey.1.group.id_in_subsession','current_app_name','id_in_session','id_in_group','session_code',\n",
    "               'index_in_pages','seat_indicator','colA_','colB_','rowA_','rowB_','scaled_totalPriceA','scaled_totalPriceB','age',\n",
    "                'distance_','height_feet','height_inches','choice','price_'], inplace = True, axis = 1)"
   ]
  },
  {
   "cell_type": "code",
   "execution_count": 34,
   "metadata": {},
   "outputs": [],
   "source": [
    "#Order Columns\n",
    "df_clean = df_clean2[['selection','seat','row','row_alt','column','column_alt','legroom','legroom_alt',\n",
    "                     'price_total','price_total_alt','price_increase','price_increase_alt','scaled_distance',\n",
    "                      'time_','scaled_age','scaled_height','gender',\n",
    "                      'percentage_biz','annual_trip_freq','seat_type_preference',\n",
    "                      'section_preference','page_sequence']]"
   ]
  },
  {
   "cell_type": "code",
   "execution_count": 35,
   "metadata": {},
   "outputs": [],
   "source": [
    "df_clean.to_csv('seatsurvey_clean2.csv', header=True)"
   ]
  },
  {
   "cell_type": "code",
   "execution_count": 36,
   "metadata": {},
   "outputs": [
    {
     "output_type": "stream",
     "name": "stdout",
     "text": [
      "<class 'pandas.core.frame.DataFrame'>\nRangeIndex: 5754 entries, 0 to 5753\nData columns (total 22 columns):\n #   Column                Non-Null Count  Dtype \n---  ------                --------------  ----- \n 0   selection             5754 non-null   object\n 1   seat                  5754 non-null   object\n 2   row                   5754 non-null   object\n 3   row_alt               5754 non-null   object\n 4   column                5754 non-null   object\n 5   column_alt            5754 non-null   object\n 6   legroom               5754 non-null   object\n 7   legroom_alt           5754 non-null   object\n 8   price_total           5754 non-null   object\n 9   price_total_alt       5754 non-null   object\n 10  price_increase        5754 non-null   object\n 11  price_increase_alt    5754 non-null   object\n 12  scaled_distance       5754 non-null   object\n 13  time_                 5754 non-null   object\n 14  scaled_age            5754 non-null   object\n 15  scaled_height         5754 non-null   object\n 16  gender                5754 non-null   object\n 17  percentage_biz        5754 non-null   object\n 18  annual_trip_freq      5754 non-null   object\n 19  seat_type_preference  5754 non-null   object\n 20  section_preference    5754 non-null   object\n 21  page_sequence         5754 non-null   object\ndtypes: object(22)\nmemory usage: 989.1+ KB\n"
     ]
    },
    {
     "output_type": "execute_result",
     "data": {
      "text/plain": [
       "       selection  seat   row  row_alt column column_alt      legroom  \\\n",
       "count       5754  5754  5754     5754   5754       5754  5754.000000   \n",
       "unique         2    39    21       21      6          6    12.000000   \n",
       "top            0    8D    13       13      F          F    -0.210226   \n",
       "freq        2877   274   548      548   1370       1370  1384.000000   \n",
       "\n",
       "        legroom_alt  price_total  price_total_alt  ...  scaled_distance  \\\n",
       "count   5754.000000  5754.000000      5754.000000  ...      5754.000000   \n",
       "unique    12.000000   883.000000       883.000000  ...        48.000000   \n",
       "top       -0.210226    -0.928101        -0.928101  ...        -0.893121   \n",
       "freq    1384.000000    19.000000        19.000000  ...       166.000000   \n",
       "\n",
       "          time_   scaled_age scaled_height  gender  percentage_biz  \\\n",
       "count      5754  5754.000000   5754.000000    5754          5754.0   \n",
       "unique        2    45.000000     19.000000       3            20.0   \n",
       "top     Red-eye    -0.142589      0.029374    Male             0.0   \n",
       "freq       2906   378.000000    798.000000    2982          3192.0   \n",
       "\n",
       "       annual_trip_freq  seat_type_preference  section_preference  \\\n",
       "count            5754.0                  5754                5754   \n",
       "unique             18.0                     3                   3   \n",
       "top                 2.0                Window             Economy   \n",
       "freq             1092.0                  3360                4662   \n",
       "\n",
       "                                            page_sequence  \n",
       "count                                                5754  \n",
       "unique                                                137  \n",
       "top     [\"Q5\", \"Q8\", \"Q3\", \"Q1\", \"Q6\", \"Q7\", \"Q10\", \"Q...  \n",
       "freq                                                   42  \n",
       "\n",
       "[4 rows x 22 columns]"
      ],
      "text/html": "<div>\n<style scoped>\n    .dataframe tbody tr th:only-of-type {\n        vertical-align: middle;\n    }\n\n    .dataframe tbody tr th {\n        vertical-align: top;\n    }\n\n    .dataframe thead th {\n        text-align: right;\n    }\n</style>\n<table border=\"1\" class=\"dataframe\">\n  <thead>\n    <tr style=\"text-align: right;\">\n      <th></th>\n      <th>selection</th>\n      <th>seat</th>\n      <th>row</th>\n      <th>row_alt</th>\n      <th>column</th>\n      <th>column_alt</th>\n      <th>legroom</th>\n      <th>legroom_alt</th>\n      <th>price_total</th>\n      <th>price_total_alt</th>\n      <th>...</th>\n      <th>scaled_distance</th>\n      <th>time_</th>\n      <th>scaled_age</th>\n      <th>scaled_height</th>\n      <th>gender</th>\n      <th>percentage_biz</th>\n      <th>annual_trip_freq</th>\n      <th>seat_type_preference</th>\n      <th>section_preference</th>\n      <th>page_sequence</th>\n    </tr>\n  </thead>\n  <tbody>\n    <tr>\n      <th>count</th>\n      <td>5754</td>\n      <td>5754</td>\n      <td>5754</td>\n      <td>5754</td>\n      <td>5754</td>\n      <td>5754</td>\n      <td>5754.000000</td>\n      <td>5754.000000</td>\n      <td>5754.000000</td>\n      <td>5754.000000</td>\n      <td>...</td>\n      <td>5754.000000</td>\n      <td>5754</td>\n      <td>5754.000000</td>\n      <td>5754.000000</td>\n      <td>5754</td>\n      <td>5754.0</td>\n      <td>5754.0</td>\n      <td>5754</td>\n      <td>5754</td>\n      <td>5754</td>\n    </tr>\n    <tr>\n      <th>unique</th>\n      <td>2</td>\n      <td>39</td>\n      <td>21</td>\n      <td>21</td>\n      <td>6</td>\n      <td>6</td>\n      <td>12.000000</td>\n      <td>12.000000</td>\n      <td>883.000000</td>\n      <td>883.000000</td>\n      <td>...</td>\n      <td>48.000000</td>\n      <td>2</td>\n      <td>45.000000</td>\n      <td>19.000000</td>\n      <td>3</td>\n      <td>20.0</td>\n      <td>18.0</td>\n      <td>3</td>\n      <td>3</td>\n      <td>137</td>\n    </tr>\n    <tr>\n      <th>top</th>\n      <td>0</td>\n      <td>8D</td>\n      <td>13</td>\n      <td>13</td>\n      <td>F</td>\n      <td>F</td>\n      <td>-0.210226</td>\n      <td>-0.210226</td>\n      <td>-0.928101</td>\n      <td>-0.928101</td>\n      <td>...</td>\n      <td>-0.893121</td>\n      <td>Red-eye</td>\n      <td>-0.142589</td>\n      <td>0.029374</td>\n      <td>Male</td>\n      <td>0.0</td>\n      <td>2.0</td>\n      <td>Window</td>\n      <td>Economy</td>\n      <td>[\"Q5\", \"Q8\", \"Q3\", \"Q1\", \"Q6\", \"Q7\", \"Q10\", \"Q...</td>\n    </tr>\n    <tr>\n      <th>freq</th>\n      <td>2877</td>\n      <td>274</td>\n      <td>548</td>\n      <td>548</td>\n      <td>1370</td>\n      <td>1370</td>\n      <td>1384.000000</td>\n      <td>1384.000000</td>\n      <td>19.000000</td>\n      <td>19.000000</td>\n      <td>...</td>\n      <td>166.000000</td>\n      <td>2906</td>\n      <td>378.000000</td>\n      <td>798.000000</td>\n      <td>2982</td>\n      <td>3192.0</td>\n      <td>1092.0</td>\n      <td>3360</td>\n      <td>4662</td>\n      <td>42</td>\n    </tr>\n  </tbody>\n</table>\n<p>4 rows × 22 columns</p>\n</div>"
     },
     "metadata": {},
     "execution_count": 36
    }
   ],
   "source": [
    "df_clean.info()\n",
    "df_clean.describe()"
   ]
  },
  {
   "cell_type": "code",
   "execution_count": 37,
   "metadata": {},
   "outputs": [
    {
     "output_type": "stream",
     "name": "stdout",
     "text": [
      "-2.3486600221150014e-17\n"
     ]
    }
   ],
   "source": [
    "print(df_clean['price_increase'].mean())"
   ]
  },
  {
   "source": [
    "Now that we have a clean dataset, we will do an 80-20 split into training and testing dataset, respectively."
   ],
   "cell_type": "markdown",
   "metadata": {}
  },
  {
   "cell_type": "code",
   "execution_count": 38,
   "metadata": {},
   "outputs": [
    {
     "output_type": "stream",
     "name": "stdout",
     "text": [
      "shape of original dataset : (5754, 22)\nshape of input - training set (4603, 21)\nshape of output - training set (4603,)\nshape of input - testing set (1151, 21)\nshape of output - testing set (1151,)\n"
     ]
    }
   ],
   "source": [
    "# Define output variable\n",
    "y = df_clean.selection\n",
    "# Drop output variable from dataset to form input vector\n",
    "x = df_clean.drop('selection', axis=1)\n",
    "\n",
    "# Use sklearn function train_test_split() to performa an 80-20 split\n",
    "x_train, x_test, y_train, y_test = train_test_split(x,y,test_size = 0.2)\n",
    "# Verify shape of different sets\n",
    "print(\"shape of original dataset :\",df_clean.shape)\n",
    "print(\"shape of input - training set\", x_train.shape)\n",
    "print(\"shape of output - training set\", y_train.shape)\n",
    "print(\"shape of input - testing set\", x_test.shape)\n",
    "print(\"shape of output - testing set\", y_test.shape)"
   ]
  },
  {
   "source": [
    "With the training and testing datasets defined, we will perform an initial logistic regression analysis."
   ],
   "cell_type": "markdown",
   "metadata": {}
  },
  {
   "cell_type": "code",
   "execution_count": null,
   "metadata": {},
   "outputs": [],
   "source": []
  }
 ],
 "metadata": {
  "kernelspec": {
   "name": "python385jvsc74a57bd0dca0ade3e726a953b501b15e8e990130d2b7799f14cfd9f4271676035ebe5511",
   "display_name": "Python 3.8.5 64-bit ('base': conda)"
  },
  "language_info": {
   "codemirror_mode": {
    "name": "ipython",
    "version": 3
   },
   "file_extension": ".py",
   "mimetype": "text/x-python",
   "name": "python",
   "nbconvert_exporter": "python",
   "pygments_lexer": "ipython3",
   "version": "3.8.5"
  },
  "metadata": {
   "interpreter": {
    "hash": "aee8b7b246df8f9039afb4144a1f6fd8d2ca17a180786b69acc140d282b71a49"
   }
  }
 },
 "nbformat": 4,
 "nbformat_minor": 4
}