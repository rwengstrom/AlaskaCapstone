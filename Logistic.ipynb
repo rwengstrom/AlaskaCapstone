{
 "cells": [
  {
   "cell_type": "code",
   "execution_count": 154,
   "metadata": {},
   "outputs": [],
   "source": [
    "import pandas as pd\n",
    "import numpy as np\n",
    "from sklearn import preprocessing\n",
    "import matplotlib.pyplot as plt\n",
    "import seaborn as sns\n",
    "from sklearn.preprocessing import StandardScaler\n",
    "from sklearn.model_selection import train_test_split\n",
    "from sklearn.linear_model import LogisticRegression\n",
    "from sklearn.metrics import log_loss, roc_auc_score, recall_score, precision_score, average_precision_score, f1_score, classification_report, accuracy_score, plot_roc_curve, plot_precision_recall_curve, plot_confusion_matrix"
   ]
  },
  {
   "cell_type": "markdown",
   "metadata": {},
   "source": [
    "Step 1: Import data from exported raw survey data"
   ]
  },
  {
   "cell_type": "code",
   "execution_count": 91,
   "metadata": {
    "tags": []
   },
   "outputs": [
    {
     "name": "stderr",
     "output_type": "stream",
     "text": [
      "C:\\ProgramData\\Anaconda3\\lib\\site-packages\\IPython\\core\\interactiveshell.py:3146: DtypeWarning: Columns (6,7,8,25,26,60,72,84,96,108,120,132,144,156,168,180,192,204,216,228,240,252,264,276,283,288,289,290) have mixed types.Specify dtype option on import or set low_memory=False.\n",
      "  has_raised = await self.run_ast_nodes(code_ast.body, cell_name,\n"
     ]
    }
   ],
   "source": [
    "df = pd.read_csv(\"C:/Users/Owner/Desktop/AlaskaProject/seatsurveymodel.csv\")"
   ]
  },
  {
   "cell_type": "markdown",
   "metadata": {},
   "source": [
    "Step 2: Observe and summarize data"
   ]
  },
  {
   "cell_type": "code",
   "execution_count": 92,
   "metadata": {},
   "outputs": [
    {
     "data": {
      "text/plain": [
       "Index(['participant.id_in_session', 'participant.code', 'participant.label',\n",
       "       'participant._is_bot', 'participant._index_in_pages',\n",
       "       'participant._max_page_index', 'participant._current_app_name',\n",
       "       'participant._current_page_name', 'participant.time_started',\n",
       "       'participant.visited',\n",
       "       ...\n",
       "       'survey.1.player.gender', 'survey.1.player.feet',\n",
       "       'survey.1.player.inches', 'survey.1.player.rt',\n",
       "       'survey.1.player.bizlei', 'survey.1.player.seattype',\n",
       "       'survey.1.player.section', 'survey.1.player.comment',\n",
       "       'survey.1.group.id_in_subsession', 'survey.1.subsession.round_number'],\n",
       "      dtype='object', length=293)"
      ]
     },
     "execution_count": 92,
     "metadata": {},
     "output_type": "execute_result"
    }
   ],
   "source": [
    "# Column names overview\n",
    "df.columns"
   ]
  },
  {
   "cell_type": "markdown",
   "metadata": {},
   "source": [
    "Step 3: Trim width of dataframe"
   ]
  },
  {
   "cell_type": "code",
   "execution_count": 93,
   "metadata": {},
   "outputs": [],
   "source": [
    "# Drop irrelevant columns\n",
    "df.drop(['participant.label','participant._is_bot','participant._max_page_index',\n",
    "        'participant._current_page_name','participant.visited',\n",
    "        'participant.mturk_worker_id','participant.mturk_assignment_id','participant.payoff',\n",
    "        'session.label','session.mturk_HITId','session.mturk_HITGroupId','session.comment', 'session.is_demo',  'session.config.real_world_currency_per_point', 'session.config.participation_fee', 'randseq.1.player.role', 'randseq.1.player.payoff', 'randseq.1.group.id_in_subsession', 'randseq.1.subsession.round_number', 'survey.1.player.id_in_group', 'survey.1.player.role', 'survey.1.player.payoff'], inplace = True, axis = 1\n",
    "       )"
   ]
  },
  {
   "cell_type": "code",
   "execution_count": 94,
   "metadata": {},
   "outputs": [
    {
     "data": {
      "text/plain": [
       "Index(['participant.id_in_session', 'participant.code',\n",
       "       'participant._index_in_pages', 'participant._current_app_name',\n",
       "       'participant.time_started', 'session.code',\n",
       "       'randseq.1.player.id_in_group', 'randseq.1.player.page_sequence',\n",
       "       'randseq.1.player.choice1', 'randseq.1.player.choice2',\n",
       "       ...\n",
       "       'survey.1.player.gender', 'survey.1.player.feet',\n",
       "       'survey.1.player.inches', 'survey.1.player.rt',\n",
       "       'survey.1.player.bizlei', 'survey.1.player.seattype',\n",
       "       'survey.1.player.section', 'survey.1.player.comment',\n",
       "       'survey.1.group.id_in_subsession', 'survey.1.subsession.round_number'],\n",
       "      dtype='object', length=271)"
      ]
     },
     "execution_count": 94,
     "metadata": {},
     "output_type": "execute_result"
    }
   ],
   "source": [
    "# Verify removal of specified columns\n",
    "df.columns"
   ]
  },
  {
   "cell_type": "markdown",
   "metadata": {},
   "source": [
    "Step 4: Re-label fields"
   ]
  },
  {
   "cell_type": "code",
   "execution_count": 95,
   "metadata": {},
   "outputs": [],
   "source": [
    "# Rename/shorten column names\n",
    "df.rename(columns=\n",
    "{\n",
    "\"session.code\": \"session_code\",    \n",
    "\"participant.id_in_session\": \"id_in_session\",\n",
    "\"participant._index_in_pages\": \"index_in_pages\",\n",
    "\"participant._current_app_name\": \"current_app_name\",\n",
    "\"participant.time_started\": \"time_started\",\n",
    "\"randseq.1.player.id_in_group\": \"id_in_group\",\n",
    "\"randseq.1.player.page_sequence\": \"page_sequence\",\n",
    "\n",
    "\"randseq.1.player.choice1\": \"choice1\",\n",
    "\"randseq.1.player.distance_1\": \"distance_1\",\n",
    "\"randseq.1.player.time_1\": \"time_1\",\n",
    "\"randseq.1.player.price_1\": \"price_1\",\n",
    "\"randseq.1.player.row_1a\": \"rowA_1\",\n",
    "\"randseq.1.player.row_1b\": \"rowB_1\",\n",
    "\"randseq.1.player.col_1a\": \"colA_1\",\n",
    "\"randseq.1.player.col_1b\": \"colB_1\",\n",
    "\"randseq.1.player.price_1a\": \"priceA_1\",\n",
    "\"randseq.1.player.price_1b\": \"priceB_1\",\n",
    "\"randseq.1.player.legroom_1a\": \"legroomA_1\",\n",
    "\"randseq.1.player.legroom_1b\": \"legroomB_1\",\n",
    "\n",
    "\"randseq.1.player.choice2\": \"choice2\",\n",
    "\"randseq.1.player.distance_2\": \"distance_2\",\n",
    "\"randseq.1.player.time_2\": \"time_2\",\n",
    "\"randseq.1.player.price_2\": \"price_2\",\n",
    "\"randseq.1.player.row_2a\": \"rowA_2\",\n",
    "\"randseq.1.player.row_2b\": \"rowB_2\",\n",
    "\"randseq.1.player.col_2a\": \"colA_2\",\n",
    "\"randseq.1.player.col_2b\": \"colB_2\",\n",
    "\"randseq.1.player.price_2a\": \"priceA_2\",\n",
    "\"randseq.1.player.price_2b\": \"priceB_2\",\n",
    "\"randseq.1.player.legroom_2a\": \"legroomA_2\",\n",
    "\"randseq.1.player.legroom_2b\": \"legroomB_2\",\n",
    "\n",
    "\"randseq.1.player.choice3\": \"choice3\",\n",
    "\"randseq.1.player.distance_3\": \"distance_3\",\n",
    "\"randseq.1.player.time_3\": \"time_3\",\n",
    "\"randseq.1.player.price_3\": \"price_3\",\n",
    "\"randseq.1.player.row_3a\": \"rowA_3\",\n",
    "\"randseq.1.player.row_3b\": \"rowB_3\",\n",
    "\"randseq.1.player.col_3a\": \"colA_3\",\n",
    "\"randseq.1.player.col_3b\": \"colB_3\",\n",
    "\"randseq.1.player.price_3a\": \"priceA_3\",\n",
    "\"randseq.1.player.price_3b\": \"priceB_3\",\n",
    "\"randseq.1.player.legroom_3a\": \"legroomA_3\",\n",
    "\"randseq.1.player.legroom_3b\": \"legroomB_3\",\n",
    "\n",
    "\"randseq.1.player.choice4\": \"choice4\",\n",
    "\"randseq.1.player.distance_4\": \"distance_4\",\n",
    "\"randseq.1.player.time_4\": \"time_4\",\n",
    "\"randseq.1.player.price_4\": \"price_4\",\n",
    "\"randseq.1.player.row_4a\": \"rowA_4\",\n",
    "\"randseq.1.player.row_4b\": \"rowB_4\",\n",
    "\"randseq.1.player.col_4a\": \"colA_4\",\n",
    "\"randseq.1.player.col_4b\": \"colB_4\",\n",
    "\"randseq.1.player.price_4a\": \"priceA_4\",\n",
    "\"randseq.1.player.price_4b\": \"priceB_4\",\n",
    "\"randseq.1.player.legroom_4a\": \"legroomA_4\",\n",
    "\"randseq.1.player.legroom_4b\": \"legroomB_4\",\n",
    "\n",
    "\"randseq.1.player.choice_5\": \"choice5\",\n",
    "\"randseq.1.player.distance_5\": \"distance_5\",\n",
    "\"randseq.1.player.time_5\": \"time_5\",\n",
    "\"randseq.1.player.price_5\": \"price_5\",\n",
    "\"randseq.1.player.row_5a\": \"rowA_5\",\n",
    "\"randseq.1.player.row_5b\": \"rowB_5\",\n",
    "\"randseq.1.player.col_5a\": \"colA_5\",\n",
    "\"randseq.1.player.col_5b\": \"colB_5\",\n",
    "\"randseq.1.player.price_5a\": \"priceA_5\",\n",
    "\"randseq.1.player.price_5b\": \"priceB_5\",\n",
    "\"randseq.1.player.legroom_5a\": \"legroomA_5\",\n",
    "\"randseq.1.player.legroom_5b\": \"legroomB_5\",\n",
    "\n",
    "\"randseq.1.player.choice_6\": \"choice6\",\n",
    "\"randseq.1.player.distance_6\": \"distance_6\",\n",
    "\"randseq.1.player.time_6\": \"time_6\",\n",
    "\"randseq.1.player.price_6\": \"price_6\",\n",
    "\"randseq.1.player.row_6a\": \"rowA_6\",\n",
    "\"randseq.1.player.row_6b\": \"rowB_6\",\n",
    "\"randseq.1.player.col_6a\": \"colA_6\",\n",
    "\"randseq.1.player.col_6b\": \"colB_6\",\n",
    "\"randseq.1.player.price_6a\": \"priceA_6\",\n",
    "\"randseq.1.player.price_6b\": \"priceB_6\",\n",
    "\"randseq.1.player.legroom_6a\": \"legroomA_6\",\n",
    "\"randseq.1.player.legroom_6b\": \"legroomB_6\",\n",
    "\n",
    "\"randseq.1.player.choice_7\": \"choice7\",\n",
    "\"randseq.1.player.distance_7\": \"distance_7\",\n",
    "\"randseq.1.player.time_7\": \"time_7\",\n",
    "\"randseq.1.player.price_7\": \"price_7\",\n",
    "\"randseq.1.player.row_7a\": \"rowA_7\",\n",
    "\"randseq.1.player.row_7b\": \"rowB_7\",\n",
    "\"randseq.1.player.col_7a\": \"colA_7\",\n",
    "\"randseq.1.player.col_7b\": \"colB_7\",\n",
    "\"randseq.1.player.price_7a\": \"priceA_7\",\n",
    "\"randseq.1.player.price_7b\": \"priceB_7\",\n",
    "\"randseq.1.player.legroom_7a\": \"legroomA_7\",\n",
    "\"randseq.1.player.legroom_7b\": \"legroomB_7\",\n",
    "\n",
    "\"randseq.1.player.choice_8\": \"choice8\",\n",
    "\"randseq.1.player.distance_8\": \"distance_8\",\n",
    "\"randseq.1.player.time_8\": \"time_8\",\n",
    "\"randseq.1.player.price_8\": \"price_8\",\n",
    "\"randseq.1.player.row_8a\": \"rowA_8\",\n",
    "\"randseq.1.player.row_8b\": \"rowB_8\",\n",
    "\"randseq.1.player.col_8a\": \"colA_8\",\n",
    "\"randseq.1.player.col_8b\": \"colB_8\",\n",
    "\"randseq.1.player.price_8a\": \"priceA_8\",\n",
    "\"randseq.1.player.price_8b\": \"priceB_8\",\n",
    "\"randseq.1.player.legroom_8a\": \"legroomA_8\",\n",
    "\"randseq.1.player.legroom_8b\": \"legroomB_8\",\n",
    "\n",
    "\"randseq.1.player.choice_9\": \"choice9\",\n",
    "\"randseq.1.player.distance_9\": \"distance_9\",\n",
    "\"randseq.1.player.time_9\": \"time_9\",\n",
    "\"randseq.1.player.price_9\": \"price_9\",\n",
    "\"randseq.1.player.row_9a\": \"rowA_9\",\n",
    "\"randseq.1.player.row_9b\": \"rowB_9\",\n",
    "\"randseq.1.player.col_9a\": \"colA_9\",\n",
    "\"randseq.1.player.col_9b\": \"colB_9\",\n",
    "\"randseq.1.player.price_9a\": \"priceA_9\",\n",
    "\"randseq.1.player.price_9b\": \"priceB_9\",\n",
    "\"randseq.1.player.legroom_9a\": \"legroomA_9\",\n",
    "\"randseq.1.player.legroom_9b\": \"legroomB_9\",\n",
    "\n",
    "\"randseq.1.player.choice_10\": \"choice10\",\n",
    "\"randseq.1.player.distance_10\": \"distance_10\",\n",
    "\"randseq.1.player.time_10\": \"time_10\",\n",
    "\"randseq.1.player.price_10\": \"price_10\",\n",
    "\"randseq.1.player.row_10a\": \"rowA_10\",\n",
    "\"randseq.1.player.row_10b\": \"rowB_10\",\n",
    "\"randseq.1.player.col_10a\": \"colA_10\",\n",
    "\"randseq.1.player.col_10b\": \"colB_10\",\n",
    "\"randseq.1.player.price_10a\": \"priceA_10\",\n",
    "\"randseq.1.player.price_10b\": \"priceB_10\",\n",
    "\"randseq.1.player.legroom_10a\": \"legroomA_10\",\n",
    "\"randseq.1.player.legroom_10b\": \"legroomB_10\",\n",
    "\n",
    "\"randseq.1.player.choice_11\": \"choice11\",\n",
    "\"randseq.1.player.distance_11\": \"distance_11\",\n",
    "\"randseq.1.player.time_11\": \"time_11\",\n",
    "\"randseq.1.player.price_11\": \"price_11\",\n",
    "\"randseq.1.player.row_11a\": \"rowA_11\",\n",
    "\"randseq.1.player.row_11b\": \"rowB_11\",\n",
    "\"randseq.1.player.col_11a\": \"colA_11\",\n",
    "\"randseq.1.player.col_11b\": \"colB_11\",\n",
    "\"randseq.1.player.price_11a\": \"priceA_11\",\n",
    "\"randseq.1.player.price_11b\": \"priceB_11\",\n",
    "\"randseq.1.player.legroom_11a\": \"legroomA_11\",\n",
    "\"randseq.1.player.legroom_11b\": \"legroomB_11\",\n",
    "\n",
    "\"randseq.1.player.choice_12\": \"choice12\",\n",
    "\"randseq.1.player.distance_12\": \"distance_12\",\n",
    "\"randseq.1.player.time_12\": \"time_12\",\n",
    "\"randseq.1.player.price_12\": \"price_12\",\n",
    "\"randseq.1.player.row_12a\": \"rowA_12\",\n",
    "\"randseq.1.player.row_12b\": \"rowB_12\",\n",
    "\"randseq.1.player.col_12a\": \"colA_12\",\n",
    "\"randseq.1.player.col_12b\": \"colB_12\",\n",
    "\"randseq.1.player.price_12a\": \"priceA_12\",\n",
    "\"randseq.1.player.price_12b\": \"priceB_12\",\n",
    "\"randseq.1.player.legroom_12a\": \"legroomA_12\",\n",
    "\"randseq.1.player.legroom_12b\": \"legroomB_12\",\n",
    "\n",
    "\"randseq.1.player.choice_13\": \"choice13\",\n",
    "\"randseq.1.player.distance_13\": \"distance_13\",\n",
    "\"randseq.1.player.time_13\": \"time_13\",\n",
    "\"randseq.1.player.price_13\": \"price_13\",\n",
    "\"randseq.1.player.row_13a\": \"rowA_13\",\n",
    "\"randseq.1.player.row_13b\": \"rowB_13\",\n",
    "\"randseq.1.player.col_13a\": \"colA_13\",\n",
    "\"randseq.1.player.col_13b\": \"colB_13\",\n",
    "\"randseq.1.player.price_13a\": \"priceA_13\",\n",
    "\"randseq.1.player.price_13b\": \"priceB_13\",\n",
    "\"randseq.1.player.legroom_13a\": \"legroomA_13\",\n",
    "\"randseq.1.player.legroom_13b\": \"legroomB_13\",\n",
    "\n",
    "\"randseq.1.player.choice_14\": \"choice14\",\n",
    "\"randseq.1.player.distance_14\": \"distance_14\",\n",
    "\"randseq.1.player.time_14\": \"time_14\",\n",
    "\"randseq.1.player.price_14\": \"price_14\",\n",
    "\"randseq.1.player.row_14a\": \"rowA_14\",\n",
    "\"randseq.1.player.row_14b\": \"rowB_14\",\n",
    "\"randseq.1.player.col_14a\": \"colA_14\",\n",
    "\"randseq.1.player.col_14b\": \"colB_14\",\n",
    "\"randseq.1.player.price_14a\": \"priceA_14\",\n",
    "\"randseq.1.player.price_14b\": \"priceB_14\",\n",
    "\"randseq.1.player.legroom_14a\": \"legroomA_14\",\n",
    "\"randseq.1.player.legroom_14b\": \"legroomB_14\",\n",
    "\n",
    "\"randseq.1.player.choice_15\": \"choice15\",\n",
    "\"randseq.1.player.distance_15\": \"distance_15\",\n",
    "\"randseq.1.player.time_15\": \"time_15\",\n",
    "\"randseq.1.player.price_15\": \"price_15\",\n",
    "\"randseq.1.player.row_15a\": \"rowA_15\",\n",
    "\"randseq.1.player.row_15b\": \"rowB_15\",\n",
    "\"randseq.1.player.col_15a\": \"colA_15\",\n",
    "\"randseq.1.player.col_15b\": \"colB_15\",\n",
    "\"randseq.1.player.price_15a\": \"priceA_15\",\n",
    "\"randseq.1.player.price_15b\": \"priceB_15\",\n",
    "\"randseq.1.player.legroom_15a\": \"legroomA_15\",\n",
    "\"randseq.1.player.legroom_15b\": \"legroomB_15\",\n",
    "\n",
    "\"randseq.1.player.choice_16\": \"choice16\",\n",
    "\"randseq.1.player.distance_16\": \"distance_16\",\n",
    "\"randseq.1.player.time_16\": \"time_16\",\n",
    "\"randseq.1.player.price_16\": \"price_16\",\n",
    "\"randseq.1.player.row_16a\": \"rowA_16\",\n",
    "\"randseq.1.player.row_16b\": \"rowB_16\",\n",
    "\"randseq.1.player.col_16a\": \"colA_16\",\n",
    "\"randseq.1.player.col_16b\": \"colB_16\",\n",
    "\"randseq.1.player.price_16a\": \"priceA_16\",\n",
    "\"randseq.1.player.price_16b\": \"priceB_16\",\n",
    "\"randseq.1.player.legroom_16a\": \"legroomA_16\",\n",
    "\"randseq.1.player.legroom_16b\": \"legroomB_16\",\n",
    "\n",
    "\"randseq.1.player.choice_17\": \"choice17\",\n",
    "\"randseq.1.player.distance_17\": \"distance_17\",\n",
    "\"randseq.1.player.time_17\": \"time_17\",\n",
    "\"randseq.1.player.price_17\": \"price_17\",\n",
    "\"randseq.1.player.row_17a\": \"rowA_17\",\n",
    "\"randseq.1.player.row_17b\": \"rowB_17\",\n",
    "\"randseq.1.player.col_17a\": \"colA_17\",\n",
    "\"randseq.1.player.col_17b\": \"colB_17\",\n",
    "\"randseq.1.player.price_17a\": \"priceA_17\",\n",
    "\"randseq.1.player.price_17b\": \"priceB_17\",\n",
    "\"randseq.1.player.legroom_17a\": \"legroomA_17\",\n",
    "\"randseq.1.player.legroom_17b\": \"legroomB_17\",\n",
    "\n",
    "\"randseq.1.player.choice_18\": \"choice18\",\n",
    "\"randseq.1.player.distance_18\": \"distance_18\",\n",
    "\"randseq.1.player.time_18\": \"time_18\",\n",
    "\"randseq.1.player.price_18\": \"price_18\",\n",
    "\"randseq.1.player.row_18a\": \"rowA_18\",\n",
    "\"randseq.1.player.row_18b\": \"rowB_18\",\n",
    "\"randseq.1.player.col_18a\": \"colA_18\",\n",
    "\"randseq.1.player.col_18b\": \"colB_18\",\n",
    "\"randseq.1.player.price_18a\": \"priceA_18\",\n",
    "\"randseq.1.player.price_18b\": \"priceB_18\",\n",
    "\"randseq.1.player.legroom_18a\": \"legroomA_18\",\n",
    "\"randseq.1.player.legroom_18b\": \"legroomB_18\",\n",
    "\n",
    "\"randseq.1.player.choice_19\": \"choice19\",\n",
    "\"randseq.1.player.distance_19\": \"distance_19\",\n",
    "\"randseq.1.player.time_19\": \"time_19\",\n",
    "\"randseq.1.player.price_19\": \"price_19\",\n",
    "\"randseq.1.player.row_19a\": \"rowA_19\",\n",
    "\"randseq.1.player.row_19b\": \"rowB_19\",\n",
    "\"randseq.1.player.col_19a\": \"colA_19\",\n",
    "\"randseq.1.player.col_19b\": \"colB_19\",\n",
    "\"randseq.1.player.price_19a\": \"priceA_19\",\n",
    "\"randseq.1.player.price_19b\": \"priceB_19\",\n",
    "\"randseq.1.player.legroom_19a\": \"legroomA_19\",\n",
    "\"randseq.1.player.legroom_19b\": \"legroomB_19\",\n",
    "\n",
    "\"randseq.1.player.choice_20\": \"choice20\",\n",
    "\"randseq.1.player.distance_20\": \"distance_20\",\n",
    "\"randseq.1.player.time_20\": \"time_20\",\n",
    "\"randseq.1.player.price_20\": \"price_20\",\n",
    "\"randseq.1.player.row_20a\": \"rowA_20\",\n",
    "\"randseq.1.player.row_20b\": \"rowB_20\",\n",
    "\"randseq.1.player.col_20a\": \"colA_20\",\n",
    "\"randseq.1.player.col_20b\": \"colB_20\",\n",
    "\"randseq.1.player.price_20a\": \"priceA_20\",\n",
    "\"randseq.1.player.price_20b\": \"priceB_20\",\n",
    "\"randseq.1.player.legroom_20a\": \"legroomA_20\",\n",
    "\"randseq.1.player.legroom_20b\": \"legroomB_20\",\n",
    "\n",
    "\"randseq.1.player.choice_21\": \"choice21\",\n",
    "\"randseq.1.player.distance_21\": \"distance_21\",\n",
    "\"randseq.1.player.time_21\": \"time_21\",\n",
    "\"randseq.1.player.price_21\": \"price_21\",\n",
    "\"randseq.1.player.row_21a\": \"rowA_21\",\n",
    "\"randseq.1.player.row_21b\": \"rowB_21\",\n",
    "\"randseq.1.player.col_21a\": \"colA_21\",\n",
    "\"randseq.1.player.col_21b\": \"colB_21\",\n",
    "\"randseq.1.player.price_21a\": \"priceA_21\",\n",
    "\"randseq.1.player.price_21b\": \"priceB_21\",\n",
    "\"randseq.1.player.legroom_21a\": \"legroomA_21\",\n",
    "\"randseq.1.player.legroom_21b\": \"legroomB_21\",\n",
    "\n",
    "\"survey.1.player.age\": \"age\",\n",
    "\"survey.1.player.gender\": \"gender\",\n",
    "\"survey.1.player.feet\": \"height_feet\",\n",
    "\"survey.1.player.inches\": \"height_inches\",\n",
    "\"survey.1.player.rt\": \"annual_trip_freq\",\n",
    "\"survey.1.player.bizlei\": \"percentage_biz\",\n",
    "\"survey.1.player.seattype\": \"seat_type_preference\",\n",
    "\"survey.1.player.section\": \"section_preference\",\n",
    "\"survey.1.player.comment\": \"comment\"\n",
    "\n",
    "}, inplace=True)"
   ]
  },
  {
   "cell_type": "markdown",
   "metadata": {},
   "source": [
    "Step 5: Remove incomplete survey responses"
   ]
  },
  {
   "cell_type": "code",
   "execution_count": 116,
   "metadata": {},
   "outputs": [
    {
     "name": "stdout",
     "output_type": "stream",
     "text": [
      "<class 'pandas.core.frame.DataFrame'>\n",
      "Int64Index: 137 entries, 24 to 328\n",
      "Columns: 271 entries, id_in_session to survey.1.subsession.round_number\n",
      "dtypes: float64(26), int64(152), object(93)\n",
      "memory usage: 291.1+ KB\n"
     ]
    },
    {
     "data": {
      "text/html": [
       "<div>\n",
       "<style scoped>\n",
       "    .dataframe tbody tr th:only-of-type {\n",
       "        vertical-align: middle;\n",
       "    }\n",
       "\n",
       "    .dataframe tbody tr th {\n",
       "        vertical-align: top;\n",
       "    }\n",
       "\n",
       "    .dataframe thead th {\n",
       "        text-align: right;\n",
       "    }\n",
       "</style>\n",
       "<table border=\"1\" class=\"dataframe\">\n",
       "  <thead>\n",
       "    <tr style=\"text-align: right;\">\n",
       "      <th></th>\n",
       "      <th>id_in_session</th>\n",
       "      <th>participant.code</th>\n",
       "      <th>index_in_pages</th>\n",
       "      <th>current_app_name</th>\n",
       "      <th>time_started</th>\n",
       "      <th>session_code</th>\n",
       "      <th>id_in_group</th>\n",
       "      <th>page_sequence</th>\n",
       "      <th>choice1</th>\n",
       "      <th>choice2</th>\n",
       "      <th>...</th>\n",
       "      <th>gender</th>\n",
       "      <th>height_feet</th>\n",
       "      <th>height_inches</th>\n",
       "      <th>annual_trip_freq</th>\n",
       "      <th>percentage_biz</th>\n",
       "      <th>seat_type_preference</th>\n",
       "      <th>section_preference</th>\n",
       "      <th>comment</th>\n",
       "      <th>survey.1.group.id_in_subsession</th>\n",
       "      <th>survey.1.subsession.round_number</th>\n",
       "    </tr>\n",
       "  </thead>\n",
       "  <tbody>\n",
       "    <tr>\n",
       "      <th>24</th>\n",
       "      <td>1</td>\n",
       "      <td>ixi1jkao</td>\n",
       "      <td>23</td>\n",
       "      <td>survey</td>\n",
       "      <td>2021-04-15 23:36:35.096369+00:00</td>\n",
       "      <td>s6qkz77s</td>\n",
       "      <td>1</td>\n",
       "      <td>[\"Q21\", \"Q15\", \"Q4\", \"Q2\", \"Q19\", \"Q12\", \"Q10\"...</td>\n",
       "      <td>Seat A</td>\n",
       "      <td>Seat B</td>\n",
       "      <td>...</td>\n",
       "      <td>Male</td>\n",
       "      <td>5.0</td>\n",
       "      <td>10.0</td>\n",
       "      <td>6.0</td>\n",
       "      <td>25.0</td>\n",
       "      <td>Window</td>\n",
       "      <td>Economy</td>\n",
       "      <td>NaN</td>\n",
       "      <td>1</td>\n",
       "      <td>1</td>\n",
       "    </tr>\n",
       "    <tr>\n",
       "      <th>28</th>\n",
       "      <td>5</td>\n",
       "      <td>p1n8e9va</td>\n",
       "      <td>23</td>\n",
       "      <td>survey</td>\n",
       "      <td>2021-04-16 01:35:43.132533+00:00</td>\n",
       "      <td>s6qkz77s</td>\n",
       "      <td>5</td>\n",
       "      <td>[\"Q7\", \"Q14\", \"Q9\", \"Q3\", \"Q18\", \"Q15\", \"Q21\",...</td>\n",
       "      <td>Seat A</td>\n",
       "      <td>Seat B</td>\n",
       "      <td>...</td>\n",
       "      <td>Male</td>\n",
       "      <td>5.0</td>\n",
       "      <td>8.0</td>\n",
       "      <td>5.0</td>\n",
       "      <td>40.0</td>\n",
       "      <td>Aisle</td>\n",
       "      <td>First</td>\n",
       "      <td>NaN</td>\n",
       "      <td>1</td>\n",
       "      <td>1</td>\n",
       "    </tr>\n",
       "    <tr>\n",
       "      <th>29</th>\n",
       "      <td>6</td>\n",
       "      <td>8j3yb395</td>\n",
       "      <td>23</td>\n",
       "      <td>survey</td>\n",
       "      <td>2021-04-16 01:36:06.063812+00:00</td>\n",
       "      <td>s6qkz77s</td>\n",
       "      <td>6</td>\n",
       "      <td>[\"Q3\", \"Q12\", \"Q1\", \"Q21\", \"Q17\", \"Q18\", \"Q11\"...</td>\n",
       "      <td>Seat A</td>\n",
       "      <td>Seat B</td>\n",
       "      <td>...</td>\n",
       "      <td>Female</td>\n",
       "      <td>5.0</td>\n",
       "      <td>8.0</td>\n",
       "      <td>6.0</td>\n",
       "      <td>50.0</td>\n",
       "      <td>Window</td>\n",
       "      <td>Economy</td>\n",
       "      <td>NaN</td>\n",
       "      <td>1</td>\n",
       "      <td>1</td>\n",
       "    </tr>\n",
       "    <tr>\n",
       "      <th>38</th>\n",
       "      <td>15</td>\n",
       "      <td>pr29qnzv</td>\n",
       "      <td>23</td>\n",
       "      <td>survey</td>\n",
       "      <td>2021-04-16 02:40:31.624725+00:00</td>\n",
       "      <td>s6qkz77s</td>\n",
       "      <td>15</td>\n",
       "      <td>[\"Q14\", \"Q17\", \"Q3\", \"Q4\", \"Q9\", \"Q16\", \"Q8\", ...</td>\n",
       "      <td>Seat B</td>\n",
       "      <td>Seat B</td>\n",
       "      <td>...</td>\n",
       "      <td>Male</td>\n",
       "      <td>5.0</td>\n",
       "      <td>9.0</td>\n",
       "      <td>1.0</td>\n",
       "      <td>0.0</td>\n",
       "      <td>Window</td>\n",
       "      <td>Economy</td>\n",
       "      <td>How do you handle bias from people who have ne...</td>\n",
       "      <td>1</td>\n",
       "      <td>1</td>\n",
       "    </tr>\n",
       "    <tr>\n",
       "      <th>39</th>\n",
       "      <td>16</td>\n",
       "      <td>l0hz8k3t</td>\n",
       "      <td>23</td>\n",
       "      <td>survey</td>\n",
       "      <td>2021-04-16 02:55:05.067225+00:00</td>\n",
       "      <td>s6qkz77s</td>\n",
       "      <td>16</td>\n",
       "      <td>[\"Q15\", \"Q3\", \"Q14\", \"Q1\", \"Q20\", \"Q5\", \"Q9\", ...</td>\n",
       "      <td>Seat A</td>\n",
       "      <td>Seat B</td>\n",
       "      <td>...</td>\n",
       "      <td>Female</td>\n",
       "      <td>5.0</td>\n",
       "      <td>11.0</td>\n",
       "      <td>12.0</td>\n",
       "      <td>9.0</td>\n",
       "      <td>Middle</td>\n",
       "      <td>Premier</td>\n",
       "      <td>NaN</td>\n",
       "      <td>1</td>\n",
       "      <td>1</td>\n",
       "    </tr>\n",
       "  </tbody>\n",
       "</table>\n",
       "<p>5 rows × 271 columns</p>\n",
       "</div>"
      ],
      "text/plain": [
       "    id_in_session participant.code  index_in_pages current_app_name  \\\n",
       "24              1         ixi1jkao              23           survey   \n",
       "28              5         p1n8e9va              23           survey   \n",
       "29              6         8j3yb395              23           survey   \n",
       "38             15         pr29qnzv              23           survey   \n",
       "39             16         l0hz8k3t              23           survey   \n",
       "\n",
       "                        time_started session_code  id_in_group  \\\n",
       "24  2021-04-15 23:36:35.096369+00:00     s6qkz77s            1   \n",
       "28  2021-04-16 01:35:43.132533+00:00     s6qkz77s            5   \n",
       "29  2021-04-16 01:36:06.063812+00:00     s6qkz77s            6   \n",
       "38  2021-04-16 02:40:31.624725+00:00     s6qkz77s           15   \n",
       "39  2021-04-16 02:55:05.067225+00:00     s6qkz77s           16   \n",
       "\n",
       "                                        page_sequence choice1 choice2  ...  \\\n",
       "24  [\"Q21\", \"Q15\", \"Q4\", \"Q2\", \"Q19\", \"Q12\", \"Q10\"...  Seat A  Seat B  ...   \n",
       "28  [\"Q7\", \"Q14\", \"Q9\", \"Q3\", \"Q18\", \"Q15\", \"Q21\",...  Seat A  Seat B  ...   \n",
       "29  [\"Q3\", \"Q12\", \"Q1\", \"Q21\", \"Q17\", \"Q18\", \"Q11\"...  Seat A  Seat B  ...   \n",
       "38  [\"Q14\", \"Q17\", \"Q3\", \"Q4\", \"Q9\", \"Q16\", \"Q8\", ...  Seat B  Seat B  ...   \n",
       "39  [\"Q15\", \"Q3\", \"Q14\", \"Q1\", \"Q20\", \"Q5\", \"Q9\", ...  Seat A  Seat B  ...   \n",
       "\n",
       "    gender height_feet  height_inches  annual_trip_freq  percentage_biz  \\\n",
       "24    Male         5.0           10.0               6.0            25.0   \n",
       "28    Male         5.0            8.0               5.0            40.0   \n",
       "29  Female         5.0            8.0               6.0            50.0   \n",
       "38    Male         5.0            9.0               1.0             0.0   \n",
       "39  Female         5.0           11.0              12.0             9.0   \n",
       "\n",
       "   seat_type_preference section_preference  \\\n",
       "24               Window            Economy   \n",
       "28                Aisle              First   \n",
       "29               Window            Economy   \n",
       "38               Window            Economy   \n",
       "39               Middle            Premier   \n",
       "\n",
       "                                              comment  \\\n",
       "24                                                NaN   \n",
       "28                                                NaN   \n",
       "29                                                NaN   \n",
       "38  How do you handle bias from people who have ne...   \n",
       "39                                                NaN   \n",
       "\n",
       "    survey.1.group.id_in_subsession  survey.1.subsession.round_number  \n",
       "24                                1                                 1  \n",
       "28                                1                                 1  \n",
       "29                                1                                 1  \n",
       "38                                1                                 1  \n",
       "39                                1                                 1  \n",
       "\n",
       "[5 rows x 271 columns]"
      ]
     },
     "execution_count": 116,
     "metadata": {},
     "output_type": "execute_result"
    }
   ],
   "source": [
    "# Filter to keep only completed survey rows\n",
    "filtered_df = df.query('current_app_name == \"survey\" and session_code == \"s6qkz77s\"')\n",
    "filtered_df.info()\n",
    "filtered_df.describe()\n",
    "filtered_df.head()"
   ]
  },
  {
   "cell_type": "markdown",
   "metadata": {},
   "source": [
    "Now that the data is trimmed into a manageable size, we will transform/clean it to be used for modeling.\n",
    "Each row in our current dataframe corresponds to a participant with over 100 columns of fields that span 21 questions. With the intent of using Logit Regression analysis for modeling the binary probability of choosing seat A or seat B (21 pairs), we decided to break each participant row into 21 rows with each row corresponding to a unique participant-question combination.\n",
    "To do this, we utilized the Pandas wide_to_long function to transform the dataframe (see code below):"
   ]
  },
  {
   "cell_type": "code",
   "execution_count": 117,
   "metadata": {},
   "outputs": [
    {
     "name": "stdout",
     "output_type": "stream",
     "text": [
      "                          session_code comment  height_inches  \\\n",
      "participant.code question                                       \n",
      "0ae9sh8m         1            s6qkz77s     NaN            7.0   \n",
      "                 2            s6qkz77s     NaN            7.0   \n",
      "                 3            s6qkz77s     NaN            7.0   \n",
      "                 4            s6qkz77s     NaN            7.0   \n",
      "                 5            s6qkz77s     NaN            7.0   \n",
      "...                                ...     ...            ...   \n",
      "yp2s1c53         17           s6qkz77s     NaN            1.0   \n",
      "                 18           s6qkz77s     NaN            1.0   \n",
      "                 19           s6qkz77s     NaN            1.0   \n",
      "                 20           s6qkz77s     NaN            1.0   \n",
      "                 21           s6qkz77s     NaN            1.0   \n",
      "\n",
      "                          current_app_name  survey.1.group.id_in_subsession  \\\n",
      "participant.code question                                                     \n",
      "0ae9sh8m         1                  survey                                1   \n",
      "                 2                  survey                                1   \n",
      "                 3                  survey                                1   \n",
      "                 4                  survey                                1   \n",
      "                 5                  survey                                1   \n",
      "...                                    ...                              ...   \n",
      "yp2s1c53         17                 survey                                1   \n",
      "                 18                 survey                                1   \n",
      "                 19                 survey                                1   \n",
      "                 20                 survey                                1   \n",
      "                 21                 survey                                1   \n",
      "\n",
      "                                                               page_sequence  \\\n",
      "participant.code question                                                      \n",
      "0ae9sh8m         1         [\"Q11\", \"Q21\", \"Q17\", \"Q5\", \"Q10\", \"Q3\", \"Q18\"...   \n",
      "                 2         [\"Q11\", \"Q21\", \"Q17\", \"Q5\", \"Q10\", \"Q3\", \"Q18\"...   \n",
      "                 3         [\"Q11\", \"Q21\", \"Q17\", \"Q5\", \"Q10\", \"Q3\", \"Q18\"...   \n",
      "                 4         [\"Q11\", \"Q21\", \"Q17\", \"Q5\", \"Q10\", \"Q3\", \"Q18\"...   \n",
      "                 5         [\"Q11\", \"Q21\", \"Q17\", \"Q5\", \"Q10\", \"Q3\", \"Q18\"...   \n",
      "...                                                                      ...   \n",
      "yp2s1c53         17        [\"Q1\", \"Q20\", \"Q16\", \"Q10\", \"Q13\", \"Q4\", \"Q17\"...   \n",
      "                 18        [\"Q1\", \"Q20\", \"Q16\", \"Q10\", \"Q13\", \"Q4\", \"Q17\"...   \n",
      "                 19        [\"Q1\", \"Q20\", \"Q16\", \"Q10\", \"Q13\", \"Q4\", \"Q17\"...   \n",
      "                 20        [\"Q1\", \"Q20\", \"Q16\", \"Q10\", \"Q13\", \"Q4\", \"Q17\"...   \n",
      "                 21        [\"Q1\", \"Q20\", \"Q16\", \"Q10\", \"Q13\", \"Q4\", \"Q17\"...   \n",
      "\n",
      "                           annual_trip_freq section_preference  \\\n",
      "participant.code question                                        \n",
      "0ae9sh8m         1                      5.0            Economy   \n",
      "                 2                      5.0            Economy   \n",
      "                 3                      5.0            Economy   \n",
      "                 4                      5.0            Economy   \n",
      "                 5                      5.0            Economy   \n",
      "...                                     ...                ...   \n",
      "yp2s1c53         17                     2.0            Economy   \n",
      "                 18                     2.0            Economy   \n",
      "                 19                     2.0            Economy   \n",
      "                 20                     2.0            Economy   \n",
      "                 21                     2.0            Economy   \n",
      "\n",
      "                           survey.1.subsession.round_number   age  ...  \\\n",
      "participant.code question                                          ...   \n",
      "0ae9sh8m         1                                        1  65.0  ...   \n",
      "                 2                                        1  65.0  ...   \n",
      "                 3                                        1  65.0  ...   \n",
      "                 4                                        1  65.0  ...   \n",
      "                 5                                        1  65.0  ...   \n",
      "...                                                     ...   ...  ...   \n",
      "yp2s1c53         17                                       1  30.0  ...   \n",
      "                 18                                       1  30.0  ...   \n",
      "                 19                                       1  30.0  ...   \n",
      "                 20                                       1  30.0  ...   \n",
      "                 21                                       1  30.0  ...   \n",
      "\n",
      "                          distance_    time_ legroomA_  legroomB_  priceA_  \\\n",
      "participant.code question                                                    \n",
      "0ae9sh8m         1              1.7  Red-eye         0          1       10   \n",
      "                 2              5.5  Red-eye         1          1        2   \n",
      "                 3              5.1  Red-eye         0          0        1   \n",
      "                 4              2.5  Daytime         3          3       11   \n",
      "                 5              4.7  Red-eye         4          1       52   \n",
      "...                             ...      ...       ...        ...      ...   \n",
      "yp2s1c53         17             3.1  Red-eye         1          0       16   \n",
      "                 18             4.8  Daytime         1          1        4   \n",
      "                 19             0.9  Red-eye         2          3       37   \n",
      "                 20             3.2  Red-eye         1          0        3   \n",
      "                 21             1.0  Daytime         1          1       10   \n",
      "\n",
      "                          priceB_  colA_  colB_ rowA_  rowB_  \n",
      "participant.code question                                     \n",
      "0ae9sh8m         1              0      E      E    13     27  \n",
      "                 2              5      E      F    10     10  \n",
      "                 3             10      A      C    13     13  \n",
      "                 4             60      F      E    14      8  \n",
      "                 5              8      F      C     5     21  \n",
      "...                           ...    ...    ...   ...    ...  \n",
      "yp2s1c53         17             0      F      A    26      9  \n",
      "                 18             3      D      C    13     17  \n",
      "                 19            38      A      E     8      6  \n",
      "                 20             2      A      F    11     16  \n",
      "                 21             9      A      B    10     23  \n",
      "\n",
      "[2877 rows x 30 columns]\n"
     ]
    }
   ],
   "source": [
    "#Create 21 rows for each person\n",
    "df_clean = pd.wide_to_long(filtered_df, ['choice','price_','distance_','time_','legroomA_','legroomB_','priceA_','priceB_',\n",
    "                                         'colA_','colB_','rowA_','rowB_'], i = 'participant.code', \n",
    "                                           j = 'question').sort_values(['participant.code','question'])\n",
    "print(df_clean)"
   ]
  },
  {
   "cell_type": "markdown",
   "metadata": {},
   "source": [
    "Furthermore, to eliminate skewness/bias in our analysis, we decided to scale the continuous variables (i.e. legroom, price, height, age, distance).\n",
    "\n",
    "[To confirm with Alaska]\n",
    "There is uncertainty regarding whether to scale the incremental price versus scale the total price as it is a possibility that the survey respondent did not factor the base price into their decision-making. Another consideration is to classify age as a categorical variable instead of a continuous variable pending the age distribution of the survey respondents."
   ]
  },
  {
   "cell_type": "code",
   "execution_count": 118,
   "metadata": {},
   "outputs": [],
   "source": [
    "# Scaled Variables\n",
    "#Legroom\n",
    "df_clean[\"scaled_legroomA\"] = preprocessing.scale(pd.to_numeric(df_clean[\"legroomA_\"]))\n",
    "df_clean[\"scaled_legroomB\"] = preprocessing.scale(pd.to_numeric(df_clean[\"legroomB_\"]))\n",
    "\n",
    "#Total Price\n",
    "df_clean[\"scaled_totalPriceA\"] = preprocessing.scale((pd.to_numeric(df_clean[\"price_\"]) + pd.to_numeric(df_clean[\"priceA_\"])))\n",
    "df_clean[\"scaled_totalPriceB\"] = preprocessing.scale((pd.to_numeric(df_clean[\"price_\"]) + pd.to_numeric(df_clean[\"priceB_\"])))\n",
    "\n",
    "#Variable Price\n",
    "df_clean[\"scaled_varPriceA\"] = preprocessing.scale(pd.to_numeric(df_clean[\"priceA_\"]))\n",
    "df_clean[\"scaled_varPriceB\"] = preprocessing.scale(pd.to_numeric(df_clean[\"priceB_\"]))\n",
    "\n",
    "#Combined Height\n",
    "df_clean[\"scaled_height\"] = preprocessing.scale((df_clean[\"height_feet\"]*12.0 + df_clean[\"height_inches\"]))\n",
    "\n",
    "#Age\n",
    "df_clean[\"scaled_age\"] = preprocessing.scale(df_clean[\"age\"])\n",
    "\n",
    "#Distance\n",
    "df_clean[\"scaled_distance\"] = preprocessing.scale(df_clean[\"distance_\"])"
   ]
  },
  {
   "cell_type": "markdown",
   "metadata": {},
   "source": [
    "Currently each row of data corresponds to a participant-question combination which consists of two seat attributes (Seat A and Seat B). Although we are interested in this pair-wise comparison as structured from the survey, de-coupling this would be helpful in modeling for the coefficients associated with variables such as rows, legroom, price, etc. Thus, the following code will double the rows where 42 rows (21 questions * 2 seats/question) correspond to each participant."
   ]
  },
  {
   "cell_type": "code",
   "execution_count": 119,
   "metadata": {},
   "outputs": [],
   "source": [
    "# Double the rows\n",
    "df_clean2 = pd.DataFrame(np.repeat(df_clean.values,2,axis=0))\n",
    "df_clean2.columns = df_clean.columns"
   ]
  },
  {
   "cell_type": "code",
   "execution_count": 120,
   "metadata": {},
   "outputs": [],
   "source": [
    "df_clean2.reset_index()\n",
    "df_clean2['seat_indicator'] = np.where((df_clean2.index%2) == 0, 'Seat A','Seat B')"
   ]
  },
  {
   "cell_type": "code",
   "execution_count": 121,
   "metadata": {},
   "outputs": [],
   "source": [
    "#Seat String\n",
    "df_clean2['seat'] = np.where(df_clean2['seat_indicator'] == 'Seat A',\n",
    "                             df_clean2['rowA_'].astype(str) + df_clean2['colA_'],\n",
    "                             df_clean2['rowB_'].astype(str) + df_clean2['colB_'])"
   ]
  },
  {
   "cell_type": "code",
   "execution_count": 122,
   "metadata": {},
   "outputs": [],
   "source": [
    "#Binary Selection Variable\n",
    "df_clean2['selection'] = np.where(df_clean2['choice']==df_clean2['seat_indicator'],'1','0')"
   ]
  },
  {
   "cell_type": "code",
   "execution_count": 123,
   "metadata": {},
   "outputs": [],
   "source": [
    "#Create Selected and Alternative Columns\n",
    "df_clean2['legroom'] = np.where(df_clean2['selection'] == '1', \n",
    "                       np.where(df_clean2['choice']==df_clean2['seat_indicator'], df_clean2['scaled_legroomA'], df_clean2['scaled_legroomB']), \n",
    "                       np.where(df_clean2['choice']==df_clean2['seat_indicator'], df_clean2['scaled_legroomA'], df_clean2['scaled_legroomB']))\n",
    "df_clean2['legroom_alt'] = np.where(df_clean2['selection'] == '1', \n",
    "                           np.where(df_clean2['choice']==df_clean2['seat_indicator'], df_clean2['scaled_legroomB'], df_clean2['scaled_legroomA']), \n",
    "                           np.where(df_clean2['choice']==df_clean2['seat_indicator'], df_clean2['scaled_legroomB'], df_clean2['scaled_legroomA']))\n",
    "\n",
    "df_clean2['price_total'] = np.where(df_clean2['selection'] == '1', \n",
    "                        np.where(df_clean2['choice']==df_clean2['seat_indicator'], df_clean2['scaled_totalPriceA'], df_clean2['scaled_totalPriceB']), \n",
    "                         np.where(df_clean2['choice']==df_clean2['seat_indicator'], df_clean2['scaled_totalPriceA'], df_clean2['scaled_totalPriceB']))\n",
    "df_clean2['price_total_alt'] = np.where(df_clean2['selection'] == '1', \n",
    "                            np.where(df_clean2['choice']==df_clean2['seat_indicator'], df_clean2['scaled_totalPriceB'], df_clean2['scaled_totalPriceA']), \n",
    "                             np.where(df_clean2['choice']==df_clean2['seat_indicator'], df_clean2['scaled_totalPriceB'], df_clean2['scaled_totalPriceA']))\n",
    "\n",
    "df_clean2['price_increase'] = np.where(df_clean2['selection'] == '1', \n",
    "                        np.where(df_clean2['choice']==df_clean2['seat_indicator'], df_clean2['scaled_varPriceA'], df_clean2['scaled_varPriceB']), \n",
    "                         np.where(df_clean2['choice']==df_clean2['seat_indicator'], df_clean2['scaled_varPriceA'], df_clean2['scaled_varPriceB']))\n",
    "df_clean2['price_increase_alt'] = np.where(df_clean2['selection'] == '1', \n",
    "                            np.where(df_clean2['choice']==df_clean2['seat_indicator'], df_clean2['scaled_varPriceB'], df_clean2['scaled_varPriceA']), \n",
    "                             np.where(df_clean2['choice']==df_clean2['seat_indicator'], df_clean2['scaled_varPriceB'], df_clean2['scaled_varPriceA']))\n",
    "\n",
    "df_clean2['row'] = np.where(df_clean2['selection'] == '1', \n",
    "                        np.where(df_clean2['choice']==df_clean2['seat_indicator'], df_clean2['rowA_'], df_clean2['rowB_']), \n",
    "                         np.where(df_clean2['choice']==df_clean2['seat_indicator'], df_clean2['rowA_'], df_clean2['rowB_']))\n",
    "df_clean2['row_alt'] = np.where(df_clean2['selection'] == '1', \n",
    "                            np.where(df_clean2['choice']==df_clean2['seat_indicator'], df_clean2['rowB_'], df_clean2['rowA_']), \n",
    "                             np.where(df_clean2['choice']==df_clean2['seat_indicator'], df_clean2['rowB_'], df_clean2['rowA_']))\n",
    "\n",
    "df_clean2['column'] = np.where(df_clean2['selection'] == '1', \n",
    "                        np.where(df_clean2['choice']==df_clean2['seat_indicator'], df_clean2['colA_'], df_clean2['colB_']), \n",
    "                         np.where(df_clean2['choice']==df_clean2['seat_indicator'], df_clean2['colA_'], df_clean2['colB_']))\n",
    "df_clean2['column_alt'] = np.where(df_clean2['selection'] == '1', \n",
    "                            np.where(df_clean2['choice']==df_clean2['seat_indicator'], df_clean2['colB_'], df_clean2['colA_']), \n",
    "                             np.where(df_clean2['choice']==df_clean2['seat_indicator'], df_clean2['colB_'], df_clean2['colA_']))"
   ]
  },
  {
   "cell_type": "code",
   "execution_count": 124,
   "metadata": {},
   "outputs": [],
   "source": [
    "#Drop Unnecessary Columns\n",
    "df_clean2.drop(['legroomA_','legroomB_','scaled_legroomA','scaled_legroomB','priceA_','priceB_','scaled_varPriceA',\n",
    "                'scaled_varPriceB','time_started','comment','survey.1.subsession.round_number',\n",
    "               'survey.1.group.id_in_subsession','current_app_name','id_in_session','id_in_group','session_code',\n",
    "               'index_in_pages','seat_indicator','colA_','colB_','rowA_','rowB_','scaled_totalPriceA','scaled_totalPriceB','age',\n",
    "                'distance_','height_feet','height_inches','choice','price_','page_sequence','seat'], inplace = True, axis = 1)"
   ]
  },
  {
   "cell_type": "code",
   "execution_count": 127,
   "metadata": {},
   "outputs": [],
   "source": [
    "#Order Columns\n",
    "df_clean = df_clean2[['selection','row','row_alt','column','column_alt','legroom','legroom_alt',\n",
    "                     'price_total','price_total_alt','price_increase','price_increase_alt','scaled_distance',\n",
    "                      'time_','scaled_age','scaled_height','gender',\n",
    "                      'percentage_biz','annual_trip_freq','seat_type_preference',\n",
    "                      'section_preference']]"
   ]
  },
  {
   "cell_type": "code",
   "execution_count": 260,
   "metadata": {},
   "outputs": [],
   "source": [
    "df_clean.to_csv('seatsurvey_clean2.csv', header=True)"
   ]
  },
  {
   "cell_type": "code",
   "execution_count": 128,
   "metadata": {},
   "outputs": [],
   "source": [
    "df_clean_dummies = pd.get_dummies(df_clean, columns = ['column','column_alt','time_','gender','seat_type_preference','section_preference'] )"
   ]
  },
  {
   "cell_type": "code",
   "execution_count": null,
   "metadata": {},
   "outputs": [],
   "source": []
  },
  {
   "cell_type": "markdown",
   "metadata": {},
   "source": [
    "Next we will use the flat csv file to begin the modelling process. WE WILL CLEAN THIS UP FOR THE FINAL MODEL"
   ]
  },
  {
   "cell_type": "code",
   "execution_count": 129,
   "metadata": {},
   "outputs": [
    {
     "data": {
      "text/plain": [
       "Index(['selection', 'row', 'row_alt', 'legroom', 'legroom_alt', 'price_total',\n",
       "       'price_total_alt', 'price_increase', 'price_increase_alt',\n",
       "       'scaled_distance', 'scaled_age', 'scaled_height', 'percentage_biz',\n",
       "       'annual_trip_freq', 'column_A', 'column_B', 'column_C', 'column_D',\n",
       "       'column_E', 'column_F', 'column_alt_A', 'column_alt_B', 'column_alt_C',\n",
       "       'column_alt_D', 'column_alt_E', 'column_alt_F', 'time__Daytime',\n",
       "       'time__Red-eye', 'gender_Female', 'gender_Male', 'gender_Not Specified',\n",
       "       'seat_type_preference_Aisle', 'seat_type_preference_Middle',\n",
       "       'seat_type_preference_Window', 'section_preference_Economy',\n",
       "       'section_preference_First', 'section_preference_Premier'],\n",
       "      dtype='object')"
      ]
     },
     "execution_count": 129,
     "metadata": {},
     "output_type": "execute_result"
    }
   ],
   "source": [
    "df_clean_dummies.columns"
   ]
  },
  {
   "cell_type": "code",
   "execution_count": 130,
   "metadata": {},
   "outputs": [
    {
     "data": {
      "text/plain": [
       "<bound method NDFrame.head of      selection row row_alt   legroom legroom_alt price_total price_total_alt  \\\n",
       "0            1  13      27  -1.18039   -0.210226   -0.977743       -0.986649   \n",
       "1            0  27      13 -0.210226    -1.18039   -0.986649       -0.977743   \n",
       "2            0  10      10 -0.210226   -0.449601     1.23817        0.988222   \n",
       "3            1  10      10 -0.449601   -0.210226    0.988222         1.23817   \n",
       "4            1  13      13  -1.18039   -0.947812   -0.227933     -0.00109214   \n",
       "...        ...  ..     ...       ...         ...         ...             ...   \n",
       "5749         1   8       6  0.281191     1.26495    -1.17891        -1.09399   \n",
       "5750         0  16      11 -0.947812   -0.449601    0.555113        0.384716   \n",
       "5751         1  11      16 -0.449601   -0.947812    0.384716        0.555113   \n",
       "5752         1  10      23 -0.449601   -0.210226    -1.54467        -1.50382   \n",
       "5753         0  23      10 -0.210226   -0.449601    -1.50382        -1.54467   \n",
       "\n",
       "     price_increase price_increase_alt scaled_distance  ... time__Red-eye  \\\n",
       "0         -0.457583          -0.609347        -1.03885  ...             1   \n",
       "1         -0.609347          -0.457583        -1.03885  ...             1   \n",
       "2           -0.3705          -0.654699         1.73009  ...             1   \n",
       "3         -0.654699            -0.3705         1.73009  ...             1   \n",
       "4         -0.679338          -0.131652         1.43862  ...             1   \n",
       "...             ...                ...             ...  ...           ...   \n",
       "5749       0.207685            1.20589        -1.62179  ...             1   \n",
       "5750      -0.513808          -0.630059         0.05415  ...             1   \n",
       "5751      -0.630059          -0.513808         0.05415  ...             1   \n",
       "5752      -0.457583          -0.179422        -1.54892  ...             0   \n",
       "5753      -0.179422          -0.457583        -1.54892  ...             0   \n",
       "\n",
       "     gender_Female gender_Male gender_Not Specified  \\\n",
       "0                1           0                    0   \n",
       "1                1           0                    0   \n",
       "2                1           0                    0   \n",
       "3                1           0                    0   \n",
       "4                1           0                    0   \n",
       "...            ...         ...                  ...   \n",
       "5749             0           1                    0   \n",
       "5750             0           1                    0   \n",
       "5751             0           1                    0   \n",
       "5752             0           1                    0   \n",
       "5753             0           1                    0   \n",
       "\n",
       "      seat_type_preference_Aisle  seat_type_preference_Middle  \\\n",
       "0                              0                            0   \n",
       "1                              0                            0   \n",
       "2                              0                            0   \n",
       "3                              0                            0   \n",
       "4                              0                            0   \n",
       "...                          ...                          ...   \n",
       "5749                           0                            0   \n",
       "5750                           0                            0   \n",
       "5751                           0                            0   \n",
       "5752                           0                            0   \n",
       "5753                           0                            0   \n",
       "\n",
       "      seat_type_preference_Window  section_preference_Economy  \\\n",
       "0                               1                           1   \n",
       "1                               1                           1   \n",
       "2                               1                           1   \n",
       "3                               1                           1   \n",
       "4                               1                           1   \n",
       "...                           ...                         ...   \n",
       "5749                            1                           1   \n",
       "5750                            1                           1   \n",
       "5751                            1                           1   \n",
       "5752                            1                           1   \n",
       "5753                            1                           1   \n",
       "\n",
       "      section_preference_First  section_preference_Premier  \n",
       "0                            0                           0  \n",
       "1                            0                           0  \n",
       "2                            0                           0  \n",
       "3                            0                           0  \n",
       "4                            0                           0  \n",
       "...                        ...                         ...  \n",
       "5749                         0                           0  \n",
       "5750                         0                           0  \n",
       "5751                         0                           0  \n",
       "5752                         0                           0  \n",
       "5753                         0                           0  \n",
       "\n",
       "[5754 rows x 37 columns]>"
      ]
     },
     "execution_count": 130,
     "metadata": {},
     "output_type": "execute_result"
    }
   ],
   "source": [
    "df_clean_dummies.head"
   ]
  },
  {
   "cell_type": "code",
   "execution_count": 131,
   "metadata": {},
   "outputs": [
    {
     "name": "stdout",
     "output_type": "stream",
     "text": [
      "shape of original dataset : (5754, 37)\n",
      "shape of input - training set (4603, 36)\n",
      "shape of output - training set (4603,)\n",
      "shape of input - testing set (1151, 36)\n",
      "shape of output - testing set (1151,)\n"
     ]
    }
   ],
   "source": [
    "# Define output variable\n",
    "y = df_clean_dummies.selection\n",
    "# Drop output variable from dataset to form input vector\n",
    "x = df_clean_dummies.drop('selection', axis=1)\n",
    "\n",
    "\n",
    "# Use sklearn function train_test_split() to performa an 80-20 split\n",
    "x_train, x_test, y_train, y_test = train_test_split(x,y,test_size = 0.2)\n",
    "# Verify shape of different sets\n",
    "print(\"shape of original dataset :\",df_clean_dummies.shape)\n",
    "print(\"shape of input - training set\", x_train.shape)\n",
    "print(\"shape of output - training set\", y_train.shape)\n",
    "print(\"shape of input - testing set\", x_test.shape)\n",
    "print(\"shape of output - testing set\", y_test.shape)"
   ]
  },
  {
   "cell_type": "code",
   "execution_count": 149,
   "metadata": {},
   "outputs": [],
   "source": [
    "log_reg = LogisticRegression(multi_class='multinomial')"
   ]
  },
  {
   "cell_type": "code",
   "execution_count": 150,
   "metadata": {},
   "outputs": [
    {
     "name": "stderr",
     "output_type": "stream",
     "text": [
      "C:\\ProgramData\\Anaconda3\\lib\\site-packages\\sklearn\\linear_model\\_logistic.py:762: ConvergenceWarning: lbfgs failed to converge (status=1):\n",
      "STOP: TOTAL NO. of ITERATIONS REACHED LIMIT.\n",
      "\n",
      "Increase the number of iterations (max_iter) or scale the data as shown in:\n",
      "    https://scikit-learn.org/stable/modules/preprocessing.html\n",
      "Please also refer to the documentation for alternative solver options:\n",
      "    https://scikit-learn.org/stable/modules/linear_model.html#logistic-regression\n",
      "  n_iter_i = _check_optimize_result(\n"
     ]
    }
   ],
   "source": [
    "result = log_reg.fit(x_train,y_train)"
   ]
  },
  {
   "cell_type": "code",
   "execution_count": 151,
   "metadata": {},
   "outputs": [
    {
     "name": "stdout",
     "output_type": "stream",
     "text": [
      "LogisticRegression(multi_class='multinomial')\n"
     ]
    }
   ],
   "source": [
    "print(result)"
   ]
  },
  {
   "cell_type": "code",
   "execution_count": 152,
   "metadata": {},
   "outputs": [
    {
     "data": {
      "text/plain": [
       "67.9409209383145"
      ]
     },
     "execution_count": 152,
     "metadata": {},
     "output_type": "execute_result"
    }
   ],
   "source": [
    "from sklearn import metrics\n",
    "accuracy = metrics.accuracy_score(y_test, y_pred)\n",
    "accuracy_percentage = 100 * accuracy\n",
    "accuracy_percentage"
   ]
  },
  {
   "cell_type": "code",
   "execution_count": 138,
   "metadata": {},
   "outputs": [
    {
     "name": "stdout",
     "output_type": "stream",
     "text": [
      "{'C': 1.0, 'class_weight': None, 'dual': False, 'fit_intercept': True, 'intercept_scaling': 1, 'l1_ratio': None, 'max_iter': 100, 'multi_class': 'multinomial', 'n_jobs': None, 'penalty': 'l2', 'random_state': None, 'solver': 'lbfgs', 'tol': 0.0001, 'verbose': 0, 'warm_start': False}\n"
     ]
    }
   ],
   "source": [
    "params = log_reg.get_params()\n",
    "print(params)"
   ]
  },
  {
   "cell_type": "code",
   "execution_count": 140,
   "metadata": {},
   "outputs": [
    {
     "name": "stdout",
     "output_type": "stream",
     "text": [
      "Intercept: \n",
      " [0.00915945]\n",
      "Coefficients: \n",
      " [[-4.67948719e-02  4.65722352e-02 -2.25196948e-01  2.28248726e-01\n",
      "   4.57559447e-02 -7.47959377e-02 -6.79634160e-03  3.93947469e-03\n",
      "   2.31643843e-02  1.20550289e-02 -7.77940591e-03  1.86372656e-04\n",
      "  -1.72458750e-04  6.30088170e-01 -1.27863921e-01 -2.13750913e+00\n",
      "   6.69368096e-01  4.39909844e-01  5.34999282e-01 -6.33696997e-01\n",
      "   1.89200641e-01  2.12648903e+00 -6.83245570e-01 -4.68368996e-01\n",
      "  -5.21385765e-01  8.72680337e-03  2.65536305e-04 -3.66109571e-03\n",
      "   1.83162428e-02 -5.66280742e-03  1.57157002e-02  1.83322696e-02\n",
      "  -2.50556301e-02 -1.27620201e-02  2.04194866e-02  1.33487315e-03]]\n"
     ]
    }
   ],
   "source": [
    "#Printing model parameters\n",
    "print('Intercept: \\n', log_reg.intercept_)\n",
    "print('Coefficients: \\n', log_reg.coef_)"
   ]
  },
  {
   "cell_type": "code",
   "execution_count": 141,
   "metadata": {},
   "outputs": [
    {
     "data": {
      "text/plain": [
       "array([[0.95428313, 1.04767376, 0.79835897, 1.25639779, 1.0468189 ,\n",
       "        0.92793282, 0.9932267 , 1.00394724, 1.02343476, 1.01212798,\n",
       "        0.99225078, 1.00018639, 0.99982756, 1.87777614, 0.87997312,\n",
       "        0.11794827, 1.95300282, 1.55256724, 1.70744702, 0.53062645,\n",
       "        1.20828336, 8.38537424, 0.5049754 , 0.62602248, 0.59369725,\n",
       "        1.00876499, 1.00026557, 0.9963456 , 1.01848501, 0.9943532 ,\n",
       "        1.01583984, 1.01850134, 0.97525566, 0.98731907, 1.02062939,\n",
       "        1.00133576]])"
      ]
     },
     "execution_count": 141,
     "metadata": {},
     "output_type": "execute_result"
    }
   ],
   "source": [
    "#Calculate odds ratio estimates\n",
    "import numpy as np\n",
    "np.exp(log_reg.coef_)"
   ]
  },
  {
   "cell_type": "code",
   "execution_count": 145,
   "metadata": {},
   "outputs": [
    {
     "data": {
      "text/plain": [
       "array([[10, 11, -0.21022604646470314, ..., 1, 0, 0],\n",
       "       [5, 21, 1.742777149156344, ..., 1, 0, 0],\n",
       "       [1, 3, 2.0025312791899945, ..., 0, 1, 0],\n",
       "       ...,\n",
       "       [13, 13, -0.21022604646470314, ..., 0, 1, 0],\n",
       "       [8, 14, 2.0025312791899945, ..., 1, 0, 0],\n",
       "       [13, 13, -0.21022604646470314, ..., 0, 0, 1]], dtype=object)"
      ]
     },
     "execution_count": 145,
     "metadata": {},
     "output_type": "execute_result"
    }
   ],
   "source": [
    "np.asarray(x_train)"
   ]
  },
  {
   "cell_type": "code",
   "execution_count": 147,
   "metadata": {},
   "outputs": [
    {
     "ename": "ValueError",
     "evalue": "Pandas data cast to numpy dtype of object. Check input data with np.asarray(data).",
     "output_type": "error",
     "traceback": [
      "\u001b[1;31m---------------------------------------------------------------------------\u001b[0m",
      "\u001b[1;31mValueError\u001b[0m                                Traceback (most recent call last)",
      "\u001b[1;32m<ipython-input-147-6dae41d81f40>\u001b[0m in \u001b[0;36m<module>\u001b[1;34m\u001b[0m\n\u001b[0;32m      2\u001b[0m \u001b[1;32mimport\u001b[0m \u001b[0mstatsmodels\u001b[0m\u001b[1;33m.\u001b[0m\u001b[0mapi\u001b[0m \u001b[1;32mas\u001b[0m \u001b[0msm\u001b[0m\u001b[1;33m\u001b[0m\u001b[1;33m\u001b[0m\u001b[0m\n\u001b[0;32m      3\u001b[0m \u001b[1;33m\u001b[0m\u001b[0m\n\u001b[1;32m----> 4\u001b[1;33m \u001b[0mlogit_model\u001b[0m\u001b[1;33m=\u001b[0m\u001b[0msm\u001b[0m\u001b[1;33m.\u001b[0m\u001b[0mMNLogit\u001b[0m\u001b[1;33m(\u001b[0m\u001b[0my_train\u001b[0m\u001b[1;33m,\u001b[0m\u001b[0mx_train\u001b[0m\u001b[1;33m)\u001b[0m\u001b[1;33m\u001b[0m\u001b[1;33m\u001b[0m\u001b[0m\n\u001b[0m\u001b[0;32m      5\u001b[0m \u001b[0mlogit_model\u001b[0m\u001b[1;33m\u001b[0m\u001b[1;33m\u001b[0m\u001b[0m\n\u001b[0;32m      6\u001b[0m \u001b[1;33m\u001b[0m\u001b[0m\n",
      "\u001b[1;32mC:\\ProgramData\\Anaconda3\\lib\\site-packages\\statsmodels\\discrete\\discrete_model.py\u001b[0m in \u001b[0;36m__init__\u001b[1;34m(self, endog, exog, check_rank, **kwargs)\u001b[0m\n\u001b[0;32m   2240\u001b[0m \u001b[1;33m\u001b[0m\u001b[0m\n\u001b[0;32m   2241\u001b[0m     \u001b[1;32mdef\u001b[0m \u001b[0m__init__\u001b[0m\u001b[1;33m(\u001b[0m\u001b[0mself\u001b[0m\u001b[1;33m,\u001b[0m \u001b[0mendog\u001b[0m\u001b[1;33m,\u001b[0m \u001b[0mexog\u001b[0m\u001b[1;33m,\u001b[0m \u001b[0mcheck_rank\u001b[0m\u001b[1;33m=\u001b[0m\u001b[1;32mTrue\u001b[0m\u001b[1;33m,\u001b[0m \u001b[1;33m**\u001b[0m\u001b[0mkwargs\u001b[0m\u001b[1;33m)\u001b[0m\u001b[1;33m:\u001b[0m\u001b[1;33m\u001b[0m\u001b[1;33m\u001b[0m\u001b[0m\n\u001b[1;32m-> 2242\u001b[1;33m         \u001b[0msuper\u001b[0m\u001b[1;33m(\u001b[0m\u001b[1;33m)\u001b[0m\u001b[1;33m.\u001b[0m\u001b[0m__init__\u001b[0m\u001b[1;33m(\u001b[0m\u001b[0mendog\u001b[0m\u001b[1;33m,\u001b[0m \u001b[0mexog\u001b[0m\u001b[1;33m,\u001b[0m \u001b[0mcheck_rank\u001b[0m\u001b[1;33m=\u001b[0m\u001b[0mcheck_rank\u001b[0m\u001b[1;33m,\u001b[0m \u001b[1;33m**\u001b[0m\u001b[0mkwargs\u001b[0m\u001b[1;33m)\u001b[0m\u001b[1;33m\u001b[0m\u001b[1;33m\u001b[0m\u001b[0m\n\u001b[0m\u001b[0;32m   2243\u001b[0m \u001b[1;33m\u001b[0m\u001b[0m\n\u001b[0;32m   2244\u001b[0m         \u001b[1;31m# Override cov_names since multivariate model\u001b[0m\u001b[1;33m\u001b[0m\u001b[1;33m\u001b[0m\u001b[1;33m\u001b[0m\u001b[0m\n",
      "\u001b[1;32mC:\\ProgramData\\Anaconda3\\lib\\site-packages\\statsmodels\\discrete\\discrete_model.py\u001b[0m in \u001b[0;36m__init__\u001b[1;34m(self, endog, exog, check_rank, **kwargs)\u001b[0m\n\u001b[0;32m    454\u001b[0m \u001b[1;33m\u001b[0m\u001b[0m\n\u001b[0;32m    455\u001b[0m     \u001b[1;32mdef\u001b[0m \u001b[0m__init__\u001b[0m\u001b[1;33m(\u001b[0m\u001b[0mself\u001b[0m\u001b[1;33m,\u001b[0m \u001b[0mendog\u001b[0m\u001b[1;33m,\u001b[0m \u001b[0mexog\u001b[0m\u001b[1;33m,\u001b[0m \u001b[0mcheck_rank\u001b[0m\u001b[1;33m=\u001b[0m\u001b[1;32mTrue\u001b[0m\u001b[1;33m,\u001b[0m \u001b[1;33m**\u001b[0m\u001b[0mkwargs\u001b[0m\u001b[1;33m)\u001b[0m\u001b[1;33m:\u001b[0m\u001b[1;33m\u001b[0m\u001b[1;33m\u001b[0m\u001b[0m\n\u001b[1;32m--> 456\u001b[1;33m         \u001b[0msuper\u001b[0m\u001b[1;33m(\u001b[0m\u001b[1;33m)\u001b[0m\u001b[1;33m.\u001b[0m\u001b[0m__init__\u001b[0m\u001b[1;33m(\u001b[0m\u001b[0mendog\u001b[0m\u001b[1;33m,\u001b[0m \u001b[0mexog\u001b[0m\u001b[1;33m,\u001b[0m \u001b[0mcheck_rank\u001b[0m\u001b[1;33m,\u001b[0m \u001b[1;33m**\u001b[0m\u001b[0mkwargs\u001b[0m\u001b[1;33m)\u001b[0m\u001b[1;33m\u001b[0m\u001b[1;33m\u001b[0m\u001b[0m\n\u001b[0m\u001b[0;32m    457\u001b[0m         if (not issubclass(self.__class__, MultinomialModel) and\n\u001b[0;32m    458\u001b[0m                 not np.all((self.endog >= 0) & (self.endog <= 1))):\n",
      "\u001b[1;32mC:\\ProgramData\\Anaconda3\\lib\\site-packages\\statsmodels\\discrete\\discrete_model.py\u001b[0m in \u001b[0;36m__init__\u001b[1;34m(self, endog, exog, check_rank, **kwargs)\u001b[0m\n\u001b[0;32m    173\u001b[0m     \u001b[1;32mdef\u001b[0m \u001b[0m__init__\u001b[0m\u001b[1;33m(\u001b[0m\u001b[0mself\u001b[0m\u001b[1;33m,\u001b[0m \u001b[0mendog\u001b[0m\u001b[1;33m,\u001b[0m \u001b[0mexog\u001b[0m\u001b[1;33m,\u001b[0m \u001b[0mcheck_rank\u001b[0m\u001b[1;33m=\u001b[0m\u001b[1;32mTrue\u001b[0m\u001b[1;33m,\u001b[0m \u001b[1;33m**\u001b[0m\u001b[0mkwargs\u001b[0m\u001b[1;33m)\u001b[0m\u001b[1;33m:\u001b[0m\u001b[1;33m\u001b[0m\u001b[1;33m\u001b[0m\u001b[0m\n\u001b[0;32m    174\u001b[0m         \u001b[0mself\u001b[0m\u001b[1;33m.\u001b[0m\u001b[0m_check_rank\u001b[0m \u001b[1;33m=\u001b[0m \u001b[0mcheck_rank\u001b[0m\u001b[1;33m\u001b[0m\u001b[1;33m\u001b[0m\u001b[0m\n\u001b[1;32m--> 175\u001b[1;33m         \u001b[0msuper\u001b[0m\u001b[1;33m(\u001b[0m\u001b[1;33m)\u001b[0m\u001b[1;33m.\u001b[0m\u001b[0m__init__\u001b[0m\u001b[1;33m(\u001b[0m\u001b[0mendog\u001b[0m\u001b[1;33m,\u001b[0m \u001b[0mexog\u001b[0m\u001b[1;33m,\u001b[0m \u001b[1;33m**\u001b[0m\u001b[0mkwargs\u001b[0m\u001b[1;33m)\u001b[0m\u001b[1;33m\u001b[0m\u001b[1;33m\u001b[0m\u001b[0m\n\u001b[0m\u001b[0;32m    176\u001b[0m         \u001b[0mself\u001b[0m\u001b[1;33m.\u001b[0m\u001b[0mraise_on_perfect_prediction\u001b[0m \u001b[1;33m=\u001b[0m \u001b[1;32mTrue\u001b[0m\u001b[1;33m\u001b[0m\u001b[1;33m\u001b[0m\u001b[0m\n\u001b[0;32m    177\u001b[0m \u001b[1;33m\u001b[0m\u001b[0m\n",
      "\u001b[1;32mC:\\ProgramData\\Anaconda3\\lib\\site-packages\\statsmodels\\base\\model.py\u001b[0m in \u001b[0;36m__init__\u001b[1;34m(self, endog, exog, **kwargs)\u001b[0m\n\u001b[0;32m    235\u001b[0m \u001b[1;33m\u001b[0m\u001b[0m\n\u001b[0;32m    236\u001b[0m     \u001b[1;32mdef\u001b[0m \u001b[0m__init__\u001b[0m\u001b[1;33m(\u001b[0m\u001b[0mself\u001b[0m\u001b[1;33m,\u001b[0m \u001b[0mendog\u001b[0m\u001b[1;33m,\u001b[0m \u001b[0mexog\u001b[0m\u001b[1;33m=\u001b[0m\u001b[1;32mNone\u001b[0m\u001b[1;33m,\u001b[0m \u001b[1;33m**\u001b[0m\u001b[0mkwargs\u001b[0m\u001b[1;33m)\u001b[0m\u001b[1;33m:\u001b[0m\u001b[1;33m\u001b[0m\u001b[1;33m\u001b[0m\u001b[0m\n\u001b[1;32m--> 237\u001b[1;33m         \u001b[0msuper\u001b[0m\u001b[1;33m(\u001b[0m\u001b[0mLikelihoodModel\u001b[0m\u001b[1;33m,\u001b[0m \u001b[0mself\u001b[0m\u001b[1;33m)\u001b[0m\u001b[1;33m.\u001b[0m\u001b[0m__init__\u001b[0m\u001b[1;33m(\u001b[0m\u001b[0mendog\u001b[0m\u001b[1;33m,\u001b[0m \u001b[0mexog\u001b[0m\u001b[1;33m,\u001b[0m \u001b[1;33m**\u001b[0m\u001b[0mkwargs\u001b[0m\u001b[1;33m)\u001b[0m\u001b[1;33m\u001b[0m\u001b[1;33m\u001b[0m\u001b[0m\n\u001b[0m\u001b[0;32m    238\u001b[0m         \u001b[0mself\u001b[0m\u001b[1;33m.\u001b[0m\u001b[0minitialize\u001b[0m\u001b[1;33m(\u001b[0m\u001b[1;33m)\u001b[0m\u001b[1;33m\u001b[0m\u001b[1;33m\u001b[0m\u001b[0m\n\u001b[0;32m    239\u001b[0m \u001b[1;33m\u001b[0m\u001b[0m\n",
      "\u001b[1;32mC:\\ProgramData\\Anaconda3\\lib\\site-packages\\statsmodels\\base\\model.py\u001b[0m in \u001b[0;36m__init__\u001b[1;34m(self, endog, exog, **kwargs)\u001b[0m\n\u001b[0;32m     75\u001b[0m         \u001b[0mmissing\u001b[0m \u001b[1;33m=\u001b[0m \u001b[0mkwargs\u001b[0m\u001b[1;33m.\u001b[0m\u001b[0mpop\u001b[0m\u001b[1;33m(\u001b[0m\u001b[1;34m'missing'\u001b[0m\u001b[1;33m,\u001b[0m \u001b[1;34m'none'\u001b[0m\u001b[1;33m)\u001b[0m\u001b[1;33m\u001b[0m\u001b[1;33m\u001b[0m\u001b[0m\n\u001b[0;32m     76\u001b[0m         \u001b[0mhasconst\u001b[0m \u001b[1;33m=\u001b[0m \u001b[0mkwargs\u001b[0m\u001b[1;33m.\u001b[0m\u001b[0mpop\u001b[0m\u001b[1;33m(\u001b[0m\u001b[1;34m'hasconst'\u001b[0m\u001b[1;33m,\u001b[0m \u001b[1;32mNone\u001b[0m\u001b[1;33m)\u001b[0m\u001b[1;33m\u001b[0m\u001b[1;33m\u001b[0m\u001b[0m\n\u001b[1;32m---> 77\u001b[1;33m         self.data = self._handle_data(endog, exog, missing, hasconst,\n\u001b[0m\u001b[0;32m     78\u001b[0m                                       **kwargs)\n\u001b[0;32m     79\u001b[0m         \u001b[0mself\u001b[0m\u001b[1;33m.\u001b[0m\u001b[0mk_constant\u001b[0m \u001b[1;33m=\u001b[0m \u001b[0mself\u001b[0m\u001b[1;33m.\u001b[0m\u001b[0mdata\u001b[0m\u001b[1;33m.\u001b[0m\u001b[0mk_constant\u001b[0m\u001b[1;33m\u001b[0m\u001b[1;33m\u001b[0m\u001b[0m\n",
      "\u001b[1;32mC:\\ProgramData\\Anaconda3\\lib\\site-packages\\statsmodels\\discrete\\discrete_model.py\u001b[0m in \u001b[0;36m_handle_data\u001b[1;34m(self, endog, exog, missing, hasconst, **kwargs)\u001b[0m\n\u001b[0;32m    573\u001b[0m \u001b[1;33m\u001b[0m\u001b[0m\n\u001b[0;32m    574\u001b[0m         \u001b[0mself\u001b[0m\u001b[1;33m.\u001b[0m\u001b[0m_ynames_map\u001b[0m \u001b[1;33m=\u001b[0m \u001b[0mynames\u001b[0m\u001b[1;33m\u001b[0m\u001b[1;33m\u001b[0m\u001b[0m\n\u001b[1;32m--> 575\u001b[1;33m         \u001b[0mdata\u001b[0m \u001b[1;33m=\u001b[0m \u001b[0mhandle_data\u001b[0m\u001b[1;33m(\u001b[0m\u001b[0mendog_dummies\u001b[0m\u001b[1;33m,\u001b[0m \u001b[0mexog\u001b[0m\u001b[1;33m,\u001b[0m \u001b[0mmissing\u001b[0m\u001b[1;33m,\u001b[0m \u001b[0mhasconst\u001b[0m\u001b[1;33m,\u001b[0m \u001b[1;33m**\u001b[0m\u001b[0mkwargs\u001b[0m\u001b[1;33m)\u001b[0m\u001b[1;33m\u001b[0m\u001b[1;33m\u001b[0m\u001b[0m\n\u001b[0m\u001b[0;32m    576\u001b[0m         \u001b[0mdata\u001b[0m\u001b[1;33m.\u001b[0m\u001b[0mynames\u001b[0m \u001b[1;33m=\u001b[0m \u001b[0myname\u001b[0m  \u001b[1;31m# overwrite this to single endog name\u001b[0m\u001b[1;33m\u001b[0m\u001b[1;33m\u001b[0m\u001b[0m\n\u001b[0;32m    577\u001b[0m         \u001b[0mdata\u001b[0m\u001b[1;33m.\u001b[0m\u001b[0morig_endog\u001b[0m \u001b[1;33m=\u001b[0m \u001b[0mendog\u001b[0m\u001b[1;33m\u001b[0m\u001b[1;33m\u001b[0m\u001b[0m\n",
      "\u001b[1;32mC:\\ProgramData\\Anaconda3\\lib\\site-packages\\statsmodels\\base\\data.py\u001b[0m in \u001b[0;36mhandle_data\u001b[1;34m(endog, exog, missing, hasconst, **kwargs)\u001b[0m\n\u001b[0;32m    670\u001b[0m \u001b[1;33m\u001b[0m\u001b[0m\n\u001b[0;32m    671\u001b[0m     \u001b[0mklass\u001b[0m \u001b[1;33m=\u001b[0m \u001b[0mhandle_data_class_factory\u001b[0m\u001b[1;33m(\u001b[0m\u001b[0mendog\u001b[0m\u001b[1;33m,\u001b[0m \u001b[0mexog\u001b[0m\u001b[1;33m)\u001b[0m\u001b[1;33m\u001b[0m\u001b[1;33m\u001b[0m\u001b[0m\n\u001b[1;32m--> 672\u001b[1;33m     return klass(endog, exog=exog, missing=missing, hasconst=hasconst,\n\u001b[0m\u001b[0;32m    673\u001b[0m                  **kwargs)\n",
      "\u001b[1;32mC:\\ProgramData\\Anaconda3\\lib\\site-packages\\statsmodels\\base\\data.py\u001b[0m in \u001b[0;36m__init__\u001b[1;34m(self, endog, exog, missing, hasconst, **kwargs)\u001b[0m\n\u001b[0;32m     81\u001b[0m             \u001b[0mself\u001b[0m\u001b[1;33m.\u001b[0m\u001b[0morig_endog\u001b[0m \u001b[1;33m=\u001b[0m \u001b[0mendog\u001b[0m\u001b[1;33m\u001b[0m\u001b[1;33m\u001b[0m\u001b[0m\n\u001b[0;32m     82\u001b[0m             \u001b[0mself\u001b[0m\u001b[1;33m.\u001b[0m\u001b[0morig_exog\u001b[0m \u001b[1;33m=\u001b[0m \u001b[0mexog\u001b[0m\u001b[1;33m\u001b[0m\u001b[1;33m\u001b[0m\u001b[0m\n\u001b[1;32m---> 83\u001b[1;33m             \u001b[0mself\u001b[0m\u001b[1;33m.\u001b[0m\u001b[0mendog\u001b[0m\u001b[1;33m,\u001b[0m \u001b[0mself\u001b[0m\u001b[1;33m.\u001b[0m\u001b[0mexog\u001b[0m \u001b[1;33m=\u001b[0m \u001b[0mself\u001b[0m\u001b[1;33m.\u001b[0m\u001b[0m_convert_endog_exog\u001b[0m\u001b[1;33m(\u001b[0m\u001b[0mendog\u001b[0m\u001b[1;33m,\u001b[0m \u001b[0mexog\u001b[0m\u001b[1;33m)\u001b[0m\u001b[1;33m\u001b[0m\u001b[1;33m\u001b[0m\u001b[0m\n\u001b[0m\u001b[0;32m     84\u001b[0m \u001b[1;33m\u001b[0m\u001b[0m\n\u001b[0;32m     85\u001b[0m         \u001b[0mself\u001b[0m\u001b[1;33m.\u001b[0m\u001b[0mconst_idx\u001b[0m \u001b[1;33m=\u001b[0m \u001b[1;32mNone\u001b[0m\u001b[1;33m\u001b[0m\u001b[1;33m\u001b[0m\u001b[0m\n",
      "\u001b[1;32mC:\\ProgramData\\Anaconda3\\lib\\site-packages\\statsmodels\\base\\data.py\u001b[0m in \u001b[0;36m_convert_endog_exog\u001b[1;34m(self, endog, exog)\u001b[0m\n\u001b[0;32m    506\u001b[0m         \u001b[0mexog\u001b[0m \u001b[1;33m=\u001b[0m \u001b[0mexog\u001b[0m \u001b[1;32mif\u001b[0m \u001b[0mexog\u001b[0m \u001b[1;32mis\u001b[0m \u001b[1;32mNone\u001b[0m \u001b[1;32melse\u001b[0m \u001b[0mnp\u001b[0m\u001b[1;33m.\u001b[0m\u001b[0masarray\u001b[0m\u001b[1;33m(\u001b[0m\u001b[0mexog\u001b[0m\u001b[1;33m)\u001b[0m\u001b[1;33m\u001b[0m\u001b[1;33m\u001b[0m\u001b[0m\n\u001b[0;32m    507\u001b[0m         \u001b[1;32mif\u001b[0m \u001b[0mendog\u001b[0m\u001b[1;33m.\u001b[0m\u001b[0mdtype\u001b[0m \u001b[1;33m==\u001b[0m \u001b[0mobject\u001b[0m \u001b[1;32mor\u001b[0m \u001b[0mexog\u001b[0m \u001b[1;32mis\u001b[0m \u001b[1;32mnot\u001b[0m \u001b[1;32mNone\u001b[0m \u001b[1;32mand\u001b[0m \u001b[0mexog\u001b[0m\u001b[1;33m.\u001b[0m\u001b[0mdtype\u001b[0m \u001b[1;33m==\u001b[0m \u001b[0mobject\u001b[0m\u001b[1;33m:\u001b[0m\u001b[1;33m\u001b[0m\u001b[1;33m\u001b[0m\u001b[0m\n\u001b[1;32m--> 508\u001b[1;33m             raise ValueError(\"Pandas data cast to numpy dtype of object. \"\n\u001b[0m\u001b[0;32m    509\u001b[0m                              \"Check input data with np.asarray(data).\")\n\u001b[0;32m    510\u001b[0m         \u001b[1;32mreturn\u001b[0m \u001b[0msuper\u001b[0m\u001b[1;33m(\u001b[0m\u001b[0mPandasData\u001b[0m\u001b[1;33m,\u001b[0m \u001b[0mself\u001b[0m\u001b[1;33m)\u001b[0m\u001b[1;33m.\u001b[0m\u001b[0m_convert_endog_exog\u001b[0m\u001b[1;33m(\u001b[0m\u001b[0mendog\u001b[0m\u001b[1;33m,\u001b[0m \u001b[0mexog\u001b[0m\u001b[1;33m)\u001b[0m\u001b[1;33m\u001b[0m\u001b[1;33m\u001b[0m\u001b[0m\n",
      "\u001b[1;31mValueError\u001b[0m: Pandas data cast to numpy dtype of object. Check input data with np.asarray(data)."
     ]
    }
   ],
   "source": [
    "#Use statsmodels to assess variables\n",
    "import statsmodels.api as sm\n",
    "\n",
    "logit_model=sm.MNLogit(y_train,x_train)\n",
    "logit_model\n",
    "\n",
    "result=logit_model.fit()\n",
    "\n",
    "stats1=result.summary()\n",
    "stats2=result.summary2()\n",
    "print(stats1)\n",
    "print(stats2)"
   ]
  },
  {
   "cell_type": "code",
   "execution_count": null,
   "metadata": {},
   "outputs": [],
   "source": []
  }
 ],
 "metadata": {
  "kernelspec": {
   "display_name": "Python 3",
   "language": "python",
   "name": "python3"
  },
  "language_info": {
   "codemirror_mode": {
    "name": "ipython",
    "version": 3
   },
   "file_extension": ".py",
   "mimetype": "text/x-python",
   "name": "python",
   "nbconvert_exporter": "python",
   "pygments_lexer": "ipython3",
   "version": "3.8.5"
  },
  "metadata": {
   "interpreter": {
    "hash": "aee8b7b246df8f9039afb4144a1f6fd8d2ca17a180786b69acc140d282b71a49"
   }
  }
 },
 "nbformat": 4,
 "nbformat_minor": 4
}
